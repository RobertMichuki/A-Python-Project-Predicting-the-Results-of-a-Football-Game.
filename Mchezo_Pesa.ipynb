{
  "cells": [
    {
      "cell_type": "markdown",
      "metadata": {
        "id": "view-in-github",
        "colab_type": "text"
      },
      "source": [
        "<a href=\"https://colab.research.google.com/github/RobertMichuki/A-Python-Project-Predicting-the-Results-of-a-Football-Game./blob/main/Mchezo_Pesa.ipynb\" target=\"_parent\"><img src=\"https://colab.research.google.com/assets/colab-badge.svg\" alt=\"Open In Colab\"/></a>"
      ]
    },
    {
      "cell_type": "markdown",
      "metadata": {
        "id": "rOfvPoVOZFC7"
      },
      "source": [
        "# **INTRODUCTION**\n",
        "You have been recruited as a football analyst in a company - Mchezopesa Ltd and tasked to accomplish the task below.\n",
        "A prediction result of a game between team 1 and team 2, based on who's home and who's away, and on whether or not the game is friendly (include rank in your training).\n",
        "You have two possible approaches (as shown below) given the datasets that will be provided; \n",
        "1.  Polynomial Approach\n",
        "2.  Logistic Approach\n",
        "\n",
        "\n",
        "\n"
      ]
    },
    {
      "cell_type": "markdown",
      "metadata": {
        "id": "BSFUaIHgaNIk"
      },
      "source": [
        "In order to work on the above problem, we will do the following:\n",
        "\n",
        "Define the question, the metric for success, the context, experimental design taken and the appropriateness of the available data to answer the given question\n",
        "This will be done by carrying out the following steps:\n",
        "\n",
        "- Performing EDA\n",
        "\n",
        "- Performing any necessary feature engineering \n",
        "\n",
        "- Checking for multicollinearity\n",
        "\n",
        "- Building the model\n",
        "\n",
        "- Cross-validate the model\n",
        "\n",
        "- Compute RMSE\n",
        "\n",
        "- Create residual plots for your models, and assess their heteroscedasticity \n",
        "using Bartlett’s test\n",
        "\n",
        "- Perform appropriate regressions on the data including your justification\n",
        "\n",
        "- Challenge our solution by providing insights on how we can make improvements.\n",
        "\n",
        "\n",
        "\n",
        "\n",
        "\n",
        "\n"
      ]
    },
    {
      "cell_type": "markdown",
      "metadata": {
        "id": "d1rxnK5yaDqf"
      },
      "source": [
        "**Approach 1:** Polynomial approach\n",
        "\n",
        "What to train given:\n",
        "\n",
        "1. Rank of home team\n",
        "\n",
        "2. Rank of away team\n",
        "\n",
        "3. Tournament type\n",
        "\n",
        "Model 1: Predict how many goals the home team scores.\n",
        "\n",
        "Model 2: Predict how many goals the away team scores.\n"
      ]
    },
    {
      "cell_type": "code",
      "execution_count": 3,
      "metadata": {
        "id": "mizGwUO7TwPo"
      },
      "outputs": [],
      "source": [
        "# Loading required libraries\n",
        "\n",
        "import numpy as np\n",
        "import pandas as pd\n",
        "import seaborn as sns\n",
        "import matplotlib.pyplot as plt\n",
        "import statistics\n",
        "\n"
      ]
    },
    {
      "cell_type": "code",
      "execution_count": 8,
      "metadata": {
        "id": "xJbInwnebfaO"
      },
      "outputs": [],
      "source": [
        "# Loading dataset\n",
        "fifa_ranking = pd.read_csv(\"fifa_ranking.csv\")\n",
        "results = pd.read_csv(\"results.csv\")"
      ]
    },
    {
      "cell_type": "markdown",
      "metadata": {
        "id": "_KkNSJvuvmya"
      },
      "source": [
        "### **Exploratory Data Analysis**"
      ]
    },
    {
      "cell_type": "code",
      "execution_count": 9,
      "metadata": {
        "colab": {
          "base_uri": "https://localhost:8080/"
        },
        "id": "uTNNwpclb6Fa",
        "outputId": "643ea65c-c076-4a55-b754-f6e067d99e4b"
      },
      "outputs": [
        {
          "output_type": "stream",
          "name": "stdout",
          "text": [
            "<class 'pandas.core.frame.DataFrame'>\n",
            "RangeIndex: 57793 entries, 0 to 57792\n",
            "Data columns (total 16 columns):\n",
            " #   Column                   Non-Null Count  Dtype  \n",
            "---  ------                   --------------  -----  \n",
            " 0   rank                     57793 non-null  int64  \n",
            " 1   country_full             57793 non-null  object \n",
            " 2   country_abrv             57793 non-null  object \n",
            " 3   total_points             57793 non-null  float64\n",
            " 4   previous_points          57793 non-null  int64  \n",
            " 5   rank_change              57793 non-null  int64  \n",
            " 6   cur_year_avg             57793 non-null  float64\n",
            " 7   cur_year_avg_weighted    57793 non-null  float64\n",
            " 8   last_year_avg            57793 non-null  float64\n",
            " 9   last_year_avg_weighted   57793 non-null  float64\n",
            " 10  two_year_ago_avg         57793 non-null  float64\n",
            " 11  two_year_ago_weighted    57793 non-null  float64\n",
            " 12  three_year_ago_avg       57793 non-null  float64\n",
            " 13  three_year_ago_weighted  57793 non-null  float64\n",
            " 14  confederation            57793 non-null  object \n",
            " 15  rank_date                57793 non-null  object \n",
            "dtypes: float64(9), int64(3), object(4)\n",
            "memory usage: 7.1+ MB\n"
          ]
        }
      ],
      "source": [
        "# Viewing the first five entries for both datasets\n",
        "fifa_ranking.head()\n",
        "results.head()\n",
        "fifa_ranking.info()"
      ]
    },
    {
      "cell_type": "code",
      "execution_count": 10,
      "metadata": {
        "colab": {
          "base_uri": "https://localhost:8080/",
          "height": 206
        },
        "id": "dmA65gZoAHEf",
        "outputId": "f1f424fb-90ce-4338-a4fa-51f4ef40c906"
      },
      "outputs": [
        {
          "output_type": "execute_result",
          "data": {
            "text/plain": [
              "             date         home_team        away_team  home_score  away_score  \\\n",
              "40834  2019-07-18    American Samoa           Tahiti           8           1   \n",
              "40835  2019-07-18              Fiji  Solomon Islands           4           4   \n",
              "40836  2019-07-19           Senegal          Algeria           0           1   \n",
              "40837  2019-07-19        Tajikistan      North Korea           0           1   \n",
              "40838  2019-07-20  Papua New Guinea             Fiji           1           1   \n",
              "\n",
              "                   tournament       city country  neutral  \n",
              "40834           Pacific Games       Apia   Samoa     True  \n",
              "40835           Pacific Games       Apia   Samoa     True  \n",
              "40836  African Cup of Nations      Cairo   Egypt     True  \n",
              "40837    Intercontinental Cup  Ahmedabad   India     True  \n",
              "40838           Pacific Games       Apia   Samoa     True  "
            ],
            "text/html": [
              "\n",
              "  <div id=\"df-5e81aec4-6822-483d-b590-2fa873702e0d\">\n",
              "    <div class=\"colab-df-container\">\n",
              "      <div>\n",
              "<style scoped>\n",
              "    .dataframe tbody tr th:only-of-type {\n",
              "        vertical-align: middle;\n",
              "    }\n",
              "\n",
              "    .dataframe tbody tr th {\n",
              "        vertical-align: top;\n",
              "    }\n",
              "\n",
              "    .dataframe thead th {\n",
              "        text-align: right;\n",
              "    }\n",
              "</style>\n",
              "<table border=\"1\" class=\"dataframe\">\n",
              "  <thead>\n",
              "    <tr style=\"text-align: right;\">\n",
              "      <th></th>\n",
              "      <th>date</th>\n",
              "      <th>home_team</th>\n",
              "      <th>away_team</th>\n",
              "      <th>home_score</th>\n",
              "      <th>away_score</th>\n",
              "      <th>tournament</th>\n",
              "      <th>city</th>\n",
              "      <th>country</th>\n",
              "      <th>neutral</th>\n",
              "    </tr>\n",
              "  </thead>\n",
              "  <tbody>\n",
              "    <tr>\n",
              "      <th>40834</th>\n",
              "      <td>2019-07-18</td>\n",
              "      <td>American Samoa</td>\n",
              "      <td>Tahiti</td>\n",
              "      <td>8</td>\n",
              "      <td>1</td>\n",
              "      <td>Pacific Games</td>\n",
              "      <td>Apia</td>\n",
              "      <td>Samoa</td>\n",
              "      <td>True</td>\n",
              "    </tr>\n",
              "    <tr>\n",
              "      <th>40835</th>\n",
              "      <td>2019-07-18</td>\n",
              "      <td>Fiji</td>\n",
              "      <td>Solomon Islands</td>\n",
              "      <td>4</td>\n",
              "      <td>4</td>\n",
              "      <td>Pacific Games</td>\n",
              "      <td>Apia</td>\n",
              "      <td>Samoa</td>\n",
              "      <td>True</td>\n",
              "    </tr>\n",
              "    <tr>\n",
              "      <th>40836</th>\n",
              "      <td>2019-07-19</td>\n",
              "      <td>Senegal</td>\n",
              "      <td>Algeria</td>\n",
              "      <td>0</td>\n",
              "      <td>1</td>\n",
              "      <td>African Cup of Nations</td>\n",
              "      <td>Cairo</td>\n",
              "      <td>Egypt</td>\n",
              "      <td>True</td>\n",
              "    </tr>\n",
              "    <tr>\n",
              "      <th>40837</th>\n",
              "      <td>2019-07-19</td>\n",
              "      <td>Tajikistan</td>\n",
              "      <td>North Korea</td>\n",
              "      <td>0</td>\n",
              "      <td>1</td>\n",
              "      <td>Intercontinental Cup</td>\n",
              "      <td>Ahmedabad</td>\n",
              "      <td>India</td>\n",
              "      <td>True</td>\n",
              "    </tr>\n",
              "    <tr>\n",
              "      <th>40838</th>\n",
              "      <td>2019-07-20</td>\n",
              "      <td>Papua New Guinea</td>\n",
              "      <td>Fiji</td>\n",
              "      <td>1</td>\n",
              "      <td>1</td>\n",
              "      <td>Pacific Games</td>\n",
              "      <td>Apia</td>\n",
              "      <td>Samoa</td>\n",
              "      <td>True</td>\n",
              "    </tr>\n",
              "  </tbody>\n",
              "</table>\n",
              "</div>\n",
              "      <button class=\"colab-df-convert\" onclick=\"convertToInteractive('df-5e81aec4-6822-483d-b590-2fa873702e0d')\"\n",
              "              title=\"Convert this dataframe to an interactive table.\"\n",
              "              style=\"display:none;\">\n",
              "        \n",
              "  <svg xmlns=\"http://www.w3.org/2000/svg\" height=\"24px\"viewBox=\"0 0 24 24\"\n",
              "       width=\"24px\">\n",
              "    <path d=\"M0 0h24v24H0V0z\" fill=\"none\"/>\n",
              "    <path d=\"M18.56 5.44l.94 2.06.94-2.06 2.06-.94-2.06-.94-.94-2.06-.94 2.06-2.06.94zm-11 1L8.5 8.5l.94-2.06 2.06-.94-2.06-.94L8.5 2.5l-.94 2.06-2.06.94zm10 10l.94 2.06.94-2.06 2.06-.94-2.06-.94-.94-2.06-.94 2.06-2.06.94z\"/><path d=\"M17.41 7.96l-1.37-1.37c-.4-.4-.92-.59-1.43-.59-.52 0-1.04.2-1.43.59L10.3 9.45l-7.72 7.72c-.78.78-.78 2.05 0 2.83L4 21.41c.39.39.9.59 1.41.59.51 0 1.02-.2 1.41-.59l7.78-7.78 2.81-2.81c.8-.78.8-2.07 0-2.86zM5.41 20L4 18.59l7.72-7.72 1.47 1.35L5.41 20z\"/>\n",
              "  </svg>\n",
              "      </button>\n",
              "      \n",
              "  <style>\n",
              "    .colab-df-container {\n",
              "      display:flex;\n",
              "      flex-wrap:wrap;\n",
              "      gap: 12px;\n",
              "    }\n",
              "\n",
              "    .colab-df-convert {\n",
              "      background-color: #E8F0FE;\n",
              "      border: none;\n",
              "      border-radius: 50%;\n",
              "      cursor: pointer;\n",
              "      display: none;\n",
              "      fill: #1967D2;\n",
              "      height: 32px;\n",
              "      padding: 0 0 0 0;\n",
              "      width: 32px;\n",
              "    }\n",
              "\n",
              "    .colab-df-convert:hover {\n",
              "      background-color: #E2EBFA;\n",
              "      box-shadow: 0px 1px 2px rgba(60, 64, 67, 0.3), 0px 1px 3px 1px rgba(60, 64, 67, 0.15);\n",
              "      fill: #174EA6;\n",
              "    }\n",
              "\n",
              "    [theme=dark] .colab-df-convert {\n",
              "      background-color: #3B4455;\n",
              "      fill: #D2E3FC;\n",
              "    }\n",
              "\n",
              "    [theme=dark] .colab-df-convert:hover {\n",
              "      background-color: #434B5C;\n",
              "      box-shadow: 0px 1px 3px 1px rgba(0, 0, 0, 0.15);\n",
              "      filter: drop-shadow(0px 1px 2px rgba(0, 0, 0, 0.3));\n",
              "      fill: #FFFFFF;\n",
              "    }\n",
              "  </style>\n",
              "\n",
              "      <script>\n",
              "        const buttonEl =\n",
              "          document.querySelector('#df-5e81aec4-6822-483d-b590-2fa873702e0d button.colab-df-convert');\n",
              "        buttonEl.style.display =\n",
              "          google.colab.kernel.accessAllowed ? 'block' : 'none';\n",
              "\n",
              "        async function convertToInteractive(key) {\n",
              "          const element = document.querySelector('#df-5e81aec4-6822-483d-b590-2fa873702e0d');\n",
              "          const dataTable =\n",
              "            await google.colab.kernel.invokeFunction('convertToInteractive',\n",
              "                                                     [key], {});\n",
              "          if (!dataTable) return;\n",
              "\n",
              "          const docLinkHtml = 'Like what you see? Visit the ' +\n",
              "            '<a target=\"_blank\" href=https://colab.research.google.com/notebooks/data_table.ipynb>data table notebook</a>'\n",
              "            + ' to learn more about interactive tables.';\n",
              "          element.innerHTML = '';\n",
              "          dataTable['output_type'] = 'display_data';\n",
              "          await google.colab.output.renderOutput(dataTable, element);\n",
              "          const docLink = document.createElement('div');\n",
              "          docLink.innerHTML = docLinkHtml;\n",
              "          element.appendChild(docLink);\n",
              "        }\n",
              "      </script>\n",
              "    </div>\n",
              "  </div>\n",
              "  "
            ]
          },
          "metadata": {},
          "execution_count": 10
        }
      ],
      "source": [
        "# Checking last five entries for both datasets\n",
        "\n",
        "fifa_ranking.tail()\n",
        "results.tail()"
      ]
    },
    {
      "cell_type": "code",
      "source": [
        "# Looking at the common variables in the two datasets before merging\n",
        "results['date'].unique()\n",
        "\n",
        "# The years run from 1872 to 2019\n",
        "\n",
        "fifa_ranking['rank_date'].unique()\n",
        "# The years run from 1993 to 2006\n",
        "\n",
        "results['country'].value_counts()\n",
        "# There are 266 unique countries\n",
        "\n",
        "fifa_ranking['country_full'].value_counts()\n",
        "# There are 209 unique countries"
      ],
      "metadata": {
        "id": "s1MDMVNNIln6",
        "outputId": "efbc7692-9aa2-46d5-a75b-3045d74ff286",
        "colab": {
          "base_uri": "https://localhost:8080/"
        }
      },
      "execution_count": 11,
      "outputs": [
        {
          "output_type": "execute_result",
          "data": {
            "text/plain": [
              "Sudan                    325\n",
              "Germany                  286\n",
              "Burkina Faso             286\n",
              "Myanmar                  286\n",
              "Congo                    286\n",
              "                        ... \n",
              "Zaire                     66\n",
              "Serbia and Montenegro     43\n",
              "Kosovo                    24\n",
              "Gibraltar                 22\n",
              "RCS                        5\n",
              "Name: country_full, Length: 216, dtype: int64"
            ]
          },
          "metadata": {},
          "execution_count": 11
        }
      ]
    },
    {
      "cell_type": "code",
      "execution_count": 14,
      "metadata": {
        "colab": {
          "base_uri": "https://localhost:8080/",
          "height": 421
        },
        "id": "DIz4m-nyucFl",
        "outputId": "627d08e2-6cb1-4f5a-a2fe-15f9277d69b8"
      },
      "outputs": [
        {
          "output_type": "execute_result",
          "data": {
            "text/plain": [
              "   rank   country country_abrv  total_points  previous_points  rank_change  \\\n",
              "0     8    Brazil          BRA           0.0               55           -5   \n",
              "1    35   Ecuador          ECU           0.0               23           30   \n",
              "2    50  Zimbabwe          ZIM           0.0               27            4   \n",
              "3    59   Bolivia          BOL           0.0               13           28   \n",
              "4    65    Guinea          GUI           0.0               23           -2   \n",
              "\n",
              "   cur_year_avg  cur_year_avg_weighted  last_year_avg  last_year_avg_weighted  \\\n",
              "0           0.0                    0.0            0.0                     0.0   \n",
              "1           0.0                    0.0            0.0                     0.0   \n",
              "2           0.0                    0.0            0.0                     0.0   \n",
              "3           0.0                    0.0            0.0                     0.0   \n",
              "4           0.0                    0.0            0.0                     0.0   \n",
              "\n",
              "   ...  three_year_ago_weighted  confederation        date  home_team  \\\n",
              "0  ...                      0.0       CONMEBOL  1993-08-08     Brazil   \n",
              "1  ...                      0.0       CONMEBOL  1993-08-08    Ecuador   \n",
              "2  ...                      0.0            CAF  1993-08-08   Zimbabwe   \n",
              "3  ...                      0.0       CONMEBOL  1993-08-08    Bolivia   \n",
              "4  ...                      0.0            CAF  1993-08-08     Guinea   \n",
              "\n",
              "      away_team home_score away_score                    tournament     city  \\\n",
              "0        Mexico          1          1                      Friendly   Maceió   \n",
              "1     Venezuela          5          0  FIFA World Cup qualification    Quito   \n",
              "2      Eswatini          2          0                      Friendly   Harare   \n",
              "3       Uruguay          3          1  FIFA World Cup qualification   La Paz   \n",
              "4  Sierra Leone          1          0                      Friendly  Conakry   \n",
              "\n",
              "   neutral  \n",
              "0    False  \n",
              "1    False  \n",
              "2    False  \n",
              "3    False  \n",
              "4    False  \n",
              "\n",
              "[5 rows x 23 columns]"
            ],
            "text/html": [
              "\n",
              "  <div id=\"df-2ab58148-d26c-4291-bc89-7d70354cfce2\">\n",
              "    <div class=\"colab-df-container\">\n",
              "      <div>\n",
              "<style scoped>\n",
              "    .dataframe tbody tr th:only-of-type {\n",
              "        vertical-align: middle;\n",
              "    }\n",
              "\n",
              "    .dataframe tbody tr th {\n",
              "        vertical-align: top;\n",
              "    }\n",
              "\n",
              "    .dataframe thead th {\n",
              "        text-align: right;\n",
              "    }\n",
              "</style>\n",
              "<table border=\"1\" class=\"dataframe\">\n",
              "  <thead>\n",
              "    <tr style=\"text-align: right;\">\n",
              "      <th></th>\n",
              "      <th>rank</th>\n",
              "      <th>country</th>\n",
              "      <th>country_abrv</th>\n",
              "      <th>total_points</th>\n",
              "      <th>previous_points</th>\n",
              "      <th>rank_change</th>\n",
              "      <th>cur_year_avg</th>\n",
              "      <th>cur_year_avg_weighted</th>\n",
              "      <th>last_year_avg</th>\n",
              "      <th>last_year_avg_weighted</th>\n",
              "      <th>...</th>\n",
              "      <th>three_year_ago_weighted</th>\n",
              "      <th>confederation</th>\n",
              "      <th>date</th>\n",
              "      <th>home_team</th>\n",
              "      <th>away_team</th>\n",
              "      <th>home_score</th>\n",
              "      <th>away_score</th>\n",
              "      <th>tournament</th>\n",
              "      <th>city</th>\n",
              "      <th>neutral</th>\n",
              "    </tr>\n",
              "  </thead>\n",
              "  <tbody>\n",
              "    <tr>\n",
              "      <th>0</th>\n",
              "      <td>8</td>\n",
              "      <td>Brazil</td>\n",
              "      <td>BRA</td>\n",
              "      <td>0.0</td>\n",
              "      <td>55</td>\n",
              "      <td>-5</td>\n",
              "      <td>0.0</td>\n",
              "      <td>0.0</td>\n",
              "      <td>0.0</td>\n",
              "      <td>0.0</td>\n",
              "      <td>...</td>\n",
              "      <td>0.0</td>\n",
              "      <td>CONMEBOL</td>\n",
              "      <td>1993-08-08</td>\n",
              "      <td>Brazil</td>\n",
              "      <td>Mexico</td>\n",
              "      <td>1</td>\n",
              "      <td>1</td>\n",
              "      <td>Friendly</td>\n",
              "      <td>Maceió</td>\n",
              "      <td>False</td>\n",
              "    </tr>\n",
              "    <tr>\n",
              "      <th>1</th>\n",
              "      <td>35</td>\n",
              "      <td>Ecuador</td>\n",
              "      <td>ECU</td>\n",
              "      <td>0.0</td>\n",
              "      <td>23</td>\n",
              "      <td>30</td>\n",
              "      <td>0.0</td>\n",
              "      <td>0.0</td>\n",
              "      <td>0.0</td>\n",
              "      <td>0.0</td>\n",
              "      <td>...</td>\n",
              "      <td>0.0</td>\n",
              "      <td>CONMEBOL</td>\n",
              "      <td>1993-08-08</td>\n",
              "      <td>Ecuador</td>\n",
              "      <td>Venezuela</td>\n",
              "      <td>5</td>\n",
              "      <td>0</td>\n",
              "      <td>FIFA World Cup qualification</td>\n",
              "      <td>Quito</td>\n",
              "      <td>False</td>\n",
              "    </tr>\n",
              "    <tr>\n",
              "      <th>2</th>\n",
              "      <td>50</td>\n",
              "      <td>Zimbabwe</td>\n",
              "      <td>ZIM</td>\n",
              "      <td>0.0</td>\n",
              "      <td>27</td>\n",
              "      <td>4</td>\n",
              "      <td>0.0</td>\n",
              "      <td>0.0</td>\n",
              "      <td>0.0</td>\n",
              "      <td>0.0</td>\n",
              "      <td>...</td>\n",
              "      <td>0.0</td>\n",
              "      <td>CAF</td>\n",
              "      <td>1993-08-08</td>\n",
              "      <td>Zimbabwe</td>\n",
              "      <td>Eswatini</td>\n",
              "      <td>2</td>\n",
              "      <td>0</td>\n",
              "      <td>Friendly</td>\n",
              "      <td>Harare</td>\n",
              "      <td>False</td>\n",
              "    </tr>\n",
              "    <tr>\n",
              "      <th>3</th>\n",
              "      <td>59</td>\n",
              "      <td>Bolivia</td>\n",
              "      <td>BOL</td>\n",
              "      <td>0.0</td>\n",
              "      <td>13</td>\n",
              "      <td>28</td>\n",
              "      <td>0.0</td>\n",
              "      <td>0.0</td>\n",
              "      <td>0.0</td>\n",
              "      <td>0.0</td>\n",
              "      <td>...</td>\n",
              "      <td>0.0</td>\n",
              "      <td>CONMEBOL</td>\n",
              "      <td>1993-08-08</td>\n",
              "      <td>Bolivia</td>\n",
              "      <td>Uruguay</td>\n",
              "      <td>3</td>\n",
              "      <td>1</td>\n",
              "      <td>FIFA World Cup qualification</td>\n",
              "      <td>La Paz</td>\n",
              "      <td>False</td>\n",
              "    </tr>\n",
              "    <tr>\n",
              "      <th>4</th>\n",
              "      <td>65</td>\n",
              "      <td>Guinea</td>\n",
              "      <td>GUI</td>\n",
              "      <td>0.0</td>\n",
              "      <td>23</td>\n",
              "      <td>-2</td>\n",
              "      <td>0.0</td>\n",
              "      <td>0.0</td>\n",
              "      <td>0.0</td>\n",
              "      <td>0.0</td>\n",
              "      <td>...</td>\n",
              "      <td>0.0</td>\n",
              "      <td>CAF</td>\n",
              "      <td>1993-08-08</td>\n",
              "      <td>Guinea</td>\n",
              "      <td>Sierra Leone</td>\n",
              "      <td>1</td>\n",
              "      <td>0</td>\n",
              "      <td>Friendly</td>\n",
              "      <td>Conakry</td>\n",
              "      <td>False</td>\n",
              "    </tr>\n",
              "  </tbody>\n",
              "</table>\n",
              "<p>5 rows × 23 columns</p>\n",
              "</div>\n",
              "      <button class=\"colab-df-convert\" onclick=\"convertToInteractive('df-2ab58148-d26c-4291-bc89-7d70354cfce2')\"\n",
              "              title=\"Convert this dataframe to an interactive table.\"\n",
              "              style=\"display:none;\">\n",
              "        \n",
              "  <svg xmlns=\"http://www.w3.org/2000/svg\" height=\"24px\"viewBox=\"0 0 24 24\"\n",
              "       width=\"24px\">\n",
              "    <path d=\"M0 0h24v24H0V0z\" fill=\"none\"/>\n",
              "    <path d=\"M18.56 5.44l.94 2.06.94-2.06 2.06-.94-2.06-.94-.94-2.06-.94 2.06-2.06.94zm-11 1L8.5 8.5l.94-2.06 2.06-.94-2.06-.94L8.5 2.5l-.94 2.06-2.06.94zm10 10l.94 2.06.94-2.06 2.06-.94-2.06-.94-.94-2.06-.94 2.06-2.06.94z\"/><path d=\"M17.41 7.96l-1.37-1.37c-.4-.4-.92-.59-1.43-.59-.52 0-1.04.2-1.43.59L10.3 9.45l-7.72 7.72c-.78.78-.78 2.05 0 2.83L4 21.41c.39.39.9.59 1.41.59.51 0 1.02-.2 1.41-.59l7.78-7.78 2.81-2.81c.8-.78.8-2.07 0-2.86zM5.41 20L4 18.59l7.72-7.72 1.47 1.35L5.41 20z\"/>\n",
              "  </svg>\n",
              "      </button>\n",
              "      \n",
              "  <style>\n",
              "    .colab-df-container {\n",
              "      display:flex;\n",
              "      flex-wrap:wrap;\n",
              "      gap: 12px;\n",
              "    }\n",
              "\n",
              "    .colab-df-convert {\n",
              "      background-color: #E8F0FE;\n",
              "      border: none;\n",
              "      border-radius: 50%;\n",
              "      cursor: pointer;\n",
              "      display: none;\n",
              "      fill: #1967D2;\n",
              "      height: 32px;\n",
              "      padding: 0 0 0 0;\n",
              "      width: 32px;\n",
              "    }\n",
              "\n",
              "    .colab-df-convert:hover {\n",
              "      background-color: #E2EBFA;\n",
              "      box-shadow: 0px 1px 2px rgba(60, 64, 67, 0.3), 0px 1px 3px 1px rgba(60, 64, 67, 0.15);\n",
              "      fill: #174EA6;\n",
              "    }\n",
              "\n",
              "    [theme=dark] .colab-df-convert {\n",
              "      background-color: #3B4455;\n",
              "      fill: #D2E3FC;\n",
              "    }\n",
              "\n",
              "    [theme=dark] .colab-df-convert:hover {\n",
              "      background-color: #434B5C;\n",
              "      box-shadow: 0px 1px 3px 1px rgba(0, 0, 0, 0.15);\n",
              "      filter: drop-shadow(0px 1px 2px rgba(0, 0, 0, 0.3));\n",
              "      fill: #FFFFFF;\n",
              "    }\n",
              "  </style>\n",
              "\n",
              "      <script>\n",
              "        const buttonEl =\n",
              "          document.querySelector('#df-2ab58148-d26c-4291-bc89-7d70354cfce2 button.colab-df-convert');\n",
              "        buttonEl.style.display =\n",
              "          google.colab.kernel.accessAllowed ? 'block' : 'none';\n",
              "\n",
              "        async function convertToInteractive(key) {\n",
              "          const element = document.querySelector('#df-2ab58148-d26c-4291-bc89-7d70354cfce2');\n",
              "          const dataTable =\n",
              "            await google.colab.kernel.invokeFunction('convertToInteractive',\n",
              "                                                     [key], {});\n",
              "          if (!dataTable) return;\n",
              "\n",
              "          const docLinkHtml = 'Like what you see? Visit the ' +\n",
              "            '<a target=\"_blank\" href=https://colab.research.google.com/notebooks/data_table.ipynb>data table notebook</a>'\n",
              "            + ' to learn more about interactive tables.';\n",
              "          element.innerHTML = '';\n",
              "          dataTable['output_type'] = 'display_data';\n",
              "          await google.colab.output.renderOutput(dataTable, element);\n",
              "          const docLink = document.createElement('div');\n",
              "          docLink.innerHTML = docLinkHtml;\n",
              "          element.appendChild(docLink);\n",
              "        }\n",
              "      </script>\n",
              "    </div>\n",
              "  </div>\n",
              "  "
            ]
          },
          "metadata": {},
          "execution_count": 14
        }
      ],
      "source": [
        "# merging the two datasets\n",
        "# Renaming the columns we'll merge it on i.e date and rank_date in fifa_ranking dataset and country_full(fifa_ranking) and country(results)\n",
        "fifa_ranking.rename(columns = {'rank_date':'date'}, inplace = True)\n",
        "fifa_ranking.rename(columns = {'country_full':'country'}, inplace = True)\n",
        "\n",
        "# Merging the two datasets and naming it 'data'\n",
        "dataset = pd.merge(fifa_ranking, results, how = 'inner')\n",
        "\n",
        "# Viewing first 5 entries of our merged dataset\n",
        "dataset.head()"
      ]
    },
    {
      "cell_type": "code",
      "execution_count": 15,
      "metadata": {
        "colab": {
          "base_uri": "https://localhost:8080/",
          "height": 885
        },
        "id": "BfkxIGKYu86M",
        "outputId": "0e540a6b-f23a-47e1-c69b-05a604517f5b"
      },
      "outputs": [
        {
          "output_type": "stream",
          "name": "stdout",
          "text": [
            "<class 'pandas.core.frame.DataFrame'>\n",
            "Int64Index: 950 entries, 0 to 949\n",
            "Data columns (total 23 columns):\n",
            " #   Column                   Non-Null Count  Dtype  \n",
            "---  ------                   --------------  -----  \n",
            " 0   rank                     950 non-null    int64  \n",
            " 1   country                  950 non-null    object \n",
            " 2   country_abrv             950 non-null    object \n",
            " 3   total_points             950 non-null    float64\n",
            " 4   previous_points          950 non-null    int64  \n",
            " 5   rank_change              950 non-null    int64  \n",
            " 6   cur_year_avg             950 non-null    float64\n",
            " 7   cur_year_avg_weighted    950 non-null    float64\n",
            " 8   last_year_avg            950 non-null    float64\n",
            " 9   last_year_avg_weighted   950 non-null    float64\n",
            " 10  two_year_ago_avg         950 non-null    float64\n",
            " 11  two_year_ago_weighted    950 non-null    float64\n",
            " 12  three_year_ago_avg       950 non-null    float64\n",
            " 13  three_year_ago_weighted  950 non-null    float64\n",
            " 14  confederation            950 non-null    object \n",
            " 15  date                     950 non-null    object \n",
            " 16  home_team                950 non-null    object \n",
            " 17  away_team                950 non-null    object \n",
            " 18  home_score               950 non-null    int64  \n",
            " 19  away_score               950 non-null    int64  \n",
            " 20  tournament               950 non-null    object \n",
            " 21  city                     950 non-null    object \n",
            " 22  neutral                  950 non-null    bool   \n",
            "dtypes: bool(1), float64(9), int64(5), object(8)\n",
            "memory usage: 171.6+ KB\n"
          ]
        },
        {
          "output_type": "execute_result",
          "data": {
            "text/plain": [
              "             rank  total_points  previous_points  rank_change  cur_year_avg  \\\n",
              "count  950.000000    950.000000       950.000000   950.000000    950.000000   \n",
              "mean    64.905263     52.182116       474.214737    -0.116842     26.510495   \n",
              "std     48.075168    190.135933       318.043068     4.420952     97.787086   \n",
              "min      1.000000      0.000000         0.000000   -22.000000      0.000000   \n",
              "25%     24.000000      0.000000       233.500000    -2.000000      0.000000   \n",
              "50%     56.000000      0.000000       484.000000     0.000000      0.000000   \n",
              "75%     96.000000      0.000000       662.500000     1.000000      0.000000   \n",
              "max    201.000000   1332.160000      1683.000000    30.000000    855.300000   \n",
              "\n",
              "       cur_year_avg_weighted  last_year_avg  last_year_avg_weighted  \\\n",
              "count             950.000000     950.000000              950.000000   \n",
              "mean               26.510495      25.184116               12.592032   \n",
              "std                97.787086      99.671465               49.835482   \n",
              "min                 0.000000       0.000000                0.000000   \n",
              "25%                 0.000000       0.000000                0.000000   \n",
              "50%                 0.000000       0.000000                0.000000   \n",
              "75%                 0.000000       0.000000                0.000000   \n",
              "max               855.300000    1008.940000              504.470000   \n",
              "\n",
              "       two_year_ago_avg  two_year_ago_weighted  three_year_ago_avg  \\\n",
              "count        950.000000             950.000000          950.000000   \n",
              "mean          26.657200               7.997221           25.412653   \n",
              "std          100.257323              30.077366           94.555624   \n",
              "min            0.000000               0.000000            0.000000   \n",
              "25%            0.000000               0.000000            0.000000   \n",
              "50%            0.000000               0.000000            0.000000   \n",
              "75%            0.000000               0.000000            0.000000   \n",
              "max          748.610000             224.580000          640.010000   \n",
              "\n",
              "       three_year_ago_weighted  home_score  away_score  \n",
              "count               950.000000  950.000000  950.000000  \n",
              "mean                  5.082516    1.657895    1.042105  \n",
              "std                  18.911083    1.918743    1.234521  \n",
              "min                   0.000000    0.000000    0.000000  \n",
              "25%                   0.000000    0.000000    0.000000  \n",
              "50%                   0.000000    1.000000    1.000000  \n",
              "75%                   0.000000    2.000000    2.000000  \n",
              "max                 128.000000   31.000000   12.000000  "
            ],
            "text/html": [
              "\n",
              "  <div id=\"df-1ac448e4-b721-4b5c-beee-6b572c4efc0b\">\n",
              "    <div class=\"colab-df-container\">\n",
              "      <div>\n",
              "<style scoped>\n",
              "    .dataframe tbody tr th:only-of-type {\n",
              "        vertical-align: middle;\n",
              "    }\n",
              "\n",
              "    .dataframe tbody tr th {\n",
              "        vertical-align: top;\n",
              "    }\n",
              "\n",
              "    .dataframe thead th {\n",
              "        text-align: right;\n",
              "    }\n",
              "</style>\n",
              "<table border=\"1\" class=\"dataframe\">\n",
              "  <thead>\n",
              "    <tr style=\"text-align: right;\">\n",
              "      <th></th>\n",
              "      <th>rank</th>\n",
              "      <th>total_points</th>\n",
              "      <th>previous_points</th>\n",
              "      <th>rank_change</th>\n",
              "      <th>cur_year_avg</th>\n",
              "      <th>cur_year_avg_weighted</th>\n",
              "      <th>last_year_avg</th>\n",
              "      <th>last_year_avg_weighted</th>\n",
              "      <th>two_year_ago_avg</th>\n",
              "      <th>two_year_ago_weighted</th>\n",
              "      <th>three_year_ago_avg</th>\n",
              "      <th>three_year_ago_weighted</th>\n",
              "      <th>home_score</th>\n",
              "      <th>away_score</th>\n",
              "    </tr>\n",
              "  </thead>\n",
              "  <tbody>\n",
              "    <tr>\n",
              "      <th>count</th>\n",
              "      <td>950.000000</td>\n",
              "      <td>950.000000</td>\n",
              "      <td>950.000000</td>\n",
              "      <td>950.000000</td>\n",
              "      <td>950.000000</td>\n",
              "      <td>950.000000</td>\n",
              "      <td>950.000000</td>\n",
              "      <td>950.000000</td>\n",
              "      <td>950.000000</td>\n",
              "      <td>950.000000</td>\n",
              "      <td>950.000000</td>\n",
              "      <td>950.000000</td>\n",
              "      <td>950.000000</td>\n",
              "      <td>950.000000</td>\n",
              "    </tr>\n",
              "    <tr>\n",
              "      <th>mean</th>\n",
              "      <td>64.905263</td>\n",
              "      <td>52.182116</td>\n",
              "      <td>474.214737</td>\n",
              "      <td>-0.116842</td>\n",
              "      <td>26.510495</td>\n",
              "      <td>26.510495</td>\n",
              "      <td>25.184116</td>\n",
              "      <td>12.592032</td>\n",
              "      <td>26.657200</td>\n",
              "      <td>7.997221</td>\n",
              "      <td>25.412653</td>\n",
              "      <td>5.082516</td>\n",
              "      <td>1.657895</td>\n",
              "      <td>1.042105</td>\n",
              "    </tr>\n",
              "    <tr>\n",
              "      <th>std</th>\n",
              "      <td>48.075168</td>\n",
              "      <td>190.135933</td>\n",
              "      <td>318.043068</td>\n",
              "      <td>4.420952</td>\n",
              "      <td>97.787086</td>\n",
              "      <td>97.787086</td>\n",
              "      <td>99.671465</td>\n",
              "      <td>49.835482</td>\n",
              "      <td>100.257323</td>\n",
              "      <td>30.077366</td>\n",
              "      <td>94.555624</td>\n",
              "      <td>18.911083</td>\n",
              "      <td>1.918743</td>\n",
              "      <td>1.234521</td>\n",
              "    </tr>\n",
              "    <tr>\n",
              "      <th>min</th>\n",
              "      <td>1.000000</td>\n",
              "      <td>0.000000</td>\n",
              "      <td>0.000000</td>\n",
              "      <td>-22.000000</td>\n",
              "      <td>0.000000</td>\n",
              "      <td>0.000000</td>\n",
              "      <td>0.000000</td>\n",
              "      <td>0.000000</td>\n",
              "      <td>0.000000</td>\n",
              "      <td>0.000000</td>\n",
              "      <td>0.000000</td>\n",
              "      <td>0.000000</td>\n",
              "      <td>0.000000</td>\n",
              "      <td>0.000000</td>\n",
              "    </tr>\n",
              "    <tr>\n",
              "      <th>25%</th>\n",
              "      <td>24.000000</td>\n",
              "      <td>0.000000</td>\n",
              "      <td>233.500000</td>\n",
              "      <td>-2.000000</td>\n",
              "      <td>0.000000</td>\n",
              "      <td>0.000000</td>\n",
              "      <td>0.000000</td>\n",
              "      <td>0.000000</td>\n",
              "      <td>0.000000</td>\n",
              "      <td>0.000000</td>\n",
              "      <td>0.000000</td>\n",
              "      <td>0.000000</td>\n",
              "      <td>0.000000</td>\n",
              "      <td>0.000000</td>\n",
              "    </tr>\n",
              "    <tr>\n",
              "      <th>50%</th>\n",
              "      <td>56.000000</td>\n",
              "      <td>0.000000</td>\n",
              "      <td>484.000000</td>\n",
              "      <td>0.000000</td>\n",
              "      <td>0.000000</td>\n",
              "      <td>0.000000</td>\n",
              "      <td>0.000000</td>\n",
              "      <td>0.000000</td>\n",
              "      <td>0.000000</td>\n",
              "      <td>0.000000</td>\n",
              "      <td>0.000000</td>\n",
              "      <td>0.000000</td>\n",
              "      <td>1.000000</td>\n",
              "      <td>1.000000</td>\n",
              "    </tr>\n",
              "    <tr>\n",
              "      <th>75%</th>\n",
              "      <td>96.000000</td>\n",
              "      <td>0.000000</td>\n",
              "      <td>662.500000</td>\n",
              "      <td>1.000000</td>\n",
              "      <td>0.000000</td>\n",
              "      <td>0.000000</td>\n",
              "      <td>0.000000</td>\n",
              "      <td>0.000000</td>\n",
              "      <td>0.000000</td>\n",
              "      <td>0.000000</td>\n",
              "      <td>0.000000</td>\n",
              "      <td>0.000000</td>\n",
              "      <td>2.000000</td>\n",
              "      <td>2.000000</td>\n",
              "    </tr>\n",
              "    <tr>\n",
              "      <th>max</th>\n",
              "      <td>201.000000</td>\n",
              "      <td>1332.160000</td>\n",
              "      <td>1683.000000</td>\n",
              "      <td>30.000000</td>\n",
              "      <td>855.300000</td>\n",
              "      <td>855.300000</td>\n",
              "      <td>1008.940000</td>\n",
              "      <td>504.470000</td>\n",
              "      <td>748.610000</td>\n",
              "      <td>224.580000</td>\n",
              "      <td>640.010000</td>\n",
              "      <td>128.000000</td>\n",
              "      <td>31.000000</td>\n",
              "      <td>12.000000</td>\n",
              "    </tr>\n",
              "  </tbody>\n",
              "</table>\n",
              "</div>\n",
              "      <button class=\"colab-df-convert\" onclick=\"convertToInteractive('df-1ac448e4-b721-4b5c-beee-6b572c4efc0b')\"\n",
              "              title=\"Convert this dataframe to an interactive table.\"\n",
              "              style=\"display:none;\">\n",
              "        \n",
              "  <svg xmlns=\"http://www.w3.org/2000/svg\" height=\"24px\"viewBox=\"0 0 24 24\"\n",
              "       width=\"24px\">\n",
              "    <path d=\"M0 0h24v24H0V0z\" fill=\"none\"/>\n",
              "    <path d=\"M18.56 5.44l.94 2.06.94-2.06 2.06-.94-2.06-.94-.94-2.06-.94 2.06-2.06.94zm-11 1L8.5 8.5l.94-2.06 2.06-.94-2.06-.94L8.5 2.5l-.94 2.06-2.06.94zm10 10l.94 2.06.94-2.06 2.06-.94-2.06-.94-.94-2.06-.94 2.06-2.06.94z\"/><path d=\"M17.41 7.96l-1.37-1.37c-.4-.4-.92-.59-1.43-.59-.52 0-1.04.2-1.43.59L10.3 9.45l-7.72 7.72c-.78.78-.78 2.05 0 2.83L4 21.41c.39.39.9.59 1.41.59.51 0 1.02-.2 1.41-.59l7.78-7.78 2.81-2.81c.8-.78.8-2.07 0-2.86zM5.41 20L4 18.59l7.72-7.72 1.47 1.35L5.41 20z\"/>\n",
              "  </svg>\n",
              "      </button>\n",
              "      \n",
              "  <style>\n",
              "    .colab-df-container {\n",
              "      display:flex;\n",
              "      flex-wrap:wrap;\n",
              "      gap: 12px;\n",
              "    }\n",
              "\n",
              "    .colab-df-convert {\n",
              "      background-color: #E8F0FE;\n",
              "      border: none;\n",
              "      border-radius: 50%;\n",
              "      cursor: pointer;\n",
              "      display: none;\n",
              "      fill: #1967D2;\n",
              "      height: 32px;\n",
              "      padding: 0 0 0 0;\n",
              "      width: 32px;\n",
              "    }\n",
              "\n",
              "    .colab-df-convert:hover {\n",
              "      background-color: #E2EBFA;\n",
              "      box-shadow: 0px 1px 2px rgba(60, 64, 67, 0.3), 0px 1px 3px 1px rgba(60, 64, 67, 0.15);\n",
              "      fill: #174EA6;\n",
              "    }\n",
              "\n",
              "    [theme=dark] .colab-df-convert {\n",
              "      background-color: #3B4455;\n",
              "      fill: #D2E3FC;\n",
              "    }\n",
              "\n",
              "    [theme=dark] .colab-df-convert:hover {\n",
              "      background-color: #434B5C;\n",
              "      box-shadow: 0px 1px 3px 1px rgba(0, 0, 0, 0.15);\n",
              "      filter: drop-shadow(0px 1px 2px rgba(0, 0, 0, 0.3));\n",
              "      fill: #FFFFFF;\n",
              "    }\n",
              "  </style>\n",
              "\n",
              "      <script>\n",
              "        const buttonEl =\n",
              "          document.querySelector('#df-1ac448e4-b721-4b5c-beee-6b572c4efc0b button.colab-df-convert');\n",
              "        buttonEl.style.display =\n",
              "          google.colab.kernel.accessAllowed ? 'block' : 'none';\n",
              "\n",
              "        async function convertToInteractive(key) {\n",
              "          const element = document.querySelector('#df-1ac448e4-b721-4b5c-beee-6b572c4efc0b');\n",
              "          const dataTable =\n",
              "            await google.colab.kernel.invokeFunction('convertToInteractive',\n",
              "                                                     [key], {});\n",
              "          if (!dataTable) return;\n",
              "\n",
              "          const docLinkHtml = 'Like what you see? Visit the ' +\n",
              "            '<a target=\"_blank\" href=https://colab.research.google.com/notebooks/data_table.ipynb>data table notebook</a>'\n",
              "            + ' to learn more about interactive tables.';\n",
              "          element.innerHTML = '';\n",
              "          dataTable['output_type'] = 'display_data';\n",
              "          await google.colab.output.renderOutput(dataTable, element);\n",
              "          const docLink = document.createElement('div');\n",
              "          docLink.innerHTML = docLinkHtml;\n",
              "          element.appendChild(docLink);\n",
              "        }\n",
              "      </script>\n",
              "    </div>\n",
              "  </div>\n",
              "  "
            ]
          },
          "metadata": {},
          "execution_count": 15
        }
      ],
      "source": [
        "## checking for data types and missing values in the dataset\n",
        "dataset.info()\n",
        "dataset.describe()\n",
        "\n",
        "# data consists of numeric and categorical variables\n",
        "# dataset has 23 columns and 950 entries"
      ]
    },
    {
      "cell_type": "code",
      "execution_count": 16,
      "metadata": {
        "colab": {
          "base_uri": "https://localhost:8080/"
        },
        "id": "dbOa8i688Js0",
        "outputId": "a08f755a-f2e9-497d-ebd1-71fc1a3acd73"
      },
      "outputs": [
        {
          "output_type": "execute_result",
          "data": {
            "text/plain": [
              "0"
            ]
          },
          "metadata": {},
          "execution_count": 16
        }
      ],
      "source": [
        "# Checking for missing data\n",
        "dataset.isna().sum()\n",
        "\n",
        "# There are no missing values\n",
        "\n",
        "# Checking for duplicates\n",
        "dataset.duplicated().sum()\n",
        "\n",
        "# There are no duplicates\n"
      ]
    },
    {
      "cell_type": "code",
      "source": [
        "# Dropping the variables we won't need by their respective indices\n",
        "dataset = dataset.drop(dataset.iloc[:,6:14],axis = 1)\n",
        "dataset = dataset.drop(['country_abrv'], axis = 1)\n",
        "dataset.info()\n",
        "\n",
        "\n",
        "# We now have 950 entries and 14 columns"
      ],
      "metadata": {
        "colab": {
          "base_uri": "https://localhost:8080/"
        },
        "id": "2WhyitI65EHn",
        "outputId": "7dc2b8a1-b2ff-476a-c272-42a6dcaea2d0"
      },
      "execution_count": 17,
      "outputs": [
        {
          "output_type": "stream",
          "name": "stdout",
          "text": [
            "<class 'pandas.core.frame.DataFrame'>\n",
            "Int64Index: 950 entries, 0 to 949\n",
            "Data columns (total 14 columns):\n",
            " #   Column           Non-Null Count  Dtype  \n",
            "---  ------           --------------  -----  \n",
            " 0   rank             950 non-null    int64  \n",
            " 1   country          950 non-null    object \n",
            " 2   total_points     950 non-null    float64\n",
            " 3   previous_points  950 non-null    int64  \n",
            " 4   rank_change      950 non-null    int64  \n",
            " 5   confederation    950 non-null    object \n",
            " 6   date             950 non-null    object \n",
            " 7   home_team        950 non-null    object \n",
            " 8   away_team        950 non-null    object \n",
            " 9   home_score       950 non-null    int64  \n",
            " 10  away_score       950 non-null    int64  \n",
            " 11  tournament       950 non-null    object \n",
            " 12  city             950 non-null    object \n",
            " 13  neutral          950 non-null    bool   \n",
            "dtypes: bool(1), float64(1), int64(5), object(7)\n",
            "memory usage: 104.8+ KB\n"
          ]
        }
      ]
    },
    {
      "cell_type": "markdown",
      "metadata": {
        "id": "-4qHNrMXbe9H"
      },
      "source": [
        "## **Univariate Data Analysis**"
      ]
    },
    {
      "cell_type": "markdown",
      "metadata": {
        "id": "bJz5gsHAnoXL"
      },
      "source": [
        "### **Numerical Variables**"
      ]
    },
    {
      "cell_type": "code",
      "execution_count": 18,
      "metadata": {
        "colab": {
          "base_uri": "https://localhost:8080/",
          "height": 300
        },
        "id": "4wD9mTOGTtKy",
        "outputId": "1fd85ae8-41d5-46bf-cb7e-e7f0455b1edf"
      },
      "outputs": [
        {
          "output_type": "execute_result",
          "data": {
            "text/plain": [
              "             rank  total_points  previous_points  rank_change  home_score  \\\n",
              "count  913.000000    913.000000       913.000000   913.000000  913.000000   \n",
              "mean    64.056955     50.374984       476.369113    -0.083242    1.450164   \n",
              "std     47.517183    188.072537       319.742163     4.323497    1.259169   \n",
              "min      1.000000      0.000000         0.000000   -22.000000    0.000000   \n",
              "25%     24.000000      0.000000       235.000000    -2.000000    0.000000   \n",
              "50%     55.000000      0.000000       490.000000     0.000000    1.000000   \n",
              "75%     96.000000      0.000000       665.000000     1.000000    2.000000   \n",
              "max    201.000000   1332.160000      1683.000000    30.000000    5.000000   \n",
              "\n",
              "       away_score  \n",
              "count  913.000000  \n",
              "mean     0.998905  \n",
              "std      1.057035  \n",
              "min      0.000000  \n",
              "25%      0.000000  \n",
              "50%      1.000000  \n",
              "75%      2.000000  \n",
              "max      5.000000  "
            ],
            "text/html": [
              "\n",
              "  <div id=\"df-cecb2207-4de9-44d3-8932-6bb49a197fec\">\n",
              "    <div class=\"colab-df-container\">\n",
              "      <div>\n",
              "<style scoped>\n",
              "    .dataframe tbody tr th:only-of-type {\n",
              "        vertical-align: middle;\n",
              "    }\n",
              "\n",
              "    .dataframe tbody tr th {\n",
              "        vertical-align: top;\n",
              "    }\n",
              "\n",
              "    .dataframe thead th {\n",
              "        text-align: right;\n",
              "    }\n",
              "</style>\n",
              "<table border=\"1\" class=\"dataframe\">\n",
              "  <thead>\n",
              "    <tr style=\"text-align: right;\">\n",
              "      <th></th>\n",
              "      <th>rank</th>\n",
              "      <th>total_points</th>\n",
              "      <th>previous_points</th>\n",
              "      <th>rank_change</th>\n",
              "      <th>home_score</th>\n",
              "      <th>away_score</th>\n",
              "    </tr>\n",
              "  </thead>\n",
              "  <tbody>\n",
              "    <tr>\n",
              "      <th>count</th>\n",
              "      <td>913.000000</td>\n",
              "      <td>913.000000</td>\n",
              "      <td>913.000000</td>\n",
              "      <td>913.000000</td>\n",
              "      <td>913.000000</td>\n",
              "      <td>913.000000</td>\n",
              "    </tr>\n",
              "    <tr>\n",
              "      <th>mean</th>\n",
              "      <td>64.056955</td>\n",
              "      <td>50.374984</td>\n",
              "      <td>476.369113</td>\n",
              "      <td>-0.083242</td>\n",
              "      <td>1.450164</td>\n",
              "      <td>0.998905</td>\n",
              "    </tr>\n",
              "    <tr>\n",
              "      <th>std</th>\n",
              "      <td>47.517183</td>\n",
              "      <td>188.072537</td>\n",
              "      <td>319.742163</td>\n",
              "      <td>4.323497</td>\n",
              "      <td>1.259169</td>\n",
              "      <td>1.057035</td>\n",
              "    </tr>\n",
              "    <tr>\n",
              "      <th>min</th>\n",
              "      <td>1.000000</td>\n",
              "      <td>0.000000</td>\n",
              "      <td>0.000000</td>\n",
              "      <td>-22.000000</td>\n",
              "      <td>0.000000</td>\n",
              "      <td>0.000000</td>\n",
              "    </tr>\n",
              "    <tr>\n",
              "      <th>25%</th>\n",
              "      <td>24.000000</td>\n",
              "      <td>0.000000</td>\n",
              "      <td>235.000000</td>\n",
              "      <td>-2.000000</td>\n",
              "      <td>0.000000</td>\n",
              "      <td>0.000000</td>\n",
              "    </tr>\n",
              "    <tr>\n",
              "      <th>50%</th>\n",
              "      <td>55.000000</td>\n",
              "      <td>0.000000</td>\n",
              "      <td>490.000000</td>\n",
              "      <td>0.000000</td>\n",
              "      <td>1.000000</td>\n",
              "      <td>1.000000</td>\n",
              "    </tr>\n",
              "    <tr>\n",
              "      <th>75%</th>\n",
              "      <td>96.000000</td>\n",
              "      <td>0.000000</td>\n",
              "      <td>665.000000</td>\n",
              "      <td>1.000000</td>\n",
              "      <td>2.000000</td>\n",
              "      <td>2.000000</td>\n",
              "    </tr>\n",
              "    <tr>\n",
              "      <th>max</th>\n",
              "      <td>201.000000</td>\n",
              "      <td>1332.160000</td>\n",
              "      <td>1683.000000</td>\n",
              "      <td>30.000000</td>\n",
              "      <td>5.000000</td>\n",
              "      <td>5.000000</td>\n",
              "    </tr>\n",
              "  </tbody>\n",
              "</table>\n",
              "</div>\n",
              "      <button class=\"colab-df-convert\" onclick=\"convertToInteractive('df-cecb2207-4de9-44d3-8932-6bb49a197fec')\"\n",
              "              title=\"Convert this dataframe to an interactive table.\"\n",
              "              style=\"display:none;\">\n",
              "        \n",
              "  <svg xmlns=\"http://www.w3.org/2000/svg\" height=\"24px\"viewBox=\"0 0 24 24\"\n",
              "       width=\"24px\">\n",
              "    <path d=\"M0 0h24v24H0V0z\" fill=\"none\"/>\n",
              "    <path d=\"M18.56 5.44l.94 2.06.94-2.06 2.06-.94-2.06-.94-.94-2.06-.94 2.06-2.06.94zm-11 1L8.5 8.5l.94-2.06 2.06-.94-2.06-.94L8.5 2.5l-.94 2.06-2.06.94zm10 10l.94 2.06.94-2.06 2.06-.94-2.06-.94-.94-2.06-.94 2.06-2.06.94z\"/><path d=\"M17.41 7.96l-1.37-1.37c-.4-.4-.92-.59-1.43-.59-.52 0-1.04.2-1.43.59L10.3 9.45l-7.72 7.72c-.78.78-.78 2.05 0 2.83L4 21.41c.39.39.9.59 1.41.59.51 0 1.02-.2 1.41-.59l7.78-7.78 2.81-2.81c.8-.78.8-2.07 0-2.86zM5.41 20L4 18.59l7.72-7.72 1.47 1.35L5.41 20z\"/>\n",
              "  </svg>\n",
              "      </button>\n",
              "      \n",
              "  <style>\n",
              "    .colab-df-container {\n",
              "      display:flex;\n",
              "      flex-wrap:wrap;\n",
              "      gap: 12px;\n",
              "    }\n",
              "\n",
              "    .colab-df-convert {\n",
              "      background-color: #E8F0FE;\n",
              "      border: none;\n",
              "      border-radius: 50%;\n",
              "      cursor: pointer;\n",
              "      display: none;\n",
              "      fill: #1967D2;\n",
              "      height: 32px;\n",
              "      padding: 0 0 0 0;\n",
              "      width: 32px;\n",
              "    }\n",
              "\n",
              "    .colab-df-convert:hover {\n",
              "      background-color: #E2EBFA;\n",
              "      box-shadow: 0px 1px 2px rgba(60, 64, 67, 0.3), 0px 1px 3px 1px rgba(60, 64, 67, 0.15);\n",
              "      fill: #174EA6;\n",
              "    }\n",
              "\n",
              "    [theme=dark] .colab-df-convert {\n",
              "      background-color: #3B4455;\n",
              "      fill: #D2E3FC;\n",
              "    }\n",
              "\n",
              "    [theme=dark] .colab-df-convert:hover {\n",
              "      background-color: #434B5C;\n",
              "      box-shadow: 0px 1px 3px 1px rgba(0, 0, 0, 0.15);\n",
              "      filter: drop-shadow(0px 1px 2px rgba(0, 0, 0, 0.3));\n",
              "      fill: #FFFFFF;\n",
              "    }\n",
              "  </style>\n",
              "\n",
              "      <script>\n",
              "        const buttonEl =\n",
              "          document.querySelector('#df-cecb2207-4de9-44d3-8932-6bb49a197fec button.colab-df-convert');\n",
              "        buttonEl.style.display =\n",
              "          google.colab.kernel.accessAllowed ? 'block' : 'none';\n",
              "\n",
              "        async function convertToInteractive(key) {\n",
              "          const element = document.querySelector('#df-cecb2207-4de9-44d3-8932-6bb49a197fec');\n",
              "          const dataTable =\n",
              "            await google.colab.kernel.invokeFunction('convertToInteractive',\n",
              "                                                     [key], {});\n",
              "          if (!dataTable) return;\n",
              "\n",
              "          const docLinkHtml = 'Like what you see? Visit the ' +\n",
              "            '<a target=\"_blank\" href=https://colab.research.google.com/notebooks/data_table.ipynb>data table notebook</a>'\n",
              "            + ' to learn more about interactive tables.';\n",
              "          element.innerHTML = '';\n",
              "          dataTable['output_type'] = 'display_data';\n",
              "          await google.colab.output.renderOutput(dataTable, element);\n",
              "          const docLink = document.createElement('div');\n",
              "          docLink.innerHTML = docLinkHtml;\n",
              "          element.appendChild(docLink);\n",
              "        }\n",
              "      </script>\n",
              "    </div>\n",
              "  </div>\n",
              "  "
            ]
          },
          "metadata": {},
          "execution_count": 18
        }
      ],
      "source": [
        "# Checking the descriptive statistics for our numeric variables in the dataset\n",
        "# This shows the count, mean, standard deviation, minimum and maximum values and the quantiles\n",
        "dataset.describe()\n",
        "\n",
        "# The count statistic for each variable confirms that there's no missing data\n",
        "\n",
        "# The maximum score attained is 31, which is rare\n",
        "# A quick google search confirms that this happened: https://en.wikipedia.org/wiki/Australia_31%E2%80%930_American_Samoa\n",
        "# Realistically, the most a team can score in a match is 5.\n",
        "# We shall proceed to look at the number of rows that record a home and away score greater than 5\n",
        "\n",
        "dataset[dataset['home_score'] > 5]\n",
        "# There are rows with home scores greater than 5\n",
        "\n",
        "dataset[dataset['away_score']>5]\n",
        "# There are rows with home scores greater than 5\n",
        "\n",
        "# Since this is very rare and might affect our model, we shall drop all entries where the home and away scores are greater than 5\n",
        "dataset.drop(dataset.loc[dataset['home_score'] > 5].index, inplace=True)\n",
        "dataset.drop(dataset.loc[dataset['away_score'] > 5].index, inplace=True)\n",
        "\n",
        "# Now checking what the maximum score was\n",
        "dataset.describe()\n",
        "\n",
        "# Our dataset now has 913 entries"
      ]
    },
    {
      "cell_type": "code",
      "execution_count": 19,
      "metadata": {
        "id": "g-YUsMfX1k-K"
      },
      "outputs": [],
      "source": [
        "# Checking for range, quantiles, mode, interquantile range for the numeric variables\n",
        "\n",
        "# First, we create a list of our numerical variables in the Fifa Ranking dataset\n",
        "dataset_numerical = dataset[['rank', 'total_points','previous_points',\n",
        "                               'rank_change', 'home_score', 'away_score']]\n"
      ]
    },
    {
      "cell_type": "code",
      "execution_count": 20,
      "metadata": {
        "colab": {
          "base_uri": "https://localhost:8080/",
          "height": 81
        },
        "id": "37-AL4iJ7Pcq",
        "outputId": "ea6109f4-7db1-405f-8543-2fba5e5db278"
      },
      "outputs": [
        {
          "output_type": "execute_result",
          "data": {
            "text/plain": [
              "   rank  total_points  previous_points  rank_change  home_score  away_score\n",
              "0    12           0.0               40            0           1           0"
            ],
            "text/html": [
              "\n",
              "  <div id=\"df-6c7b23b2-a29d-4e87-b7b5-5de146c70dc5\">\n",
              "    <div class=\"colab-df-container\">\n",
              "      <div>\n",
              "<style scoped>\n",
              "    .dataframe tbody tr th:only-of-type {\n",
              "        vertical-align: middle;\n",
              "    }\n",
              "\n",
              "    .dataframe tbody tr th {\n",
              "        vertical-align: top;\n",
              "    }\n",
              "\n",
              "    .dataframe thead th {\n",
              "        text-align: right;\n",
              "    }\n",
              "</style>\n",
              "<table border=\"1\" class=\"dataframe\">\n",
              "  <thead>\n",
              "    <tr style=\"text-align: right;\">\n",
              "      <th></th>\n",
              "      <th>rank</th>\n",
              "      <th>total_points</th>\n",
              "      <th>previous_points</th>\n",
              "      <th>rank_change</th>\n",
              "      <th>home_score</th>\n",
              "      <th>away_score</th>\n",
              "    </tr>\n",
              "  </thead>\n",
              "  <tbody>\n",
              "    <tr>\n",
              "      <th>0</th>\n",
              "      <td>12</td>\n",
              "      <td>0.0</td>\n",
              "      <td>40</td>\n",
              "      <td>0</td>\n",
              "      <td>1</td>\n",
              "      <td>0</td>\n",
              "    </tr>\n",
              "  </tbody>\n",
              "</table>\n",
              "</div>\n",
              "      <button class=\"colab-df-convert\" onclick=\"convertToInteractive('df-6c7b23b2-a29d-4e87-b7b5-5de146c70dc5')\"\n",
              "              title=\"Convert this dataframe to an interactive table.\"\n",
              "              style=\"display:none;\">\n",
              "        \n",
              "  <svg xmlns=\"http://www.w3.org/2000/svg\" height=\"24px\"viewBox=\"0 0 24 24\"\n",
              "       width=\"24px\">\n",
              "    <path d=\"M0 0h24v24H0V0z\" fill=\"none\"/>\n",
              "    <path d=\"M18.56 5.44l.94 2.06.94-2.06 2.06-.94-2.06-.94-.94-2.06-.94 2.06-2.06.94zm-11 1L8.5 8.5l.94-2.06 2.06-.94-2.06-.94L8.5 2.5l-.94 2.06-2.06.94zm10 10l.94 2.06.94-2.06 2.06-.94-2.06-.94-.94-2.06-.94 2.06-2.06.94z\"/><path d=\"M17.41 7.96l-1.37-1.37c-.4-.4-.92-.59-1.43-.59-.52 0-1.04.2-1.43.59L10.3 9.45l-7.72 7.72c-.78.78-.78 2.05 0 2.83L4 21.41c.39.39.9.59 1.41.59.51 0 1.02-.2 1.41-.59l7.78-7.78 2.81-2.81c.8-.78.8-2.07 0-2.86zM5.41 20L4 18.59l7.72-7.72 1.47 1.35L5.41 20z\"/>\n",
              "  </svg>\n",
              "      </button>\n",
              "      \n",
              "  <style>\n",
              "    .colab-df-container {\n",
              "      display:flex;\n",
              "      flex-wrap:wrap;\n",
              "      gap: 12px;\n",
              "    }\n",
              "\n",
              "    .colab-df-convert {\n",
              "      background-color: #E8F0FE;\n",
              "      border: none;\n",
              "      border-radius: 50%;\n",
              "      cursor: pointer;\n",
              "      display: none;\n",
              "      fill: #1967D2;\n",
              "      height: 32px;\n",
              "      padding: 0 0 0 0;\n",
              "      width: 32px;\n",
              "    }\n",
              "\n",
              "    .colab-df-convert:hover {\n",
              "      background-color: #E2EBFA;\n",
              "      box-shadow: 0px 1px 2px rgba(60, 64, 67, 0.3), 0px 1px 3px 1px rgba(60, 64, 67, 0.15);\n",
              "      fill: #174EA6;\n",
              "    }\n",
              "\n",
              "    [theme=dark] .colab-df-convert {\n",
              "      background-color: #3B4455;\n",
              "      fill: #D2E3FC;\n",
              "    }\n",
              "\n",
              "    [theme=dark] .colab-df-convert:hover {\n",
              "      background-color: #434B5C;\n",
              "      box-shadow: 0px 1px 3px 1px rgba(0, 0, 0, 0.15);\n",
              "      filter: drop-shadow(0px 1px 2px rgba(0, 0, 0, 0.3));\n",
              "      fill: #FFFFFF;\n",
              "    }\n",
              "  </style>\n",
              "\n",
              "      <script>\n",
              "        const buttonEl =\n",
              "          document.querySelector('#df-6c7b23b2-a29d-4e87-b7b5-5de146c70dc5 button.colab-df-convert');\n",
              "        buttonEl.style.display =\n",
              "          google.colab.kernel.accessAllowed ? 'block' : 'none';\n",
              "\n",
              "        async function convertToInteractive(key) {\n",
              "          const element = document.querySelector('#df-6c7b23b2-a29d-4e87-b7b5-5de146c70dc5');\n",
              "          const dataTable =\n",
              "            await google.colab.kernel.invokeFunction('convertToInteractive',\n",
              "                                                     [key], {});\n",
              "          if (!dataTable) return;\n",
              "\n",
              "          const docLinkHtml = 'Like what you see? Visit the ' +\n",
              "            '<a target=\"_blank\" href=https://colab.research.google.com/notebooks/data_table.ipynb>data table notebook</a>'\n",
              "            + ' to learn more about interactive tables.';\n",
              "          element.innerHTML = '';\n",
              "          dataTable['output_type'] = 'display_data';\n",
              "          await google.colab.output.renderOutput(dataTable, element);\n",
              "          const docLink = document.createElement('div');\n",
              "          docLink.innerHTML = docLinkHtml;\n",
              "          element.appendChild(docLink);\n",
              "        }\n",
              "      </script>\n",
              "    </div>\n",
              "  </div>\n",
              "  "
            ]
          },
          "metadata": {},
          "execution_count": 20
        }
      ],
      "source": [
        "# Mode\n",
        "\n",
        "dataset_mode = dataset_numerical.mode()\n",
        "dataset_mode\n",
        "\n",
        "# The mode value for all numerical variables is zero except home score which was mostly 1, previous points which was mostly 40 and rank which was mostly 12"
      ]
    },
    {
      "cell_type": "markdown",
      "metadata": {
        "id": "yH_HJufHAoM7"
      },
      "source": [
        "**Skewness** is a statistical measure of asymmetric distribution of data. A negative skew indicates that the tail is on the left side of the distribution, which extends towards more negative values. A positive skew indicates that the tail is on the right side of the distribution, which extends towards more positive values. A value of zero indicates that there is no skewness in the distribution at all, meaning the distribution is perfectly symmetrical.\n",
        "\n",
        "**Kurtosis** helps determine if the distribution is heavy-tailed compared to a normal distribution. The kurtosis of a normal distribution is 3. If a given distribution has a kurtosis greater than 3 then it is said to be leptokurtic, which means it tends to produce more outliers than the normal distribution. If it's less than 3, it means it tends to produce fewer and less extreme outliers than the normal distribution.\n",
        "\n",
        "**Range** is an index of variability. When the range is more the group is more variable. The smaller the range the more homogeneous is the group.\n",
        "\n",
        "The further the **interquartile range** is from 0, the more spread out the data points are."
      ]
    },
    {
      "cell_type": "code",
      "execution_count": 21,
      "metadata": {
        "colab": {
          "base_uri": "https://localhost:8080/"
        },
        "id": "sFAgZvgT60Yr",
        "outputId": "176d364d-27e1-440a-ce5b-c01e6b668135"
      },
      "outputs": [
        {
          "output_type": "execute_result",
          "data": {
            "text/plain": [
              "rank                200.00\n",
              "total_points       1332.16\n",
              "previous_points    1683.00\n",
              "rank_change          52.00\n",
              "home_score            5.00\n",
              "away_score            5.00\n",
              "dtype: float64"
            ]
          },
          "metadata": {},
          "execution_count": 21
        }
      ],
      "source": [
        "# Range\n",
        "dataset_range = dataset_numerical.max() - dataset_numerical.min()\n",
        "dataset_range\n",
        "\n",
        "# The output shows the respective difference between the maximum and minimu values per variable\n"
      ]
    },
    {
      "cell_type": "code",
      "execution_count": 22,
      "metadata": {
        "colab": {
          "base_uri": "https://localhost:8080/"
        },
        "id": "ooEBMYHf--3w",
        "outputId": "7124a016-afb6-4afa-eeb0-2e784d060fb0"
      },
      "outputs": [
        {
          "output_type": "execute_result",
          "data": {
            "text/plain": [
              "rank                72.0\n",
              "total_points         0.0\n",
              "previous_points    430.0\n",
              "rank_change          3.0\n",
              "home_score           2.0\n",
              "away_score           2.0\n",
              "dtype: float64"
            ]
          },
          "metadata": {},
          "execution_count": 22
        }
      ],
      "source": [
        "# Interquantile range for the fifa numeric variables\n",
        "dataset_IQR = dataset_numerical.quantile(.75) - dataset_numerical.quantile(.25)\n",
        "dataset_IQR"
      ]
    },
    {
      "cell_type": "code",
      "execution_count": 23,
      "metadata": {
        "colab": {
          "base_uri": "https://localhost:8080/",
          "height": 112
        },
        "id": "PDeFECh3_Y2T",
        "outputId": "bb729054-52db-48e9-b050-3a54746d4f80"
      },
      "outputs": [
        {
          "output_type": "execute_result",
          "data": {
            "text/plain": [
              "          rank  total_points  previous_points  rank_change  home_score  \\\n",
              "kurt -0.352568     19.650840         0.435775    10.250212    0.165387   \n",
              "skew  0.701461      4.360967         0.560581     1.181166    0.779922   \n",
              "\n",
              "      away_score  \n",
              "kurt    0.866027  \n",
              "skew    1.062889  "
            ],
            "text/html": [
              "\n",
              "  <div id=\"df-c579c5b4-d6e5-482d-ab03-4bfe8a56b591\">\n",
              "    <div class=\"colab-df-container\">\n",
              "      <div>\n",
              "<style scoped>\n",
              "    .dataframe tbody tr th:only-of-type {\n",
              "        vertical-align: middle;\n",
              "    }\n",
              "\n",
              "    .dataframe tbody tr th {\n",
              "        vertical-align: top;\n",
              "    }\n",
              "\n",
              "    .dataframe thead th {\n",
              "        text-align: right;\n",
              "    }\n",
              "</style>\n",
              "<table border=\"1\" class=\"dataframe\">\n",
              "  <thead>\n",
              "    <tr style=\"text-align: right;\">\n",
              "      <th></th>\n",
              "      <th>rank</th>\n",
              "      <th>total_points</th>\n",
              "      <th>previous_points</th>\n",
              "      <th>rank_change</th>\n",
              "      <th>home_score</th>\n",
              "      <th>away_score</th>\n",
              "    </tr>\n",
              "  </thead>\n",
              "  <tbody>\n",
              "    <tr>\n",
              "      <th>kurt</th>\n",
              "      <td>-0.352568</td>\n",
              "      <td>19.650840</td>\n",
              "      <td>0.435775</td>\n",
              "      <td>10.250212</td>\n",
              "      <td>0.165387</td>\n",
              "      <td>0.866027</td>\n",
              "    </tr>\n",
              "    <tr>\n",
              "      <th>skew</th>\n",
              "      <td>0.701461</td>\n",
              "      <td>4.360967</td>\n",
              "      <td>0.560581</td>\n",
              "      <td>1.181166</td>\n",
              "      <td>0.779922</td>\n",
              "      <td>1.062889</td>\n",
              "    </tr>\n",
              "  </tbody>\n",
              "</table>\n",
              "</div>\n",
              "      <button class=\"colab-df-convert\" onclick=\"convertToInteractive('df-c579c5b4-d6e5-482d-ab03-4bfe8a56b591')\"\n",
              "              title=\"Convert this dataframe to an interactive table.\"\n",
              "              style=\"display:none;\">\n",
              "        \n",
              "  <svg xmlns=\"http://www.w3.org/2000/svg\" height=\"24px\"viewBox=\"0 0 24 24\"\n",
              "       width=\"24px\">\n",
              "    <path d=\"M0 0h24v24H0V0z\" fill=\"none\"/>\n",
              "    <path d=\"M18.56 5.44l.94 2.06.94-2.06 2.06-.94-2.06-.94-.94-2.06-.94 2.06-2.06.94zm-11 1L8.5 8.5l.94-2.06 2.06-.94-2.06-.94L8.5 2.5l-.94 2.06-2.06.94zm10 10l.94 2.06.94-2.06 2.06-.94-2.06-.94-.94-2.06-.94 2.06-2.06.94z\"/><path d=\"M17.41 7.96l-1.37-1.37c-.4-.4-.92-.59-1.43-.59-.52 0-1.04.2-1.43.59L10.3 9.45l-7.72 7.72c-.78.78-.78 2.05 0 2.83L4 21.41c.39.39.9.59 1.41.59.51 0 1.02-.2 1.41-.59l7.78-7.78 2.81-2.81c.8-.78.8-2.07 0-2.86zM5.41 20L4 18.59l7.72-7.72 1.47 1.35L5.41 20z\"/>\n",
              "  </svg>\n",
              "      </button>\n",
              "      \n",
              "  <style>\n",
              "    .colab-df-container {\n",
              "      display:flex;\n",
              "      flex-wrap:wrap;\n",
              "      gap: 12px;\n",
              "    }\n",
              "\n",
              "    .colab-df-convert {\n",
              "      background-color: #E8F0FE;\n",
              "      border: none;\n",
              "      border-radius: 50%;\n",
              "      cursor: pointer;\n",
              "      display: none;\n",
              "      fill: #1967D2;\n",
              "      height: 32px;\n",
              "      padding: 0 0 0 0;\n",
              "      width: 32px;\n",
              "    }\n",
              "\n",
              "    .colab-df-convert:hover {\n",
              "      background-color: #E2EBFA;\n",
              "      box-shadow: 0px 1px 2px rgba(60, 64, 67, 0.3), 0px 1px 3px 1px rgba(60, 64, 67, 0.15);\n",
              "      fill: #174EA6;\n",
              "    }\n",
              "\n",
              "    [theme=dark] .colab-df-convert {\n",
              "      background-color: #3B4455;\n",
              "      fill: #D2E3FC;\n",
              "    }\n",
              "\n",
              "    [theme=dark] .colab-df-convert:hover {\n",
              "      background-color: #434B5C;\n",
              "      box-shadow: 0px 1px 3px 1px rgba(0, 0, 0, 0.15);\n",
              "      filter: drop-shadow(0px 1px 2px rgba(0, 0, 0, 0.3));\n",
              "      fill: #FFFFFF;\n",
              "    }\n",
              "  </style>\n",
              "\n",
              "      <script>\n",
              "        const buttonEl =\n",
              "          document.querySelector('#df-c579c5b4-d6e5-482d-ab03-4bfe8a56b591 button.colab-df-convert');\n",
              "        buttonEl.style.display =\n",
              "          google.colab.kernel.accessAllowed ? 'block' : 'none';\n",
              "\n",
              "        async function convertToInteractive(key) {\n",
              "          const element = document.querySelector('#df-c579c5b4-d6e5-482d-ab03-4bfe8a56b591');\n",
              "          const dataTable =\n",
              "            await google.colab.kernel.invokeFunction('convertToInteractive',\n",
              "                                                     [key], {});\n",
              "          if (!dataTable) return;\n",
              "\n",
              "          const docLinkHtml = 'Like what you see? Visit the ' +\n",
              "            '<a target=\"_blank\" href=https://colab.research.google.com/notebooks/data_table.ipynb>data table notebook</a>'\n",
              "            + ' to learn more about interactive tables.';\n",
              "          element.innerHTML = '';\n",
              "          dataTable['output_type'] = 'display_data';\n",
              "          await google.colab.output.renderOutput(dataTable, element);\n",
              "          const docLink = document.createElement('div');\n",
              "          docLink.innerHTML = docLinkHtml;\n",
              "          element.appendChild(docLink);\n",
              "        }\n",
              "      </script>\n",
              "    </div>\n",
              "  </div>\n",
              "  "
            ]
          },
          "metadata": {},
          "execution_count": 23
        }
      ],
      "source": [
        "# kurtosis and skewness\n",
        "dataset_numerical.apply(['kurt', 'skew'])\n",
        "\n",
        "# Rank has a negative kurtosis\n",
        "# Most variables except total points and rank change have a kurtosis > 3\n",
        "# All the variables are positively skewed\n",
        "# Rank, previous points and home score have a skewness measure of 0 meaning their distributions are symmetrical"
      ]
    },
    {
      "cell_type": "code",
      "execution_count": 24,
      "metadata": {
        "colab": {
          "base_uri": "https://localhost:8080/",
          "height": 508
        },
        "id": "f3HiUmOa1jhf",
        "outputId": "09c1bf9f-635f-49ae-8289-1c4517aa5a63"
      },
      "outputs": [
        {
          "output_type": "stream",
          "name": "stderr",
          "text": [
            "/usr/local/lib/python3.8/dist-packages/seaborn/_decorators.py:36: FutureWarning: Pass the following variable as a keyword arg: x. From version 0.12, the only valid positional argument will be `data`, and passing other arguments without an explicit keyword will result in an error or misinterpretation.\n",
            "  warnings.warn(\n",
            "/usr/local/lib/python3.8/dist-packages/seaborn/_decorators.py:36: FutureWarning: Pass the following variable as a keyword arg: x. From version 0.12, the only valid positional argument will be `data`, and passing other arguments without an explicit keyword will result in an error or misinterpretation.\n",
            "  warnings.warn(\n",
            "/usr/local/lib/python3.8/dist-packages/seaborn/_decorators.py:36: FutureWarning: Pass the following variable as a keyword arg: x. From version 0.12, the only valid positional argument will be `data`, and passing other arguments without an explicit keyword will result in an error or misinterpretation.\n",
            "  warnings.warn(\n",
            "/usr/local/lib/python3.8/dist-packages/seaborn/_decorators.py:36: FutureWarning: Pass the following variable as a keyword arg: x. From version 0.12, the only valid positional argument will be `data`, and passing other arguments without an explicit keyword will result in an error or misinterpretation.\n",
            "  warnings.warn(\n"
          ]
        },
        {
          "output_type": "display_data",
          "data": {
            "text/plain": [
              "<Figure size 1224x360 with 4 Axes>"
            ],
            "image/png": "[encoded data removed]"
          },
          "metadata": {
            "needs_background": "light"
          }
        }
      ],
      "source": [
        "# Checking for outliers\n",
        "# We'll use boxplots to visualize each variable and its outliers\n",
        "\n",
        "# Plotting boxplots to check for outliers\n",
        "\n",
        "fig, (ax1,ax2,ax3, ax4) = plt.subplots(1,4, figsize=(17,5 ))\n",
        "plt.suptitle('Boxplots', fontsize = 15, y = 0.92, color = 'black')\n",
        "sns.boxplot(dataset['rank'], ax=ax1, color = \"teal\")\n",
        "sns.boxplot(dataset['total_points'], ax=ax2, color = \"pink\")\n",
        "sns.boxplot(dataset['previous_points'], ax=ax3, color = \"orange\")\n",
        "sns.boxplot(dataset['rank_change'], ax=ax4, color = \"red\")\n",
        "plt.show()"
      ]
    },
    {
      "cell_type": "code",
      "execution_count": 25,
      "metadata": {
        "colab": {
          "base_uri": "https://localhost:8080/",
          "height": 456
        },
        "id": "6ZX1Y-6c-Aq5",
        "outputId": "11e0c3d8-18be-4d1d-9463-65857f0fbbe2"
      },
      "outputs": [
        {
          "output_type": "stream",
          "name": "stderr",
          "text": [
            "/usr/local/lib/python3.8/dist-packages/seaborn/_decorators.py:36: FutureWarning: Pass the following variable as a keyword arg: x. From version 0.12, the only valid positional argument will be `data`, and passing other arguments without an explicit keyword will result in an error or misinterpretation.\n",
            "  warnings.warn(\n",
            "/usr/local/lib/python3.8/dist-packages/seaborn/_decorators.py:36: FutureWarning: Pass the following variable as a keyword arg: x. From version 0.12, the only valid positional argument will be `data`, and passing other arguments without an explicit keyword will result in an error or misinterpretation.\n",
            "  warnings.warn(\n"
          ]
        },
        {
          "output_type": "execute_result",
          "data": {
            "text/plain": [
              "<matplotlib.axes._subplots.AxesSubplot at 0x7fdabc7967c0>"
            ]
          },
          "metadata": {},
          "execution_count": 25
        },
        {
          "output_type": "display_data",
          "data": {
            "text/plain": [
              "<Figure size 1224x360 with 2 Axes>"
            ],
            "image/png": "[encoded data removed]"
          },
          "metadata": {
            "needs_background": "light"
          }
        }
      ],
      "source": [
        "fig, (ax1,ax2) = plt.subplots(1,2, figsize=(17,5 ))\n",
        "plt.suptitle('Boxplots', fontsize = 15, y = 0.92, color = 'black')\n",
        "sns.boxplot(dataset['home_score'],ax=ax1, color = \"teal\")\n",
        "sns.boxplot(dataset['away_score'],ax=ax2, color = \"pink\")"
      ]
    },
    {
      "cell_type": "markdown",
      "source": [
        "Total Points, Previous Points and Rank change have outliers, however it would be best if we retained them as they represent the true situation. The rest of the variables don't."
      ],
      "metadata": {
        "id": "_amX8LZbBgHi"
      }
    },
    {
      "cell_type": "code",
      "execution_count": 26,
      "metadata": {
        "colab": {
          "base_uri": "https://localhost:8080/",
          "height": 351
        },
        "id": "9MSOUfKmNOqz",
        "outputId": "cc9daeb0-7f69-48a0-f182-beba70f347ab"
      },
      "outputs": [
        {
          "output_type": "execute_result",
          "data": {
            "text/plain": [
              "<matplotlib.axes._subplots.AxesSubplot at 0x7fdabc630340>"
            ]
          },
          "metadata": {},
          "execution_count": 26
        },
        {
          "output_type": "display_data",
          "data": {
            "text/plain": [
              "<Figure size 1224x360 with 4 Axes>"
            ],
            "image/png": "[encoded data removed]"
          },
          "metadata": {
            "needs_background": "light"
          }
        }
      ],
      "source": [
        "# Histograms showing the numeric variables distributions \n",
        "        \n",
        "fig, (hist1,hist2, hist3,hist4) = plt.subplots(1,4, figsize=(17, 5))\n",
        "plt.suptitle('Histograms', fontsize = 15, y = 0.92, color = 'black')\n",
        "dataset['rank'].hist(ax=hist1, color = \"teal\")\n",
        "dataset['total_points'].hist(ax=hist2, color = \"pink\")\n",
        "dataset['previous_points'].hist(ax=hist3, color = \"orange\")\n",
        "dataset['rank_change'].hist(ax=hist4, color = \"red\")\n"
      ]
    },
    {
      "cell_type": "code",
      "execution_count": 27,
      "metadata": {
        "colab": {
          "base_uri": "https://localhost:8080/",
          "height": 351
        },
        "id": "lrgOTBkEP9oL",
        "outputId": "8836ebda-f28c-4f27-f37e-9e2f14b8c9c9"
      },
      "outputs": [
        {
          "output_type": "execute_result",
          "data": {
            "text/plain": [
              "<matplotlib.axes._subplots.AxesSubplot at 0x7fdabc4b09a0>"
            ]
          },
          "metadata": {},
          "execution_count": 27
        },
        {
          "output_type": "display_data",
          "data": {
            "text/plain": [
              "<Figure size 1224x360 with 2 Axes>"
            ],
            "image/png": "[encoded data removed]"
          },
          "metadata": {
            "needs_background": "light"
          }
        }
      ],
      "source": [
        "fig, (hist1,hist2) = plt.subplots(1,2, figsize=(17, 5))\n",
        "plt.suptitle('Histograms', fontsize = 15, y = 0.92, color = 'black')\n",
        "dataset['home_score'].hist(ax=hist1, color = \"teal\")\n",
        "dataset['away_score'].hist(ax=hist2, color = \"pink\")"
      ]
    },
    {
      "cell_type": "markdown",
      "metadata": {
        "id": "k6db9pOyboR4"
      },
      "source": [
        "### **Categorical Variables**"
      ]
    },
    {
      "cell_type": "code",
      "execution_count": 28,
      "metadata": {
        "colab": {
          "base_uri": "https://localhost:8080/"
        },
        "id": "8DpYcV9bbnvw",
        "outputId": "9adf235c-2508-4d03-f6eb-37fe78f18627"
      },
      "outputs": [
        {
          "output_type": "execute_result",
          "data": {
            "text/plain": [
              "count       913\n",
              "unique        2\n",
              "top       False\n",
              "freq        784\n",
              "Name: neutral, dtype: object"
            ]
          },
          "metadata": {},
          "execution_count": 28
        }
      ],
      "source": [
        "# Looking at our categorical variables\n",
        "# Here we get to see the count, unique categories, top category and the frequency and the data type per each categorical variable\n",
        "\n",
        "dataset['country'].describe()\n",
        "# There are 154 countries where the matches were played\n",
        "# Most of them were in France, 24 times to be exact\n",
        "\n",
        "dataset['confederation'].describe()\n",
        "# There are 6 types of confederations considered\n",
        "# The top most is UEFA and it has a frequency of 471\n",
        "\n",
        "dataset['tournament'].describe()\n",
        "# There are 36 unique types of tournaments.\n",
        "# They were mostly Friendly touraments with a frequency of 591\n",
        "\n",
        "dataset['city'].describe()\n",
        "# There are 398 unique cities. \n",
        "# Doha was the most frequent city, appearing 15 times\n",
        "\n",
        "dataset['home_team'].describe()\n",
        "# The team that played in their country most times was Estonia, with a frequency of 17 times\n",
        "# There were 181 times when a team played from their country\n",
        "\n",
        "dataset['away_team'].describe()\n",
        "# The team that played away most times was Uruguay with a frequency of 15\n",
        "# Different teams played 'away' 185 times\n",
        "\n",
        "dataset['neutral'].describe()\n",
        "# Most games were not played at a neutral venue i.e 784 times"
      ]
    },
    {
      "cell_type": "code",
      "execution_count": 29,
      "metadata": {
        "colab": {
          "base_uri": "https://localhost:8080/",
          "height": 352
        },
        "id": "EbNcIFCnLUgz",
        "outputId": "cbbe9d55-17c3-4a94-a1ad-f0a2ad3e9d5e"
      },
      "outputs": [
        {
          "output_type": "execute_result",
          "data": {
            "text/plain": [
              "<matplotlib.axes._subplots.AxesSubplot at 0x7fdabc40c370>"
            ]
          },
          "metadata": {},
          "execution_count": 29
        },
        {
          "output_type": "display_data",
          "data": {
            "text/plain": [
              "<Figure size 720x360 with 1 Axes>"
            ],
            "image/png": "[encoded data removed]"
          },
          "metadata": {
            "needs_background": "light"
          }
        }
      ],
      "source": [
        "# Visualizing distribution of neutrality of the game venues\n",
        "dataset['neutral'].value_counts().plot(kind='bar',figsize=(10,5))\n",
        "\n",
        "# Games were mostly played at non-neutral venues"
      ]
    },
    {
      "cell_type": "code",
      "execution_count": 30,
      "metadata": {
        "colab": {
          "base_uri": "https://localhost:8080/",
          "height": 337
        },
        "id": "vojiB5YPGfmd",
        "outputId": "e6de28b1-2533-40b2-c754-333714e90ace"
      },
      "outputs": [
        {
          "output_type": "execute_result",
          "data": {
            "text/plain": [
              "<matplotlib.axes._subplots.AxesSubplot at 0x7fdabc36c400>"
            ]
          },
          "metadata": {},
          "execution_count": 30
        },
        {
          "output_type": "display_data",
          "data": {
            "text/plain": [
              "<Figure size 720x360 with 1 Axes>"
            ],
            "image/png": "[encoded data removed]"
          },
          "metadata": {
            "needs_background": "light"
          }
        }
      ],
      "source": [
        "# Visualizing number of times different confederations featured in a match\n",
        "dataset['confederation'].value_counts().plot(kind='barh',figsize=(10,5))\n",
        "\n",
        "# UEFA was leading and OFC had the least frequency"
      ]
    },
    {
      "cell_type": "code",
      "execution_count": 31,
      "metadata": {
        "colab": {
          "base_uri": "https://localhost:8080/",
          "height": 1000
        },
        "id": "jW51t29AxC4M",
        "outputId": "d76599f3-68ac-40a0-b9c6-83f0daecdade"
      },
      "outputs": [
        {
          "output_type": "execute_result",
          "data": {
            "text/plain": [
              "<matplotlib.axes._subplots.AxesSubplot at 0x7fdabc34b1c0>"
            ]
          },
          "metadata": {},
          "execution_count": 31
        },
        {
          "output_type": "display_data",
          "data": {
            "text/plain": [
              "<Figure size 720x2160 with 1 Axes>"
            ],
            "image/png": "[encoded data removed]"
          },
          "metadata": {
            "needs_background": "light"
          }
        }
      ],
      "source": [
        "# Visualizing number of times different tournaments took place\n",
        "dataset['tournament'].value_counts().plot(kind='barh',figsize=(10,30))\n",
        "\n",
        "# Output confirms that majority of the tournaments were Friendly followed by Fifa World Cup qualification. South Pacific Games were the least"
      ]
    },
    {
      "cell_type": "markdown",
      "metadata": {
        "id": "alLZUpH2wX7v"
      },
      "source": [
        "## **Bivariate Analysis**"
      ]
    },
    {
      "cell_type": "markdown",
      "source": [
        "How were the different confederations distributed among the home scores?"
      ],
      "metadata": {
        "id": "MEO1x7CsDNUy"
      }
    },
    {
      "cell_type": "code",
      "source": [
        "# Creating the stacked column chart\n",
        "\n",
        "# First, we'll create a table grouping our data by home score and the confederations\n",
        "\n",
        "home_scores = dataset.groupby(['home_score', 'confederation']).count()\n",
        "home_scores\n",
        "\n",
        "# We then use pd.pivot_table() to transform our long format dataframe to a wide format dataframe.\n",
        "home_scores_pivot = home_scores.pivot_table(index=['home_score'],columns = ['confederation'],values = 'rank')\n",
        "home_scores_pivot\n",
        "\n",
        "# Plotting our stacked column chart\n",
        "home_scores_pivot.plot(kind='bar',stacked = True, figsize=(8, 6), color =['orange','teal','pink', 'green','brown','yellow'])\n",
        "\n",
        "# Rotating our x axis ticks\n",
        "plt.xticks(rotation = 45)\n",
        "\n",
        "# Giving our chart a title\n",
        "plt.title(\"Distribution of home scores given the confedaration\", fontsize=14, y=1.015)\n",
        "\n",
        "# Labeling our y axis\n",
        "plt.ylabel(\"Count\", fontsize=14, labelpad=15)\n",
        "\n",
        "# Labeling our x axis\n",
        "plt.xlabel(\"Home Scores\", fontsize=14, labelpad=15)\n",
        "\n",
        "# Displaying our chart\n",
        "plt.show()"
      ],
      "metadata": {
        "colab": {
          "base_uri": "https://localhost:8080/",
          "height": 427
        },
        "id": "bBO88gxhf4R_",
        "outputId": "0453b630-b4b4-48b9-e1b9-2374051d6a06"
      },
      "execution_count": 32,
      "outputs": [
        {
          "output_type": "display_data",
          "data": {
            "text/plain": [
              "<Figure size 576x432 with 1 Axes>"
            ],
            "image/png": "[encoded data removed]"
          },
          "metadata": {
            "needs_background": "light"
          }
        }
      ]
    },
    {
      "cell_type": "markdown",
      "source": [
        "Each confederation was represented in the home scores.\n",
        "Very few teams scored 5 in their home countries across the matches organized by the different confederations.\n",
        "\n",
        "Most teams scored 1, followed by 0 then 2 except for the games organized by CONNCACAF which had majority scoring 2.\n",
        "\n",
        " In all score categories, games organized by UEFA were the majority.\n"
      ],
      "metadata": {
        "id": "2itgkGC2DjLu"
      }
    },
    {
      "cell_type": "markdown",
      "source": [
        "How were the different confederations distributed among the away scores?"
      ],
      "metadata": {
        "id": "leKnHlngGTg6"
      }
    },
    {
      "cell_type": "code",
      "source": [
        "# Creating the stacked column chart\n",
        "\n",
        "# First, we'll create a table grouping our data by away score and the confederations\n",
        "\n",
        "away_scores = dataset.groupby(['away_score', 'confederation']).count()\n",
        "away_scores\n",
        "\n",
        "# We then use pd.pivot_table() to transform our long format dataframe to a wide format dataframe.\n",
        "away_scores_pivot = away_scores.pivot_table(index=['away_score'],columns = ['confederation'],values = 'rank')\n",
        "away_scores_pivot\n",
        "\n",
        "# Plotting our stacked column chart\n",
        "away_scores_pivot.plot(kind='bar',stacked = True, figsize=(8, 6), color =['orange','teal','pink', 'green','brown','yellow'])\n",
        "\n",
        "# Rotating our x axis ticks\n",
        "plt.xticks(rotation = 45)\n",
        "\n",
        "# Giving our chart a title\n",
        "plt.title(\"Distribution of away scores given the confedaration\", fontsize=14, y=1.015)\n",
        "\n",
        "# Labeling our y axis\n",
        "plt.ylabel(\"Count\", fontsize=14, labelpad=15)\n",
        "\n",
        "# Labeling our x axis\n",
        "plt.xlabel(\"Away Scores\", fontsize=14, labelpad=15)\n",
        "\n",
        "# Displaying our chart\n",
        "plt.show()"
      ],
      "metadata": {
        "colab": {
          "base_uri": "https://localhost:8080/",
          "height": 427
        },
        "id": "dWUho-0LErlL",
        "outputId": "77a99601-3e00-492b-e6b9-defda52c9485"
      },
      "execution_count": 33,
      "outputs": [
        {
          "output_type": "display_data",
          "data": {
            "text/plain": [
              "<Figure size 576x432 with 1 Axes>"
            ],
            "image/png": "[encoded data removed]"
          },
          "metadata": {
            "needs_background": "light"
          }
        }
      ]
    },
    {
      "cell_type": "markdown",
      "source": [
        "Majority of the away teams scored 0 regardless of the confederation.\n",
        "\n",
        "Games by the CAF confederation are the only ones which had more of the teams scoring 1 compared to all other scores. For the rest of the confederations, majority of the teams scored 0, followed by 1, 2,..., 5."
      ],
      "metadata": {
        "id": "tY-R0s9xF2RN"
      }
    },
    {
      "cell_type": "markdown",
      "source": [
        "Were most games by the different confederations played on neutral grounds?"
      ],
      "metadata": {
        "id": "ysMlqmIzHJjZ"
      }
    },
    {
      "cell_type": "code",
      "source": [
        "# Creating the stacked column chart\n",
        "\n",
        "# First, we'll create a table grouping our data by neutrality and the confederations\n",
        "\n",
        "neutrality = dataset.groupby(['neutral', 'confederation']).count()\n",
        "neutrality\n",
        "\n",
        "# We then use pd.pivot_table() to transform our long format dataframe to a wide format dataframe.\n",
        "neutrality_pivot = neutrality.pivot_table(index=['neutral'],columns = ['confederation'],values = 'rank')\n",
        "neutrality_pivot\n",
        "\n",
        "# Plotting our stacked column chart\n",
        "neutrality_pivot.plot(kind='bar',stacked = True, figsize=(8, 6), color =['orange','teal','pink', 'green','brown','yellow'])\n",
        "\n",
        "# Rotating our x axis ticks\n",
        "plt.xticks(rotation = 45)\n",
        "\n",
        "# Giving our chart a title\n",
        "plt.title(\"Distribution of the neutrality of the grounds given the confedaration\", fontsize=14, y=1.015)\n",
        "\n",
        "# Labeling our y axis\n",
        "plt.ylabel(\"Count\", fontsize=14, labelpad=15)\n",
        "\n",
        "# Labeling our x axis\n",
        "plt.xlabel(\"Neutrality\", fontsize=14, labelpad=15)\n",
        "\n",
        "# Displaying our chart\n",
        "plt.show()"
      ],
      "metadata": {
        "colab": {
          "base_uri": "https://localhost:8080/",
          "height": 440
        },
        "id": "K3yoIHtUGfb0",
        "outputId": "0e1cdd31-49ae-46dc-859c-5755eddbd511"
      },
      "execution_count": 34,
      "outputs": [
        {
          "output_type": "display_data",
          "data": {
            "text/plain": [
              "<Figure size 576x432 with 1 Axes>"
            ],
            "image/png": "[encoded data removed]"
          },
          "metadata": {
            "needs_background": "light"
          }
        }
      ]
    },
    {
      "cell_type": "markdown",
      "source": [
        "Majority of the confederations held games in non neutral grounds."
      ],
      "metadata": {
        "id": "yoWIQS6HG6vb"
      }
    },
    {
      "cell_type": "markdown",
      "source": [
        "How were the scores for teams in their home countries distributed given the neutrality of the grounds?"
      ],
      "metadata": {
        "id": "kTLuGBJQIAij"
      }
    },
    {
      "cell_type": "code",
      "source": [
        "# Creating the stacked column chart\n",
        "\n",
        "# First, we'll create a table grouping our data by neutrality and the home scores\n",
        "\n",
        "home_score_neutrality = dataset.groupby(['home_score', 'neutral']).count()\n",
        "home_score_neutrality\n",
        "\n",
        "# We then use pd.pivot_table() to transform our long format dataframe to a wide format dataframe.\n",
        "home_score_neutrality_pivot = home_score_neutrality.pivot_table(index=['neutral'],columns = ['home_score'],values = 'rank')\n",
        "home_score_neutrality_pivot\n",
        "\n",
        "# Plotting our stacked column chart\n",
        "home_score_neutrality_pivot.plot(kind='bar',stacked = True, figsize=(8, 6), color =['orange','teal','pink', 'green','brown','yellow'])\n",
        "\n",
        "# Rotating our x axis ticks\n",
        "plt.xticks(rotation = 45)\n",
        "\n",
        "# Giving our chart a title\n",
        "plt.title(\"Distribution of the neutrality of the grounds given the home scores\", fontsize=14, y=1.015)\n",
        "\n",
        "# Labeling our y axis\n",
        "plt.ylabel(\"Count\", fontsize=14, labelpad=15)\n",
        "\n",
        "# Labeling our x axis\n",
        "plt.xlabel(\"Neutrality\", fontsize=14, labelpad=15)\n",
        "\n",
        "# Displaying our chart\n",
        "plt.show()"
      ],
      "metadata": {
        "colab": {
          "base_uri": "https://localhost:8080/",
          "height": 440
        },
        "id": "hJVME282HBcI",
        "outputId": "e7ecd812-6945-47a0-8784-444fbb84f9d3"
      },
      "execution_count": 35,
      "outputs": [
        {
          "output_type": "display_data",
          "data": {
            "text/plain": [
              "<Figure size 576x432 with 1 Axes>"
            ],
            "image/png": "[encoded data removed]"
          },
          "metadata": {
            "needs_background": "light"
          }
        }
      ]
    },
    {
      "cell_type": "markdown",
      "source": [
        "Home teams only managed to score 5 in non neutral grounds. "
      ],
      "metadata": {
        "id": "0iuxAtUEH2_4"
      }
    },
    {
      "cell_type": "code",
      "source": [
        "# Creating the stacked column chart\n",
        "\n",
        "# First, we'll create a table grouping our data by neutrality and the away scores\n",
        "\n",
        "away_score_neutrality = dataset.groupby(['away_score', 'neutral']).count()\n",
        "away_score_neutrality\n",
        "\n",
        "# We then use pd.pivot_table() to transform our long format dataframe to a wide format dataframe.\n",
        "away_score_neutrality_pivot = away_score_neutrality.pivot_table(index=['neutral'],columns = ['away_score'],values = 'rank')\n",
        "away_score_neutrality_pivot\n",
        "\n",
        "# Plotting our stacked column chart\n",
        "away_score_neutrality_pivot.plot(kind='bar',stacked = True, figsize=(8, 6), color =['orange','teal','pink', 'green','brown','yellow'])\n",
        "\n",
        "# Rotating our x axis ticks\n",
        "plt.xticks(rotation = 45)\n",
        "\n",
        "# Giving our chart a title\n",
        "plt.title(\"Distribution of the neutrality of the grounds given the away scores\", fontsize=14, y=1.015)\n",
        "\n",
        "# Labeling our y axis\n",
        "plt.ylabel(\"Count\", fontsize=14, labelpad=15)\n",
        "\n",
        "# Labeling our x axis\n",
        "plt.xlabel(\"Neutrality\", fontsize=14, labelpad=15)\n",
        "\n",
        "# Displaying our chart\n",
        "plt.show()"
      ],
      "metadata": {
        "colab": {
          "base_uri": "https://localhost:8080/",
          "height": 440
        },
        "id": "sK5cma-rIOmJ",
        "outputId": "107143a2-1a63-48ac-a1a4-03dbb9cbc5c4"
      },
      "execution_count": 36,
      "outputs": [
        {
          "output_type": "display_data",
          "data": {
            "text/plain": [
              "<Figure size 576x432 with 1 Axes>"
            ],
            "image/png": "[encoded data removed]"
          },
          "metadata": {
            "needs_background": "light"
          }
        }
      ]
    },
    {
      "cell_type": "markdown",
      "source": [
        "Teams playing on non neutral grounds managed to score 5."
      ],
      "metadata": {
        "id": "9xZmK-upIi6p"
      }
    },
    {
      "cell_type": "code",
      "execution_count": 37,
      "metadata": {
        "colab": {
          "base_uri": "https://localhost:8080/",
          "height": 621
        },
        "id": "6-lpc42sJXTh",
        "outputId": "30601207-281b-4004-c4f6-b9d9ffc953a9"
      },
      "outputs": [
        {
          "output_type": "display_data",
          "data": {
            "text/plain": [
              "<Figure size 1080x720 with 2 Axes>"
            ],
            "image/png": "[encoded data removed]"
          },
          "metadata": {
            "needs_background": "light"
          }
        }
      ],
      "source": [
        "# Checking the correlation matrix of the numerical variables by visualizing using a heatmap\n",
        "# A correlation of +1 means there's a strong positive correlation while 0 means there's no correlation.\n",
        "\n",
        "fig, (dataset_corr) = plt.subplots( figsize=(15, 10))\n",
        "plt.suptitle('Correlation of Numerical Variables', fontsize = 10, y = 0.92, color = 'black')\n",
        "dataset_corr = sns.heatmap(dataset_numerical.corr(),annot=True)\n",
        "plt.show()"
      ]
    },
    {
      "cell_type": "markdown",
      "metadata": {
        "id": "uP-8PZ9GSFef"
      },
      "source": [
        "From the correlation heatmap we see that there are variables with strong negative correlation eg rank and previous points (-0.6) while the variable with the strongest positive correlation is total points and current year average and previous points (0.23).\n",
        "\n",
        "Majority of the variables either had no correlation or a negative correlation."
      ]
    },
    {
      "cell_type": "code",
      "execution_count": 38,
      "metadata": {
        "colab": {
          "base_uri": "https://localhost:8080/",
          "height": 468
        },
        "id": "X0Rv3IK5KOrK",
        "outputId": "47293f94-5b9f-414a-c428-c5e3d35443a9"
      },
      "outputs": [
        {
          "output_type": "execute_result",
          "data": {
            "text/plain": [
              "     rank  country  total_points  previous_points  rank_change  confederation  \\\n",
              "0       8       20          0.00               55           -5              3   \n",
              "1      35       36          0.00               23           30              3   \n",
              "2      50      153          0.00               27            4              1   \n",
              "3      59       17          0.00               13           28              3   \n",
              "4      65       54          0.00               23           -2              1   \n",
              "..    ...      ...           ...              ...          ...            ...   \n",
              "945    12       39       1050.84             1040            1              5   \n",
              "946    14      144       1018.41              976            3              3   \n",
              "947    22       60        908.01              930            0              5   \n",
              "948    26        8        844.70              841            0              5   \n",
              "949    97       61        349.92              354            0              0   \n",
              "\n",
              "           date  home_team  away_team  home_score  away_score  tournament  \\\n",
              "0    1993-08-08         23        100           1           1          18   \n",
              "1    1993-08-08         46        177           5           0          17   \n",
              "2    1993-08-08        180         53           2           0          18   \n",
              "3    1993-08-08         20        175           3           1          17   \n",
              "4    1993-08-08         67        144           1           0          18   \n",
              "..          ...        ...        ...         ...         ...         ...   \n",
              "945  2018-06-07         88        160           4           2          10   \n",
              "946  2018-06-07        171        176           3           0          18   \n",
              "947  2018-06-07         73         62           2           2          18   \n",
              "948  2018-06-07        150         19           0           0          18   \n",
              "949  2018-06-07         74        109           1           2          21   \n",
              "\n",
              "     city  neutral  \n",
              "0     195        0  \n",
              "1     285        0  \n",
              "2     124        0  \n",
              "3     170        0  \n",
              "4      77        0  \n",
              "..    ...      ...  \n",
              "945    64        1  \n",
              "946   223        0  \n",
              "947   291        0  \n",
              "948   132        1  \n",
              "949   227        0  \n",
              "\n",
              "[913 rows x 14 columns]"
            ],
            "text/html": [
              "\n",
              "  <div id=\"df-b7cc4012-221b-442d-8cff-2f066552428c\">\n",
              "    <div class=\"colab-df-container\">\n",
              "      <div>\n",
              "<style scoped>\n",
              "    .dataframe tbody tr th:only-of-type {\n",
              "        vertical-align: middle;\n",
              "    }\n",
              "\n",
              "    .dataframe tbody tr th {\n",
              "        vertical-align: top;\n",
              "    }\n",
              "\n",
              "    .dataframe thead th {\n",
              "        text-align: right;\n",
              "    }\n",
              "</style>\n",
              "<table border=\"1\" class=\"dataframe\">\n",
              "  <thead>\n",
              "    <tr style=\"text-align: right;\">\n",
              "      <th></th>\n",
              "      <th>rank</th>\n",
              "      <th>country</th>\n",
              "      <th>total_points</th>\n",
              "      <th>previous_points</th>\n",
              "      <th>rank_change</th>\n",
              "      <th>confederation</th>\n",
              "      <th>date</th>\n",
              "      <th>home_team</th>\n",
              "      <th>away_team</th>\n",
              "      <th>home_score</th>\n",
              "      <th>away_score</th>\n",
              "      <th>tournament</th>\n",
              "      <th>city</th>\n",
              "      <th>neutral</th>\n",
              "    </tr>\n",
              "  </thead>\n",
              "  <tbody>\n",
              "    <tr>\n",
              "      <th>0</th>\n",
              "      <td>8</td>\n",
              "      <td>20</td>\n",
              "      <td>0.00</td>\n",
              "      <td>55</td>\n",
              "      <td>-5</td>\n",
              "      <td>3</td>\n",
              "      <td>1993-08-08</td>\n",
              "      <td>23</td>\n",
              "      <td>100</td>\n",
              "      <td>1</td>\n",
              "      <td>1</td>\n",
              "      <td>18</td>\n",
              "      <td>195</td>\n",
              "      <td>0</td>\n",
              "    </tr>\n",
              "    <tr>\n",
              "      <th>1</th>\n",
              "      <td>35</td>\n",
              "      <td>36</td>\n",
              "      <td>0.00</td>\n",
              "      <td>23</td>\n",
              "      <td>30</td>\n",
              "      <td>3</td>\n",
              "      <td>1993-08-08</td>\n",
              "      <td>46</td>\n",
              "      <td>177</td>\n",
              "      <td>5</td>\n",
              "      <td>0</td>\n",
              "      <td>17</td>\n",
              "      <td>285</td>\n",
              "      <td>0</td>\n",
              "    </tr>\n",
              "    <tr>\n",
              "      <th>2</th>\n",
              "      <td>50</td>\n",
              "      <td>153</td>\n",
              "      <td>0.00</td>\n",
              "      <td>27</td>\n",
              "      <td>4</td>\n",
              "      <td>1</td>\n",
              "      <td>1993-08-08</td>\n",
              "      <td>180</td>\n",
              "      <td>53</td>\n",
              "      <td>2</td>\n",
              "      <td>0</td>\n",
              "      <td>18</td>\n",
              "      <td>124</td>\n",
              "      <td>0</td>\n",
              "    </tr>\n",
              "    <tr>\n",
              "      <th>3</th>\n",
              "      <td>59</td>\n",
              "      <td>17</td>\n",
              "      <td>0.00</td>\n",
              "      <td>13</td>\n",
              "      <td>28</td>\n",
              "      <td>3</td>\n",
              "      <td>1993-08-08</td>\n",
              "      <td>20</td>\n",
              "      <td>175</td>\n",
              "      <td>3</td>\n",
              "      <td>1</td>\n",
              "      <td>17</td>\n",
              "      <td>170</td>\n",
              "      <td>0</td>\n",
              "    </tr>\n",
              "    <tr>\n",
              "      <th>4</th>\n",
              "      <td>65</td>\n",
              "      <td>54</td>\n",
              "      <td>0.00</td>\n",
              "      <td>23</td>\n",
              "      <td>-2</td>\n",
              "      <td>1</td>\n",
              "      <td>1993-08-08</td>\n",
              "      <td>67</td>\n",
              "      <td>144</td>\n",
              "      <td>1</td>\n",
              "      <td>0</td>\n",
              "      <td>18</td>\n",
              "      <td>77</td>\n",
              "      <td>0</td>\n",
              "    </tr>\n",
              "    <tr>\n",
              "      <th>...</th>\n",
              "      <td>...</td>\n",
              "      <td>...</td>\n",
              "      <td>...</td>\n",
              "      <td>...</td>\n",
              "      <td>...</td>\n",
              "      <td>...</td>\n",
              "      <td>...</td>\n",
              "      <td>...</td>\n",
              "      <td>...</td>\n",
              "      <td>...</td>\n",
              "      <td>...</td>\n",
              "      <td>...</td>\n",
              "      <td>...</td>\n",
              "      <td>...</td>\n",
              "    </tr>\n",
              "    <tr>\n",
              "      <th>945</th>\n",
              "      <td>12</td>\n",
              "      <td>39</td>\n",
              "      <td>1050.84</td>\n",
              "      <td>1040</td>\n",
              "      <td>1</td>\n",
              "      <td>5</td>\n",
              "      <td>2018-06-07</td>\n",
              "      <td>88</td>\n",
              "      <td>160</td>\n",
              "      <td>4</td>\n",
              "      <td>2</td>\n",
              "      <td>10</td>\n",
              "      <td>64</td>\n",
              "      <td>1</td>\n",
              "    </tr>\n",
              "    <tr>\n",
              "      <th>946</th>\n",
              "      <td>14</td>\n",
              "      <td>144</td>\n",
              "      <td>1018.41</td>\n",
              "      <td>976</td>\n",
              "      <td>3</td>\n",
              "      <td>3</td>\n",
              "      <td>2018-06-07</td>\n",
              "      <td>171</td>\n",
              "      <td>176</td>\n",
              "      <td>3</td>\n",
              "      <td>0</td>\n",
              "      <td>18</td>\n",
              "      <td>223</td>\n",
              "      <td>0</td>\n",
              "    </tr>\n",
              "    <tr>\n",
              "      <th>947</th>\n",
              "      <td>22</td>\n",
              "      <td>60</td>\n",
              "      <td>908.01</td>\n",
              "      <td>930</td>\n",
              "      <td>0</td>\n",
              "      <td>5</td>\n",
              "      <td>2018-06-07</td>\n",
              "      <td>73</td>\n",
              "      <td>62</td>\n",
              "      <td>2</td>\n",
              "      <td>2</td>\n",
              "      <td>18</td>\n",
              "      <td>291</td>\n",
              "      <td>0</td>\n",
              "    </tr>\n",
              "    <tr>\n",
              "      <th>948</th>\n",
              "      <td>26</td>\n",
              "      <td>8</td>\n",
              "      <td>844.70</td>\n",
              "      <td>841</td>\n",
              "      <td>0</td>\n",
              "      <td>5</td>\n",
              "      <td>2018-06-07</td>\n",
              "      <td>150</td>\n",
              "      <td>19</td>\n",
              "      <td>0</td>\n",
              "      <td>0</td>\n",
              "      <td>18</td>\n",
              "      <td>132</td>\n",
              "      <td>1</td>\n",
              "    </tr>\n",
              "    <tr>\n",
              "      <th>949</th>\n",
              "      <td>97</td>\n",
              "      <td>61</td>\n",
              "      <td>349.92</td>\n",
              "      <td>354</td>\n",
              "      <td>0</td>\n",
              "      <td>0</td>\n",
              "      <td>2018-06-07</td>\n",
              "      <td>74</td>\n",
              "      <td>109</td>\n",
              "      <td>1</td>\n",
              "      <td>2</td>\n",
              "      <td>21</td>\n",
              "      <td>227</td>\n",
              "      <td>0</td>\n",
              "    </tr>\n",
              "  </tbody>\n",
              "</table>\n",
              "<p>913 rows × 14 columns</p>\n",
              "</div>\n",
              "      <button class=\"colab-df-convert\" onclick=\"convertToInteractive('df-b7cc4012-221b-442d-8cff-2f066552428c')\"\n",
              "              title=\"Convert this dataframe to an interactive table.\"\n",
              "              style=\"display:none;\">\n",
              "        \n",
              "  <svg xmlns=\"http://www.w3.org/2000/svg\" height=\"24px\"viewBox=\"0 0 24 24\"\n",
              "       width=\"24px\">\n",
              "    <path d=\"M0 0h24v24H0V0z\" fill=\"none\"/>\n",
              "    <path d=\"M18.56 5.44l.94 2.06.94-2.06 2.06-.94-2.06-.94-.94-2.06-.94 2.06-2.06.94zm-11 1L8.5 8.5l.94-2.06 2.06-.94-2.06-.94L8.5 2.5l-.94 2.06-2.06.94zm10 10l.94 2.06.94-2.06 2.06-.94-2.06-.94-.94-2.06-.94 2.06-2.06.94z\"/><path d=\"M17.41 7.96l-1.37-1.37c-.4-.4-.92-.59-1.43-.59-.52 0-1.04.2-1.43.59L10.3 9.45l-7.72 7.72c-.78.78-.78 2.05 0 2.83L4 21.41c.39.39.9.59 1.41.59.51 0 1.02-.2 1.41-.59l7.78-7.78 2.81-2.81c.8-.78.8-2.07 0-2.86zM5.41 20L4 18.59l7.72-7.72 1.47 1.35L5.41 20z\"/>\n",
              "  </svg>\n",
              "      </button>\n",
              "      \n",
              "  <style>\n",
              "    .colab-df-container {\n",
              "      display:flex;\n",
              "      flex-wrap:wrap;\n",
              "      gap: 12px;\n",
              "    }\n",
              "\n",
              "    .colab-df-convert {\n",
              "      background-color: #E8F0FE;\n",
              "      border: none;\n",
              "      border-radius: 50%;\n",
              "      cursor: pointer;\n",
              "      display: none;\n",
              "      fill: #1967D2;\n",
              "      height: 32px;\n",
              "      padding: 0 0 0 0;\n",
              "      width: 32px;\n",
              "    }\n",
              "\n",
              "    .colab-df-convert:hover {\n",
              "      background-color: #E2EBFA;\n",
              "      box-shadow: 0px 1px 2px rgba(60, 64, 67, 0.3), 0px 1px 3px 1px rgba(60, 64, 67, 0.15);\n",
              "      fill: #174EA6;\n",
              "    }\n",
              "\n",
              "    [theme=dark] .colab-df-convert {\n",
              "      background-color: #3B4455;\n",
              "      fill: #D2E3FC;\n",
              "    }\n",
              "\n",
              "    [theme=dark] .colab-df-convert:hover {\n",
              "      background-color: #434B5C;\n",
              "      box-shadow: 0px 1px 3px 1px rgba(0, 0, 0, 0.15);\n",
              "      filter: drop-shadow(0px 1px 2px rgba(0, 0, 0, 0.3));\n",
              "      fill: #FFFFFF;\n",
              "    }\n",
              "  </style>\n",
              "\n",
              "      <script>\n",
              "        const buttonEl =\n",
              "          document.querySelector('#df-b7cc4012-221b-442d-8cff-2f066552428c button.colab-df-convert');\n",
              "        buttonEl.style.display =\n",
              "          google.colab.kernel.accessAllowed ? 'block' : 'none';\n",
              "\n",
              "        async function convertToInteractive(key) {\n",
              "          const element = document.querySelector('#df-b7cc4012-221b-442d-8cff-2f066552428c');\n",
              "          const dataTable =\n",
              "            await google.colab.kernel.invokeFunction('convertToInteractive',\n",
              "                                                     [key], {});\n",
              "          if (!dataTable) return;\n",
              "\n",
              "          const docLinkHtml = 'Like what you see? Visit the ' +\n",
              "            '<a target=\"_blank\" href=https://colab.research.google.com/notebooks/data_table.ipynb>data table notebook</a>'\n",
              "            + ' to learn more about interactive tables.';\n",
              "          element.innerHTML = '';\n",
              "          dataTable['output_type'] = 'display_data';\n",
              "          await google.colab.output.renderOutput(dataTable, element);\n",
              "          const docLink = document.createElement('div');\n",
              "          docLink.innerHTML = docLinkHtml;\n",
              "          element.appendChild(docLink);\n",
              "        }\n",
              "      </script>\n",
              "    </div>\n",
              "  </div>\n",
              "  "
            ]
          },
          "metadata": {},
          "execution_count": 38
        }
      ],
      "source": [
        "# Encoding our categorical variables\n",
        "# Renaming our dataset to 'data'\n",
        "data = dataset\n",
        "from sklearn.preprocessing import LabelEncoder\n",
        "en = LabelEncoder()\n",
        "data['neutral'] = en.fit_transform(data['neutral'])\n",
        "data['confederation'] = en.fit_transform(data['confederation'])\n",
        "data['tournament'] = en.fit_transform(data['tournament'])\n",
        "data['country'] = en.fit_transform(data['country'])\n",
        "data['city'] = en.fit_transform(data['city'])\n",
        "data['home_team'] = en.fit_transform(data['home_team'])\n",
        "data['away_team'] = en.fit_transform(data['away_team'])\n",
        "data"
      ]
    },
    {
      "cell_type": "code",
      "execution_count": 39,
      "metadata": {
        "colab": {
          "base_uri": "https://localhost:8080/",
          "height": 668
        },
        "id": "RTHBTAo_N90E",
        "outputId": "7166223d-ed3d-4b9f-9e36-97ae1e8fc862"
      },
      "outputs": [
        {
          "output_type": "stream",
          "name": "stderr",
          "text": [
            "<ipython-input-39-ba7fb435bb7c>:2: FutureWarning: In a future version of pandas all arguments of DataFrame.drop except for the argument 'labels' will be keyword-only\n",
            "  categorical_variables = data.drop(['rank', 'total_points','previous_points',\n"
          ]
        },
        {
          "output_type": "execute_result",
          "data": {
            "text/plain": [
              "<matplotlib.axes._subplots.AxesSubplot at 0x7fdaba740af0>"
            ]
          },
          "metadata": {},
          "execution_count": 39
        },
        {
          "output_type": "display_data",
          "data": {
            "text/plain": [
              "<Figure size 1080x720 with 2 Axes>"
            ],
            "image/png": "[encoded data removed]"
          },
          "metadata": {
            "needs_background": "light"
          }
        }
      ],
      "source": [
        "# Subsetting the data\n",
        "categorical_variables = data.drop(['rank', 'total_points','previous_points',\n",
        "                               'rank_change', 'home_score', 'away_score'],1)\n",
        "\n",
        "# Creating a correlation matrix for our categorical variables\n",
        "corrMatrix = categorical_variables.corr()\n",
        "corrMatrix\n",
        "\n",
        "# Vizualising the correlation matrix using a heat map\n",
        "\n",
        "fig, ax = plt.subplots(figsize=(15,10)) \n",
        "sns.heatmap(corrMatrix, annot=True,  linewidths=.5, ax=ax)"
      ]
    },
    {
      "cell_type": "markdown",
      "metadata": {
        "id": "NiJP7bz8Onbs"
      },
      "source": [
        "Country where the game was played had a strong positive correlation (0.85) with the home team variable.\n",
        "\n",
        "Majority of the categorical variables had a negative correlation or close to no correlation.\n",
        "\n",
        "Confederation and country had the strongest negative correlation (-0.18)."
      ]
    },
    {
      "cell_type": "markdown",
      "source": [
        "#Feature Engineering"
      ],
      "metadata": {
        "id": "RgXy730BF_G6"
      }
    },
    {
      "cell_type": "code",
      "source": [
        "# Reassigning dataset before encoding to df\n",
        "df = dataset\n",
        "df.head()"
      ],
      "metadata": {
        "colab": {
          "base_uri": "https://localhost:8080/",
          "height": 250
        },
        "id": "OyHOk4UYsQ0m",
        "outputId": "76fc6a68-26ca-44b1-f981-b6fbef7d30d3"
      },
      "execution_count": 40,
      "outputs": [
        {
          "output_type": "execute_result",
          "data": {
            "text/plain": [
              "   rank  country  total_points  previous_points  rank_change  confederation  \\\n",
              "0     8       20           0.0               55           -5              3   \n",
              "1    35       36           0.0               23           30              3   \n",
              "2    50      153           0.0               27            4              1   \n",
              "3    59       17           0.0               13           28              3   \n",
              "4    65       54           0.0               23           -2              1   \n",
              "\n",
              "         date  home_team  away_team  home_score  away_score  tournament  city  \\\n",
              "0  1993-08-08         23        100           1           1          18   195   \n",
              "1  1993-08-08         46        177           5           0          17   285   \n",
              "2  1993-08-08        180         53           2           0          18   124   \n",
              "3  1993-08-08         20        175           3           1          17   170   \n",
              "4  1993-08-08         67        144           1           0          18    77   \n",
              "\n",
              "   neutral  \n",
              "0        0  \n",
              "1        0  \n",
              "2        0  \n",
              "3        0  \n",
              "4        0  "
            ],
            "text/html": [
              "\n",
              "  <div id=\"df-0a93aa39-1134-42d1-af7d-cbc2f1b64e15\">\n",
              "    <div class=\"colab-df-container\">\n",
              "      <div>\n",
              "<style scoped>\n",
              "    .dataframe tbody tr th:only-of-type {\n",
              "        vertical-align: middle;\n",
              "    }\n",
              "\n",
              "    .dataframe tbody tr th {\n",
              "        vertical-align: top;\n",
              "    }\n",
              "\n",
              "    .dataframe thead th {\n",
              "        text-align: right;\n",
              "    }\n",
              "</style>\n",
              "<table border=\"1\" class=\"dataframe\">\n",
              "  <thead>\n",
              "    <tr style=\"text-align: right;\">\n",
              "      <th></th>\n",
              "      <th>rank</th>\n",
              "      <th>country</th>\n",
              "      <th>total_points</th>\n",
              "      <th>previous_points</th>\n",
              "      <th>rank_change</th>\n",
              "      <th>confederation</th>\n",
              "      <th>date</th>\n",
              "      <th>home_team</th>\n",
              "      <th>away_team</th>\n",
              "      <th>home_score</th>\n",
              "      <th>away_score</th>\n",
              "      <th>tournament</th>\n",
              "      <th>city</th>\n",
              "      <th>neutral</th>\n",
              "    </tr>\n",
              "  </thead>\n",
              "  <tbody>\n",
              "    <tr>\n",
              "      <th>0</th>\n",
              "      <td>8</td>\n",
              "      <td>20</td>\n",
              "      <td>0.0</td>\n",
              "      <td>55</td>\n",
              "      <td>-5</td>\n",
              "      <td>3</td>\n",
              "      <td>1993-08-08</td>\n",
              "      <td>23</td>\n",
              "      <td>100</td>\n",
              "      <td>1</td>\n",
              "      <td>1</td>\n",
              "      <td>18</td>\n",
              "      <td>195</td>\n",
              "      <td>0</td>\n",
              "    </tr>\n",
              "    <tr>\n",
              "      <th>1</th>\n",
              "      <td>35</td>\n",
              "      <td>36</td>\n",
              "      <td>0.0</td>\n",
              "      <td>23</td>\n",
              "      <td>30</td>\n",
              "      <td>3</td>\n",
              "      <td>1993-08-08</td>\n",
              "      <td>46</td>\n",
              "      <td>177</td>\n",
              "      <td>5</td>\n",
              "      <td>0</td>\n",
              "      <td>17</td>\n",
              "      <td>285</td>\n",
              "      <td>0</td>\n",
              "    </tr>\n",
              "    <tr>\n",
              "      <th>2</th>\n",
              "      <td>50</td>\n",
              "      <td>153</td>\n",
              "      <td>0.0</td>\n",
              "      <td>27</td>\n",
              "      <td>4</td>\n",
              "      <td>1</td>\n",
              "      <td>1993-08-08</td>\n",
              "      <td>180</td>\n",
              "      <td>53</td>\n",
              "      <td>2</td>\n",
              "      <td>0</td>\n",
              "      <td>18</td>\n",
              "      <td>124</td>\n",
              "      <td>0</td>\n",
              "    </tr>\n",
              "    <tr>\n",
              "      <th>3</th>\n",
              "      <td>59</td>\n",
              "      <td>17</td>\n",
              "      <td>0.0</td>\n",
              "      <td>13</td>\n",
              "      <td>28</td>\n",
              "      <td>3</td>\n",
              "      <td>1993-08-08</td>\n",
              "      <td>20</td>\n",
              "      <td>175</td>\n",
              "      <td>3</td>\n",
              "      <td>1</td>\n",
              "      <td>17</td>\n",
              "      <td>170</td>\n",
              "      <td>0</td>\n",
              "    </tr>\n",
              "    <tr>\n",
              "      <th>4</th>\n",
              "      <td>65</td>\n",
              "      <td>54</td>\n",
              "      <td>0.0</td>\n",
              "      <td>23</td>\n",
              "      <td>-2</td>\n",
              "      <td>1</td>\n",
              "      <td>1993-08-08</td>\n",
              "      <td>67</td>\n",
              "      <td>144</td>\n",
              "      <td>1</td>\n",
              "      <td>0</td>\n",
              "      <td>18</td>\n",
              "      <td>77</td>\n",
              "      <td>0</td>\n",
              "    </tr>\n",
              "  </tbody>\n",
              "</table>\n",
              "</div>\n",
              "      <button class=\"colab-df-convert\" onclick=\"convertToInteractive('df-0a93aa39-1134-42d1-af7d-cbc2f1b64e15')\"\n",
              "              title=\"Convert this dataframe to an interactive table.\"\n",
              "              style=\"display:none;\">\n",
              "        \n",
              "  <svg xmlns=\"http://www.w3.org/2000/svg\" height=\"24px\"viewBox=\"0 0 24 24\"\n",
              "       width=\"24px\">\n",
              "    <path d=\"M0 0h24v24H0V0z\" fill=\"none\"/>\n",
              "    <path d=\"M18.56 5.44l.94 2.06.94-2.06 2.06-.94-2.06-.94-.94-2.06-.94 2.06-2.06.94zm-11 1L8.5 8.5l.94-2.06 2.06-.94-2.06-.94L8.5 2.5l-.94 2.06-2.06.94zm10 10l.94 2.06.94-2.06 2.06-.94-2.06-.94-.94-2.06-.94 2.06-2.06.94z\"/><path d=\"M17.41 7.96l-1.37-1.37c-.4-.4-.92-.59-1.43-.59-.52 0-1.04.2-1.43.59L10.3 9.45l-7.72 7.72c-.78.78-.78 2.05 0 2.83L4 21.41c.39.39.9.59 1.41.59.51 0 1.02-.2 1.41-.59l7.78-7.78 2.81-2.81c.8-.78.8-2.07 0-2.86zM5.41 20L4 18.59l7.72-7.72 1.47 1.35L5.41 20z\"/>\n",
              "  </svg>\n",
              "      </button>\n",
              "      \n",
              "  <style>\n",
              "    .colab-df-container {\n",
              "      display:flex;\n",
              "      flex-wrap:wrap;\n",
              "      gap: 12px;\n",
              "    }\n",
              "\n",
              "    .colab-df-convert {\n",
              "      background-color: #E8F0FE;\n",
              "      border: none;\n",
              "      border-radius: 50%;\n",
              "      cursor: pointer;\n",
              "      display: none;\n",
              "      fill: #1967D2;\n",
              "      height: 32px;\n",
              "      padding: 0 0 0 0;\n",
              "      width: 32px;\n",
              "    }\n",
              "\n",
              "    .colab-df-convert:hover {\n",
              "      background-color: #E2EBFA;\n",
              "      box-shadow: 0px 1px 2px rgba(60, 64, 67, 0.3), 0px 1px 3px 1px rgba(60, 64, 67, 0.15);\n",
              "      fill: #174EA6;\n",
              "    }\n",
              "\n",
              "    [theme=dark] .colab-df-convert {\n",
              "      background-color: #3B4455;\n",
              "      fill: #D2E3FC;\n",
              "    }\n",
              "\n",
              "    [theme=dark] .colab-df-convert:hover {\n",
              "      background-color: #434B5C;\n",
              "      box-shadow: 0px 1px 3px 1px rgba(0, 0, 0, 0.15);\n",
              "      filter: drop-shadow(0px 1px 2px rgba(0, 0, 0, 0.3));\n",
              "      fill: #FFFFFF;\n",
              "    }\n",
              "  </style>\n",
              "\n",
              "      <script>\n",
              "        const buttonEl =\n",
              "          document.querySelector('#df-0a93aa39-1134-42d1-af7d-cbc2f1b64e15 button.colab-df-convert');\n",
              "        buttonEl.style.display =\n",
              "          google.colab.kernel.accessAllowed ? 'block' : 'none';\n",
              "\n",
              "        async function convertToInteractive(key) {\n",
              "          const element = document.querySelector('#df-0a93aa39-1134-42d1-af7d-cbc2f1b64e15');\n",
              "          const dataTable =\n",
              "            await google.colab.kernel.invokeFunction('convertToInteractive',\n",
              "                                                     [key], {});\n",
              "          if (!dataTable) return;\n",
              "\n",
              "          const docLinkHtml = 'Like what you see? Visit the ' +\n",
              "            '<a target=\"_blank\" href=https://colab.research.google.com/notebooks/data_table.ipynb>data table notebook</a>'\n",
              "            + ' to learn more about interactive tables.';\n",
              "          element.innerHTML = '';\n",
              "          dataTable['output_type'] = 'display_data';\n",
              "          await google.colab.output.renderOutput(dataTable, element);\n",
              "          const docLink = document.createElement('div');\n",
              "          docLink.innerHTML = docLinkHtml;\n",
              "          element.appendChild(docLink);\n",
              "        }\n",
              "      </script>\n",
              "    </div>\n",
              "  </div>\n",
              "  "
            ]
          },
          "metadata": {},
          "execution_count": 40
        }
      ]
    },
    {
      "cell_type": "code",
      "source": [
        "# Creating a new column in the dataset\n",
        "# This column will contain the perfomance of the home team\n",
        "# whether win, draw or loss\n",
        "# The new column is goal_diff i.e. \n",
        "# difference in goals between the home and the away teams\n",
        "\n",
        "df['goal_diff'] = df['home_score'] - df['away_score']\n",
        "df.head()"
      ],
      "metadata": {
        "colab": {
          "base_uri": "https://localhost:8080/",
          "height": 357
        },
        "id": "NGc0c1jAF6JT",
        "outputId": "6eada222-93de-4a90-cc91-d0a851226367"
      },
      "execution_count": 41,
      "outputs": [
        {
          "output_type": "execute_result",
          "data": {
            "text/plain": [
              "   rank  country  total_points  previous_points  rank_change  confederation  \\\n",
              "0     8       20           0.0               55           -5              3   \n",
              "1    35       36           0.0               23           30              3   \n",
              "2    50      153           0.0               27            4              1   \n",
              "3    59       17           0.0               13           28              3   \n",
              "4    65       54           0.0               23           -2              1   \n",
              "\n",
              "         date  home_team  away_team  home_score  away_score  tournament  city  \\\n",
              "0  1993-08-08         23        100           1           1          18   195   \n",
              "1  1993-08-08         46        177           5           0          17   285   \n",
              "2  1993-08-08        180         53           2           0          18   124   \n",
              "3  1993-08-08         20        175           3           1          17   170   \n",
              "4  1993-08-08         67        144           1           0          18    77   \n",
              "\n",
              "   neutral  goal_diff  \n",
              "0        0          0  \n",
              "1        0          5  \n",
              "2        0          2  \n",
              "3        0          2  \n",
              "4        0          1  "
            ],
            "text/html": [
              "\n",
              "  <div id=\"df-f06af608-9f93-4cb0-9281-f4fa48cef607\">\n",
              "    <div class=\"colab-df-container\">\n",
              "      <div>\n",
              "<style scoped>\n",
              "    .dataframe tbody tr th:only-of-type {\n",
              "        vertical-align: middle;\n",
              "    }\n",
              "\n",
              "    .dataframe tbody tr th {\n",
              "        vertical-align: top;\n",
              "    }\n",
              "\n",
              "    .dataframe thead th {\n",
              "        text-align: right;\n",
              "    }\n",
              "</style>\n",
              "<table border=\"1\" class=\"dataframe\">\n",
              "  <thead>\n",
              "    <tr style=\"text-align: right;\">\n",
              "      <th></th>\n",
              "      <th>rank</th>\n",
              "      <th>country</th>\n",
              "      <th>total_points</th>\n",
              "      <th>previous_points</th>\n",
              "      <th>rank_change</th>\n",
              "      <th>confederation</th>\n",
              "      <th>date</th>\n",
              "      <th>home_team</th>\n",
              "      <th>away_team</th>\n",
              "      <th>home_score</th>\n",
              "      <th>away_score</th>\n",
              "      <th>tournament</th>\n",
              "      <th>city</th>\n",
              "      <th>neutral</th>\n",
              "      <th>goal_diff</th>\n",
              "    </tr>\n",
              "  </thead>\n",
              "  <tbody>\n",
              "    <tr>\n",
              "      <th>0</th>\n",
              "      <td>8</td>\n",
              "      <td>20</td>\n",
              "      <td>0.0</td>\n",
              "      <td>55</td>\n",
              "      <td>-5</td>\n",
              "      <td>3</td>\n",
              "      <td>1993-08-08</td>\n",
              "      <td>23</td>\n",
              "      <td>100</td>\n",
              "      <td>1</td>\n",
              "      <td>1</td>\n",
              "      <td>18</td>\n",
              "      <td>195</td>\n",
              "      <td>0</td>\n",
              "      <td>0</td>\n",
              "    </tr>\n",
              "    <tr>\n",
              "      <th>1</th>\n",
              "      <td>35</td>\n",
              "      <td>36</td>\n",
              "      <td>0.0</td>\n",
              "      <td>23</td>\n",
              "      <td>30</td>\n",
              "      <td>3</td>\n",
              "      <td>1993-08-08</td>\n",
              "      <td>46</td>\n",
              "      <td>177</td>\n",
              "      <td>5</td>\n",
              "      <td>0</td>\n",
              "      <td>17</td>\n",
              "      <td>285</td>\n",
              "      <td>0</td>\n",
              "      <td>5</td>\n",
              "    </tr>\n",
              "    <tr>\n",
              "      <th>2</th>\n",
              "      <td>50</td>\n",
              "      <td>153</td>\n",
              "      <td>0.0</td>\n",
              "      <td>27</td>\n",
              "      <td>4</td>\n",
              "      <td>1</td>\n",
              "      <td>1993-08-08</td>\n",
              "      <td>180</td>\n",
              "      <td>53</td>\n",
              "      <td>2</td>\n",
              "      <td>0</td>\n",
              "      <td>18</td>\n",
              "      <td>124</td>\n",
              "      <td>0</td>\n",
              "      <td>2</td>\n",
              "    </tr>\n",
              "    <tr>\n",
              "      <th>3</th>\n",
              "      <td>59</td>\n",
              "      <td>17</td>\n",
              "      <td>0.0</td>\n",
              "      <td>13</td>\n",
              "      <td>28</td>\n",
              "      <td>3</td>\n",
              "      <td>1993-08-08</td>\n",
              "      <td>20</td>\n",
              "      <td>175</td>\n",
              "      <td>3</td>\n",
              "      <td>1</td>\n",
              "      <td>17</td>\n",
              "      <td>170</td>\n",
              "      <td>0</td>\n",
              "      <td>2</td>\n",
              "    </tr>\n",
              "    <tr>\n",
              "      <th>4</th>\n",
              "      <td>65</td>\n",
              "      <td>54</td>\n",
              "      <td>0.0</td>\n",
              "      <td>23</td>\n",
              "      <td>-2</td>\n",
              "      <td>1</td>\n",
              "      <td>1993-08-08</td>\n",
              "      <td>67</td>\n",
              "      <td>144</td>\n",
              "      <td>1</td>\n",
              "      <td>0</td>\n",
              "      <td>18</td>\n",
              "      <td>77</td>\n",
              "      <td>0</td>\n",
              "      <td>1</td>\n",
              "    </tr>\n",
              "  </tbody>\n",
              "</table>\n",
              "</div>\n",
              "      <button class=\"colab-df-convert\" onclick=\"convertToInteractive('df-f06af608-9f93-4cb0-9281-f4fa48cef607')\"\n",
              "              title=\"Convert this dataframe to an interactive table.\"\n",
              "              style=\"display:none;\">\n",
              "        \n",
              "  <svg xmlns=\"http://www.w3.org/2000/svg\" height=\"24px\"viewBox=\"0 0 24 24\"\n",
              "       width=\"24px\">\n",
              "    <path d=\"M0 0h24v24H0V0z\" fill=\"none\"/>\n",
              "    <path d=\"M18.56 5.44l.94 2.06.94-2.06 2.06-.94-2.06-.94-.94-2.06-.94 2.06-2.06.94zm-11 1L8.5 8.5l.94-2.06 2.06-.94-2.06-.94L8.5 2.5l-.94 2.06-2.06.94zm10 10l.94 2.06.94-2.06 2.06-.94-2.06-.94-.94-2.06-.94 2.06-2.06.94z\"/><path d=\"M17.41 7.96l-1.37-1.37c-.4-.4-.92-.59-1.43-.59-.52 0-1.04.2-1.43.59L10.3 9.45l-7.72 7.72c-.78.78-.78 2.05 0 2.83L4 21.41c.39.39.9.59 1.41.59.51 0 1.02-.2 1.41-.59l7.78-7.78 2.81-2.81c.8-.78.8-2.07 0-2.86zM5.41 20L4 18.59l7.72-7.72 1.47 1.35L5.41 20z\"/>\n",
              "  </svg>\n",
              "      </button>\n",
              "      \n",
              "  <style>\n",
              "    .colab-df-container {\n",
              "      display:flex;\n",
              "      flex-wrap:wrap;\n",
              "      gap: 12px;\n",
              "    }\n",
              "\n",
              "    .colab-df-convert {\n",
              "      background-color: #E8F0FE;\n",
              "      border: none;\n",
              "      border-radius: 50%;\n",
              "      cursor: pointer;\n",
              "      display: none;\n",
              "      fill: #1967D2;\n",
              "      height: 32px;\n",
              "      padding: 0 0 0 0;\n",
              "      width: 32px;\n",
              "    }\n",
              "\n",
              "    .colab-df-convert:hover {\n",
              "      background-color: #E2EBFA;\n",
              "      box-shadow: 0px 1px 2px rgba(60, 64, 67, 0.3), 0px 1px 3px 1px rgba(60, 64, 67, 0.15);\n",
              "      fill: #174EA6;\n",
              "    }\n",
              "\n",
              "    [theme=dark] .colab-df-convert {\n",
              "      background-color: #3B4455;\n",
              "      fill: #D2E3FC;\n",
              "    }\n",
              "\n",
              "    [theme=dark] .colab-df-convert:hover {\n",
              "      background-color: #434B5C;\n",
              "      box-shadow: 0px 1px 3px 1px rgba(0, 0, 0, 0.15);\n",
              "      filter: drop-shadow(0px 1px 2px rgba(0, 0, 0, 0.3));\n",
              "      fill: #FFFFFF;\n",
              "    }\n",
              "  </style>\n",
              "\n",
              "      <script>\n",
              "        const buttonEl =\n",
              "          document.querySelector('#df-f06af608-9f93-4cb0-9281-f4fa48cef607 button.colab-df-convert');\n",
              "        buttonEl.style.display =\n",
              "          google.colab.kernel.accessAllowed ? 'block' : 'none';\n",
              "\n",
              "        async function convertToInteractive(key) {\n",
              "          const element = document.querySelector('#df-f06af608-9f93-4cb0-9281-f4fa48cef607');\n",
              "          const dataTable =\n",
              "            await google.colab.kernel.invokeFunction('convertToInteractive',\n",
              "                                                     [key], {});\n",
              "          if (!dataTable) return;\n",
              "\n",
              "          const docLinkHtml = 'Like what you see? Visit the ' +\n",
              "            '<a target=\"_blank\" href=https://colab.research.google.com/notebooks/data_table.ipynb>data table notebook</a>'\n",
              "            + ' to learn more about interactive tables.';\n",
              "          element.innerHTML = '';\n",
              "          dataTable['output_type'] = 'display_data';\n",
              "          await google.colab.output.renderOutput(dataTable, element);\n",
              "          const docLink = document.createElement('div');\n",
              "          docLink.innerHTML = docLinkHtml;\n",
              "          element.appendChild(docLink);\n",
              "        }\n",
              "      </script>\n",
              "    </div>\n",
              "  </div>\n",
              "  "
            ]
          },
          "metadata": {},
          "execution_count": 41
        }
      ]
    },
    {
      "cell_type": "code",
      "source": [
        "\n",
        "# Creating a function to specify whether its a win , loss or a draw based on a home team perspective\n",
        "# Applying the function in a new column called Status_home\n",
        "\n",
        "\n",
        "def home_team(home_goals):\n",
        "    if home_goals > 0:\n",
        "        return 'win'\n",
        "    elif home_goals < 0:\n",
        "        return 'loss'\n",
        "    else:\n",
        "        return 'draw'\n",
        "      \n",
        "df['Status_home'] = df.goal_diff.apply(lambda j: home_team(j))\n",
        "\n",
        "df.head()\n",
        "df['tournament'].unique()"
      ],
      "metadata": {
        "colab": {
          "base_uri": "https://localhost:8080/"
        },
        "id": "Sph7vbAoGekL",
        "outputId": "ca4c296d-8799-4935-edbf-81d3d0218daf"
      },
      "execution_count": 44,
      "outputs": [
        {
          "output_type": "execute_result",
          "data": {
            "text/plain": [
              "array([18, 17, 24,  8,  4,  1,  9, 13, 31, 33, 32, 25, 22, 35, 20, 15, 23,\n",
              "       19, 30,  3, 29, 28, 12,  0, 26, 11,  7, 16,  2,  5, 14, 34, 27,  6,\n",
              "       10, 21])"
            ]
          },
          "metadata": {},
          "execution_count": 44
        }
      ]
    },
    {
      "cell_type": "code",
      "source": [
        "# Changing the tournament type into three categories \n",
        "# Tournament type (World cup, Friendly, Other)\n",
        "\n",
        "def tona(typ):\n",
        "    if typ == 'Friendly':\n",
        "        return 'Friendly'\n",
        "    elif typ == 'FIFA World Cup qualification':\n",
        "        return 'World cup'\n",
        "    else:\n",
        "        return 'Other'\n",
        "      \n",
        "df['tournament_type'] = df.tournament.apply(lambda q: tona(q))\n",
        "\n",
        "# Checking the number of unique values in the tournament column\n",
        "df['tournament_type'].unique()\n"
      ],
      "metadata": {
        "colab": {
          "base_uri": "https://localhost:8080/"
        },
        "id": "nEOv0TPSGwej",
        "outputId": "6573ee4d-0ddc-4bb1-9546-949949aa55c2"
      },
      "execution_count": 43,
      "outputs": [
        {
          "output_type": "execute_result",
          "data": {
            "text/plain": [
              "array(['Other'], dtype=object)"
            ]
          },
          "metadata": {},
          "execution_count": 43
        }
      ]
    },
    {
      "cell_type": "code",
      "source": [
        "\n",
        "# Extracting the year and month from the date column; \n",
        "# Here we will create a new column for each\n",
        "\n",
        "\n",
        "df['year'] = pd.DatetimeIndex(df['date']).year\n",
        "df['month'] = pd.DatetimeIndex(df['date']).month\n",
        "\n",
        "\n",
        "\n",
        "\n",
        "# Viewing the first 5 entries\n",
        "df.head()\n",
        "     "
      ],
      "metadata": {
        "colab": {
          "base_uri": "https://localhost:8080/",
          "height": 357
        },
        "id": "6zSAgBsWHNEO",
        "outputId": "8fda9a89-386d-4dd6-8bb8-c49a733a1990"
      },
      "execution_count": 45,
      "outputs": [
        {
          "output_type": "execute_result",
          "data": {
            "text/plain": [
              "   rank  country  total_points  previous_points  rank_change  confederation  \\\n",
              "0     8       20           0.0               55           -5              3   \n",
              "1    35       36           0.0               23           30              3   \n",
              "2    50      153           0.0               27            4              1   \n",
              "3    59       17           0.0               13           28              3   \n",
              "4    65       54           0.0               23           -2              1   \n",
              "\n",
              "         date  home_team  away_team  home_score  away_score  tournament  city  \\\n",
              "0  1993-08-08         23        100           1           1          18   195   \n",
              "1  1993-08-08         46        177           5           0          17   285   \n",
              "2  1993-08-08        180         53           2           0          18   124   \n",
              "3  1993-08-08         20        175           3           1          17   170   \n",
              "4  1993-08-08         67        144           1           0          18    77   \n",
              "\n",
              "   neutral  goal_diff Status_home tournament_type  year  month  \n",
              "0        0          0        draw           Other  1993      8  \n",
              "1        0          5         win           Other  1993      8  \n",
              "2        0          2         win           Other  1993      8  \n",
              "3        0          2         win           Other  1993      8  \n",
              "4        0          1         win           Other  1993      8  "
            ],
            "text/html": [
              "\n",
              "  <div id=\"df-fdac4a8c-21f0-41f2-9af2-b9f7a7eef932\">\n",
              "    <div class=\"colab-df-container\">\n",
              "      <div>\n",
              "<style scoped>\n",
              "    .dataframe tbody tr th:only-of-type {\n",
              "        vertical-align: middle;\n",
              "    }\n",
              "\n",
              "    .dataframe tbody tr th {\n",
              "        vertical-align: top;\n",
              "    }\n",
              "\n",
              "    .dataframe thead th {\n",
              "        text-align: right;\n",
              "    }\n",
              "</style>\n",
              "<table border=\"1\" class=\"dataframe\">\n",
              "  <thead>\n",
              "    <tr style=\"text-align: right;\">\n",
              "      <th></th>\n",
              "      <th>rank</th>\n",
              "      <th>country</th>\n",
              "      <th>total_points</th>\n",
              "      <th>previous_points</th>\n",
              "      <th>rank_change</th>\n",
              "      <th>confederation</th>\n",
              "      <th>date</th>\n",
              "      <th>home_team</th>\n",
              "      <th>away_team</th>\n",
              "      <th>home_score</th>\n",
              "      <th>away_score</th>\n",
              "      <th>tournament</th>\n",
              "      <th>city</th>\n",
              "      <th>neutral</th>\n",
              "      <th>goal_diff</th>\n",
              "      <th>Status_home</th>\n",
              "      <th>tournament_type</th>\n",
              "      <th>year</th>\n",
              "      <th>month</th>\n",
              "    </tr>\n",
              "  </thead>\n",
              "  <tbody>\n",
              "    <tr>\n",
              "      <th>0</th>\n",
              "      <td>8</td>\n",
              "      <td>20</td>\n",
              "      <td>0.0</td>\n",
              "      <td>55</td>\n",
              "      <td>-5</td>\n",
              "      <td>3</td>\n",
              "      <td>1993-08-08</td>\n",
              "      <td>23</td>\n",
              "      <td>100</td>\n",
              "      <td>1</td>\n",
              "      <td>1</td>\n",
              "      <td>18</td>\n",
              "      <td>195</td>\n",
              "      <td>0</td>\n",
              "      <td>0</td>\n",
              "      <td>draw</td>\n",
              "      <td>Other</td>\n",
              "      <td>1993</td>\n",
              "      <td>8</td>\n",
              "    </tr>\n",
              "    <tr>\n",
              "      <th>1</th>\n",
              "      <td>35</td>\n",
              "      <td>36</td>\n",
              "      <td>0.0</td>\n",
              "      <td>23</td>\n",
              "      <td>30</td>\n",
              "      <td>3</td>\n",
              "      <td>1993-08-08</td>\n",
              "      <td>46</td>\n",
              "      <td>177</td>\n",
              "      <td>5</td>\n",
              "      <td>0</td>\n",
              "      <td>17</td>\n",
              "      <td>285</td>\n",
              "      <td>0</td>\n",
              "      <td>5</td>\n",
              "      <td>win</td>\n",
              "      <td>Other</td>\n",
              "      <td>1993</td>\n",
              "      <td>8</td>\n",
              "    </tr>\n",
              "    <tr>\n",
              "      <th>2</th>\n",
              "      <td>50</td>\n",
              "      <td>153</td>\n",
              "      <td>0.0</td>\n",
              "      <td>27</td>\n",
              "      <td>4</td>\n",
              "      <td>1</td>\n",
              "      <td>1993-08-08</td>\n",
              "      <td>180</td>\n",
              "      <td>53</td>\n",
              "      <td>2</td>\n",
              "      <td>0</td>\n",
              "      <td>18</td>\n",
              "      <td>124</td>\n",
              "      <td>0</td>\n",
              "      <td>2</td>\n",
              "      <td>win</td>\n",
              "      <td>Other</td>\n",
              "      <td>1993</td>\n",
              "      <td>8</td>\n",
              "    </tr>\n",
              "    <tr>\n",
              "      <th>3</th>\n",
              "      <td>59</td>\n",
              "      <td>17</td>\n",
              "      <td>0.0</td>\n",
              "      <td>13</td>\n",
              "      <td>28</td>\n",
              "      <td>3</td>\n",
              "      <td>1993-08-08</td>\n",
              "      <td>20</td>\n",
              "      <td>175</td>\n",
              "      <td>3</td>\n",
              "      <td>1</td>\n",
              "      <td>17</td>\n",
              "      <td>170</td>\n",
              "      <td>0</td>\n",
              "      <td>2</td>\n",
              "      <td>win</td>\n",
              "      <td>Other</td>\n",
              "      <td>1993</td>\n",
              "      <td>8</td>\n",
              "    </tr>\n",
              "    <tr>\n",
              "      <th>4</th>\n",
              "      <td>65</td>\n",
              "      <td>54</td>\n",
              "      <td>0.0</td>\n",
              "      <td>23</td>\n",
              "      <td>-2</td>\n",
              "      <td>1</td>\n",
              "      <td>1993-08-08</td>\n",
              "      <td>67</td>\n",
              "      <td>144</td>\n",
              "      <td>1</td>\n",
              "      <td>0</td>\n",
              "      <td>18</td>\n",
              "      <td>77</td>\n",
              "      <td>0</td>\n",
              "      <td>1</td>\n",
              "      <td>win</td>\n",
              "      <td>Other</td>\n",
              "      <td>1993</td>\n",
              "      <td>8</td>\n",
              "    </tr>\n",
              "  </tbody>\n",
              "</table>\n",
              "</div>\n",
              "      <button class=\"colab-df-convert\" onclick=\"convertToInteractive('df-fdac4a8c-21f0-41f2-9af2-b9f7a7eef932')\"\n",
              "              title=\"Convert this dataframe to an interactive table.\"\n",
              "              style=\"display:none;\">\n",
              "        \n",
              "  <svg xmlns=\"http://www.w3.org/2000/svg\" height=\"24px\"viewBox=\"0 0 24 24\"\n",
              "       width=\"24px\">\n",
              "    <path d=\"M0 0h24v24H0V0z\" fill=\"none\"/>\n",
              "    <path d=\"M18.56 5.44l.94 2.06.94-2.06 2.06-.94-2.06-.94-.94-2.06-.94 2.06-2.06.94zm-11 1L8.5 8.5l.94-2.06 2.06-.94-2.06-.94L8.5 2.5l-.94 2.06-2.06.94zm10 10l.94 2.06.94-2.06 2.06-.94-2.06-.94-.94-2.06-.94 2.06-2.06.94z\"/><path d=\"M17.41 7.96l-1.37-1.37c-.4-.4-.92-.59-1.43-.59-.52 0-1.04.2-1.43.59L10.3 9.45l-7.72 7.72c-.78.78-.78 2.05 0 2.83L4 21.41c.39.39.9.59 1.41.59.51 0 1.02-.2 1.41-.59l7.78-7.78 2.81-2.81c.8-.78.8-2.07 0-2.86zM5.41 20L4 18.59l7.72-7.72 1.47 1.35L5.41 20z\"/>\n",
              "  </svg>\n",
              "      </button>\n",
              "      \n",
              "  <style>\n",
              "    .colab-df-container {\n",
              "      display:flex;\n",
              "      flex-wrap:wrap;\n",
              "      gap: 12px;\n",
              "    }\n",
              "\n",
              "    .colab-df-convert {\n",
              "      background-color: #E8F0FE;\n",
              "      border: none;\n",
              "      border-radius: 50%;\n",
              "      cursor: pointer;\n",
              "      display: none;\n",
              "      fill: #1967D2;\n",
              "      height: 32px;\n",
              "      padding: 0 0 0 0;\n",
              "      width: 32px;\n",
              "    }\n",
              "\n",
              "    .colab-df-convert:hover {\n",
              "      background-color: #E2EBFA;\n",
              "      box-shadow: 0px 1px 2px rgba(60, 64, 67, 0.3), 0px 1px 3px 1px rgba(60, 64, 67, 0.15);\n",
              "      fill: #174EA6;\n",
              "    }\n",
              "\n",
              "    [theme=dark] .colab-df-convert {\n",
              "      background-color: #3B4455;\n",
              "      fill: #D2E3FC;\n",
              "    }\n",
              "\n",
              "    [theme=dark] .colab-df-convert:hover {\n",
              "      background-color: #434B5C;\n",
              "      box-shadow: 0px 1px 3px 1px rgba(0, 0, 0, 0.15);\n",
              "      filter: drop-shadow(0px 1px 2px rgba(0, 0, 0, 0.3));\n",
              "      fill: #FFFFFF;\n",
              "    }\n",
              "  </style>\n",
              "\n",
              "      <script>\n",
              "        const buttonEl =\n",
              "          document.querySelector('#df-fdac4a8c-21f0-41f2-9af2-b9f7a7eef932 button.colab-df-convert');\n",
              "        buttonEl.style.display =\n",
              "          google.colab.kernel.accessAllowed ? 'block' : 'none';\n",
              "\n",
              "        async function convertToInteractive(key) {\n",
              "          const element = document.querySelector('#df-fdac4a8c-21f0-41f2-9af2-b9f7a7eef932');\n",
              "          const dataTable =\n",
              "            await google.colab.kernel.invokeFunction('convertToInteractive',\n",
              "                                                     [key], {});\n",
              "          if (!dataTable) return;\n",
              "\n",
              "          const docLinkHtml = 'Like what you see? Visit the ' +\n",
              "            '<a target=\"_blank\" href=https://colab.research.google.com/notebooks/data_table.ipynb>data table notebook</a>'\n",
              "            + ' to learn more about interactive tables.';\n",
              "          element.innerHTML = '';\n",
              "          dataTable['output_type'] = 'display_data';\n",
              "          await google.colab.output.renderOutput(dataTable, element);\n",
              "          const docLink = document.createElement('div');\n",
              "          docLink.innerHTML = docLinkHtml;\n",
              "          element.appendChild(docLink);\n",
              "        }\n",
              "      </script>\n",
              "    </div>\n",
              "  </div>\n",
              "  "
            ]
          },
          "metadata": {},
          "execution_count": 45
        }
      ]
    },
    {
      "cell_type": "code",
      "source": [
        "# Dropping unnecessary columns in the dataset\n",
        "\n",
        "df.drop(['date', 'goal_diff'], axis = 1, inplace = True) \n"
      ],
      "metadata": {
        "id": "-di10YYZInGN"
      },
      "execution_count": 46,
      "outputs": []
    },
    {
      "cell_type": "code",
      "source": [
        "# Viewing first two entries\n",
        "df.head(2)"
      ],
      "metadata": {
        "colab": {
          "base_uri": "https://localhost:8080/",
          "height": 211
        },
        "id": "6moheTdqIzCE",
        "outputId": "c916ecd9-46e0-482f-9070-3508f8671b69"
      },
      "execution_count": null,
      "outputs": [
        {
          "output_type": "execute_result",
          "data": {
            "text/plain": [
              "   rank  country  total_points  previous_points  rank_change confederation  \\\n",
              "0     8   Brazil           0.0               55           -5      CONMEBOL   \n",
              "1    35  Ecuador           0.0               23           30      CONMEBOL   \n",
              "\n",
              "  home_team  away_team  home_score  away_score                    tournament  \\\n",
              "0    Brazil     Mexico           1           1                      Friendly   \n",
              "1   Ecuador  Venezuela           5           0  FIFA World Cup qualification   \n",
              "\n",
              "     city  neutral Status_home tournament_type  year  month  \n",
              "0  Maceió    False        draw        Friendly  1993      8  \n",
              "1   Quito    False         win       World cup  1993      8  "
            ],
            "text/html": [
              "\n",
              "  <div id=\"df-53cf59be-eb7d-4813-984a-90ad3dab5e94\">\n",
              "    <div class=\"colab-df-container\">\n",
              "      <div>\n",
              "<style scoped>\n",
              "    .dataframe tbody tr th:only-of-type {\n",
              "        vertical-align: middle;\n",
              "    }\n",
              "\n",
              "    .dataframe tbody tr th {\n",
              "        vertical-align: top;\n",
              "    }\n",
              "\n",
              "    .dataframe thead th {\n",
              "        text-align: right;\n",
              "    }\n",
              "</style>\n",
              "<table border=\"1\" class=\"dataframe\">\n",
              "  <thead>\n",
              "    <tr style=\"text-align: right;\">\n",
              "      <th></th>\n",
              "      <th>rank</th>\n",
              "      <th>country</th>\n",
              "      <th>total_points</th>\n",
              "      <th>previous_points</th>\n",
              "      <th>rank_change</th>\n",
              "      <th>confederation</th>\n",
              "      <th>home_team</th>\n",
              "      <th>away_team</th>\n",
              "      <th>home_score</th>\n",
              "      <th>away_score</th>\n",
              "      <th>tournament</th>\n",
              "      <th>city</th>\n",
              "      <th>neutral</th>\n",
              "      <th>Status_home</th>\n",
              "      <th>tournament_type</th>\n",
              "      <th>year</th>\n",
              "      <th>month</th>\n",
              "    </tr>\n",
              "  </thead>\n",
              "  <tbody>\n",
              "    <tr>\n",
              "      <th>0</th>\n",
              "      <td>8</td>\n",
              "      <td>Brazil</td>\n",
              "      <td>0.0</td>\n",
              "      <td>55</td>\n",
              "      <td>-5</td>\n",
              "      <td>CONMEBOL</td>\n",
              "      <td>Brazil</td>\n",
              "      <td>Mexico</td>\n",
              "      <td>1</td>\n",
              "      <td>1</td>\n",
              "      <td>Friendly</td>\n",
              "      <td>Maceió</td>\n",
              "      <td>False</td>\n",
              "      <td>draw</td>\n",
              "      <td>Friendly</td>\n",
              "      <td>1993</td>\n",
              "      <td>8</td>\n",
              "    </tr>\n",
              "    <tr>\n",
              "      <th>1</th>\n",
              "      <td>35</td>\n",
              "      <td>Ecuador</td>\n",
              "      <td>0.0</td>\n",
              "      <td>23</td>\n",
              "      <td>30</td>\n",
              "      <td>CONMEBOL</td>\n",
              "      <td>Ecuador</td>\n",
              "      <td>Venezuela</td>\n",
              "      <td>5</td>\n",
              "      <td>0</td>\n",
              "      <td>FIFA World Cup qualification</td>\n",
              "      <td>Quito</td>\n",
              "      <td>False</td>\n",
              "      <td>win</td>\n",
              "      <td>World cup</td>\n",
              "      <td>1993</td>\n",
              "      <td>8</td>\n",
              "    </tr>\n",
              "  </tbody>\n",
              "</table>\n",
              "</div>\n",
              "      <button class=\"colab-df-convert\" onclick=\"convertToInteractive('df-53cf59be-eb7d-4813-984a-90ad3dab5e94')\"\n",
              "              title=\"Convert this dataframe to an interactive table.\"\n",
              "              style=\"display:none;\">\n",
              "        \n",
              "  <svg xmlns=\"http://www.w3.org/2000/svg\" height=\"24px\"viewBox=\"0 0 24 24\"\n",
              "       width=\"24px\">\n",
              "    <path d=\"M0 0h24v24H0V0z\" fill=\"none\"/>\n",
              "    <path d=\"M18.56 5.44l.94 2.06.94-2.06 2.06-.94-2.06-.94-.94-2.06-.94 2.06-2.06.94zm-11 1L8.5 8.5l.94-2.06 2.06-.94-2.06-.94L8.5 2.5l-.94 2.06-2.06.94zm10 10l.94 2.06.94-2.06 2.06-.94-2.06-.94-.94-2.06-.94 2.06-2.06.94z\"/><path d=\"M17.41 7.96l-1.37-1.37c-.4-.4-.92-.59-1.43-.59-.52 0-1.04.2-1.43.59L10.3 9.45l-7.72 7.72c-.78.78-.78 2.05 0 2.83L4 21.41c.39.39.9.59 1.41.59.51 0 1.02-.2 1.41-.59l7.78-7.78 2.81-2.81c.8-.78.8-2.07 0-2.86zM5.41 20L4 18.59l7.72-7.72 1.47 1.35L5.41 20z\"/>\n",
              "  </svg>\n",
              "      </button>\n",
              "      \n",
              "  <style>\n",
              "    .colab-df-container {\n",
              "      display:flex;\n",
              "      flex-wrap:wrap;\n",
              "      gap: 12px;\n",
              "    }\n",
              "\n",
              "    .colab-df-convert {\n",
              "      background-color: #E8F0FE;\n",
              "      border: none;\n",
              "      border-radius: 50%;\n",
              "      cursor: pointer;\n",
              "      display: none;\n",
              "      fill: #1967D2;\n",
              "      height: 32px;\n",
              "      padding: 0 0 0 0;\n",
              "      width: 32px;\n",
              "    }\n",
              "\n",
              "    .colab-df-convert:hover {\n",
              "      background-color: #E2EBFA;\n",
              "      box-shadow: 0px 1px 2px rgba(60, 64, 67, 0.3), 0px 1px 3px 1px rgba(60, 64, 67, 0.15);\n",
              "      fill: #174EA6;\n",
              "    }\n",
              "\n",
              "    [theme=dark] .colab-df-convert {\n",
              "      background-color: #3B4455;\n",
              "      fill: #D2E3FC;\n",
              "    }\n",
              "\n",
              "    [theme=dark] .colab-df-convert:hover {\n",
              "      background-color: #434B5C;\n",
              "      box-shadow: 0px 1px 3px 1px rgba(0, 0, 0, 0.15);\n",
              "      filter: drop-shadow(0px 1px 2px rgba(0, 0, 0, 0.3));\n",
              "      fill: #FFFFFF;\n",
              "    }\n",
              "  </style>\n",
              "\n",
              "      <script>\n",
              "        const buttonEl =\n",
              "          document.querySelector('#df-53cf59be-eb7d-4813-984a-90ad3dab5e94 button.colab-df-convert');\n",
              "        buttonEl.style.display =\n",
              "          google.colab.kernel.accessAllowed ? 'block' : 'none';\n",
              "\n",
              "        async function convertToInteractive(key) {\n",
              "          const element = document.querySelector('#df-53cf59be-eb7d-4813-984a-90ad3dab5e94');\n",
              "          const dataTable =\n",
              "            await google.colab.kernel.invokeFunction('convertToInteractive',\n",
              "                                                     [key], {});\n",
              "          if (!dataTable) return;\n",
              "\n",
              "          const docLinkHtml = 'Like what you see? Visit the ' +\n",
              "            '<a target=\"_blank\" href=https://colab.research.google.com/notebooks/data_table.ipynb>data table notebook</a>'\n",
              "            + ' to learn more about interactive tables.';\n",
              "          element.innerHTML = '';\n",
              "          dataTable['output_type'] = 'display_data';\n",
              "          await google.colab.output.renderOutput(dataTable, element);\n",
              "          const docLink = document.createElement('div');\n",
              "          docLink.innerHTML = docLinkHtml;\n",
              "          element.appendChild(docLink);\n",
              "        }\n",
              "      </script>\n",
              "    </div>\n",
              "  </div>\n",
              "  "
            ]
          },
          "metadata": {},
          "execution_count": 141
        }
      ]
    },
    {
      "cell_type": "code",
      "source": [
        "\n",
        "# Encoding the categorical columns \n",
        "#\n",
        "from sklearn.preprocessing import LabelEncoder\n",
        "le = LabelEncoder()\n",
        "df_encoded = df.apply(le.fit_transform)"
      ],
      "metadata": {
        "id": "HpzwfuhYKm0L"
      },
      "execution_count": 47,
      "outputs": []
    },
    {
      "cell_type": "code",
      "source": [
        "\n",
        "# Confirming the changes\n",
        "\n",
        "df_encoded.head()\n",
        "df_encoded['tournament_type']"
      ],
      "metadata": {
        "colab": {
          "base_uri": "https://localhost:8080/"
        },
        "id": "bZCAAN4sKzTR",
        "outputId": "280719d5-36a7-4c48-ac89-7a2926cde6e2"
      },
      "execution_count": 48,
      "outputs": [
        {
          "output_type": "execute_result",
          "data": {
            "text/plain": [
              "0      0\n",
              "1      0\n",
              "2      0\n",
              "3      0\n",
              "4      0\n",
              "      ..\n",
              "945    0\n",
              "946    0\n",
              "947    0\n",
              "948    0\n",
              "949    0\n",
              "Name: tournament_type, Length: 913, dtype: int64"
            ]
          },
          "metadata": {},
          "execution_count": 48
        }
      ]
    },
    {
      "cell_type": "code",
      "source": [
        "# checking for outliers in our dataset\n",
        "# Using boxplots\n",
        "# Labeling the title of our chart\n",
        "# Displaying chart \n",
        "\n",
        "plt.figure(dpi = 100)\n",
        "ax = sns.boxplot(data = df_encoded , orient=\"h\")\n",
        "plt.title('A boxplot: Outliers in the dataset', color = 'blue')\n",
        "plt.xlabel('Count/ Frequency')\n",
        "plt.show()"
      ],
      "metadata": {
        "colab": {
          "base_uri": "https://localhost:8080/",
          "height": 404
        },
        "id": "hEL-bCl3K1AI",
        "outputId": "ca72bd58-f539-434a-d99c-464167a9f629"
      },
      "execution_count": 49,
      "outputs": [
        {
          "output_type": "display_data",
          "data": {
            "text/plain": [
              "<Figure size 600x400 with 1 Axes>"
            ],
            "image/png": "[encoded data removed]"
          },
          "metadata": {
            "needs_background": "light"
          }
        }
      ]
    },
    {
      "cell_type": "markdown",
      "source": [
        "The total points, rank change and tournament columns have a lot of outliers.\n",
        "\n",
        "We will not remove them in this stage, to find out if they have an effect in our model."
      ],
      "metadata": {
        "id": "q_YI4jzNLBjj"
      }
    },
    {
      "cell_type": "code",
      "source": [
        "# Creating histograms to show the distribution of the goals for home teams and away teams\n",
        "# Specifying the figure size\n",
        "# Using seaborn for plotting\n",
        "# Specifying the bins in the x axis\n",
        "# Labeling title\n",
        "\n",
        "\n",
        "plt.figure(figsize=(12,13), dpi = 100)\n",
        "plt.subplot(211)\n",
        "sns.distplot(df_encoded[\"home_score\"],color=\"teal\",rug=True)\n",
        "plt.xticks(np.arange(0,12,1))\n",
        "plt.title(\"Distribution of Home Team Scores/Goals\",color='r')\n",
        "\n",
        "\n",
        "plt.subplot(212)\n",
        "sns.distplot(df_encoded[\"away_score\"],color=\"black\",rug=True)\n",
        "plt.xticks(np.arange(0,9,1))\n",
        "plt.title(\"Distribution of Away Team Scores/Goals\",color='r')\n",
        "plt.show()\n",
        "     "
      ],
      "metadata": {
        "colab": {
          "base_uri": "https://localhost:8080/",
          "height": 1000
        },
        "id": "R5g2Ub6aLKCZ",
        "outputId": "a81c28b2-b628-4875-aa5a-ec69fe02d4ad"
      },
      "execution_count": 50,
      "outputs": [
        {
          "output_type": "stream",
          "name": "stderr",
          "text": [
            "/usr/local/lib/python3.8/dist-packages/seaborn/distributions.py:2619: FutureWarning: `distplot` is a deprecated function and will be removed in a future version. Please adapt your code to use either `displot` (a figure-level function with similar flexibility) or `histplot` (an axes-level function for histograms).\n",
            "  warnings.warn(msg, FutureWarning)\n",
            "/usr/local/lib/python3.8/dist-packages/seaborn/distributions.py:2103: FutureWarning: The `axis` variable is no longer used and will be removed. Instead, assign variables directly to `x` or `y`.\n",
            "  warnings.warn(msg, FutureWarning)\n",
            "/usr/local/lib/python3.8/dist-packages/seaborn/distributions.py:2619: FutureWarning: `distplot` is a deprecated function and will be removed in a future version. Please adapt your code to use either `displot` (a figure-level function with similar flexibility) or `histplot` (an axes-level function for histograms).\n",
            "  warnings.warn(msg, FutureWarning)\n",
            "/usr/local/lib/python3.8/dist-packages/seaborn/distributions.py:2103: FutureWarning: The `axis` variable is no longer used and will be removed. Instead, assign variables directly to `x` or `y`.\n",
            "  warnings.warn(msg, FutureWarning)\n"
          ]
        },
        {
          "output_type": "display_data",
          "data": {
            "text/plain": [
              "<Figure size 1200x1300 with 2 Axes>"
            ],
            "image/png": "[encoded data removed]"
          },
          "metadata": {
            "needs_background": "light"
          }
        }
      ]
    },
    {
      "cell_type": "markdown",
      "source": [
        "The histograms show that the home teams are highly likely to score at most one goal compared to the away team.\n",
        "\n",
        "The charts also show that the goals scored in both home and away team is skewed to the right.\n",
        "\n",
        "This means that there is a high probability of scoring more goals.\n",
        "\n",
        "i.e. the outliers lie on the positive side."
      ],
      "metadata": {
        "id": "NNCTQ9HaL6iW"
      }
    },
    {
      "cell_type": "code",
      "source": [
        "\n",
        "# The Home team Match outcome(draw = 0, lose =1, win = 2)\n",
        "# Using a countplot to visualize these results\n",
        "# Using Seaborn\n",
        "# Labeling the x and y axis\n",
        "# Giving a title to our chart\n",
        "# Displaying our chart\n",
        "\n",
        "plt.figure(figsize = (7,8), dpi = 100)\n",
        "sns.countplot(df_encoded['Status_home'])\n",
        "plt.xlabel('Status (draw = 0, lose =1, win = 2)')\n",
        "plt.ylabel('Count')\n",
        "plt.title('A Countplot of Home Team Match Outcome', color = 'blue')\n",
        "plt.show()\n",
        "     "
      ],
      "metadata": {
        "colab": {
          "base_uri": "https://localhost:8080/",
          "height": 761
        },
        "id": "b2RA9s8PMHeR",
        "outputId": "283a5d24-4d98-4a1c-f4eb-3a021d3f505c"
      },
      "execution_count": 51,
      "outputs": [
        {
          "output_type": "stream",
          "name": "stderr",
          "text": [
            "/usr/local/lib/python3.8/dist-packages/seaborn/_decorators.py:36: FutureWarning: Pass the following variable as a keyword arg: x. From version 0.12, the only valid positional argument will be `data`, and passing other arguments without an explicit keyword will result in an error or misinterpretation.\n",
            "  warnings.warn(\n"
          ]
        },
        {
          "output_type": "display_data",
          "data": {
            "text/plain": [
              "<Figure size 700x800 with 1 Axes>"
            ],
            "image/png": "[encoded data removed]"
          },
          "metadata": {
            "needs_background": "light"
          }
        }
      ]
    },
    {
      "cell_type": "markdown",
      "source": [
        "The bar chart above shows that in most cases the home team wins the match.\n",
        "\n",
        "The home team is less likely to lose or draw in match."
      ],
      "metadata": {
        "id": "uZNy3JP5MTYv"
      }
    },
    {
      "cell_type": "markdown",
      "source": [
        "#Multicollinearity"
      ],
      "metadata": {
        "id": "05BnMZkUMg7K"
      }
    },
    {
      "cell_type": "code",
      "source": [
        "\n",
        " #check if the independent variables are collinear/ correlated to each other\n",
        "\n",
        "\n",
        "# Getting the pearson correation coefficient for each of the variables\n",
        "\n",
        "correlation = df_encoded.corr()\n",
        "correlation"
      ],
      "metadata": {
        "colab": {
          "base_uri": "https://localhost:8080/",
          "height": 646
        },
        "id": "akqCB_RaMkuX",
        "outputId": "a189c9b2-2c86-4186-9dfa-bfebe11a195a"
      },
      "execution_count": 52,
      "outputs": [
        {
          "output_type": "execute_result",
          "data": {
            "text/plain": [
              "                     rank   country  total_points  previous_points  \\\n",
              "rank             1.000000  0.032814     -0.059816        -0.644570   \n",
              "country          0.032814  1.000000     -0.034020        -0.037698   \n",
              "total_points    -0.059816 -0.034020      1.000000         0.186645   \n",
              "previous_points -0.644570 -0.037698      0.186645         1.000000   \n",
              "rank_change     -0.061597 -0.009294     -0.033574        -0.032488   \n",
              "confederation   -0.414154 -0.178000     -0.033823         0.273950   \n",
              "home_team        0.025156  0.846244      0.007732        -0.009514   \n",
              "away_team       -0.011722  0.022709      0.042097        -0.012800   \n",
              "home_score      -0.090258 -0.031332      0.055061         0.025010   \n",
              "away_score       0.050651  0.005147      0.000867        -0.025718   \n",
              "tournament      -0.110761 -0.065159      0.003411         0.075480   \n",
              "city            -0.010263 -0.148775      0.002567         0.043795   \n",
              "neutral          0.005663  0.009744      0.173563         0.094439   \n",
              "Status_home     -0.067102 -0.034639      0.041311         0.041623   \n",
              "tournament_type       NaN       NaN           NaN              NaN   \n",
              "year             0.172134 -0.027656      0.523465         0.373750   \n",
              "month           -0.044905 -0.039175     -0.006808         0.016487   \n",
              "\n",
              "                 rank_change  confederation  home_team  away_team  home_score  \\\n",
              "rank               -0.061597      -0.414154   0.025156  -0.011722   -0.090258   \n",
              "country            -0.009294      -0.178000   0.846244   0.022709   -0.031332   \n",
              "total_points       -0.033574      -0.033823   0.007732   0.042097    0.055061   \n",
              "previous_points    -0.032488       0.273950  -0.009514  -0.012800    0.025010   \n",
              "rank_change         1.000000      -0.036926  -0.039012   0.002030    0.068907   \n",
              "confederation      -0.036926       1.000000  -0.133808  -0.075074   -0.034647   \n",
              "home_team          -0.039012      -0.133808   1.000000   0.037783   -0.011457   \n",
              "away_team           0.002030      -0.075074   0.037783   1.000000   -0.037220   \n",
              "home_score          0.068907      -0.034647  -0.011457  -0.037220    1.000000   \n",
              "away_score         -0.016741       0.049019  -0.042416   0.040347   -0.089425   \n",
              "tournament         -0.045567       0.279455  -0.059844  -0.078841   -0.057150   \n",
              "city               -0.044181       0.052950  -0.095658  -0.088915   -0.005544   \n",
              "neutral             0.026749      -0.032387  -0.077645   0.063729   -0.012671   \n",
              "Status_home         0.082938      -0.016237  -0.000792  -0.022827    0.564747   \n",
              "tournament_type          NaN            NaN        NaN        NaN         NaN   \n",
              "year               -0.057567      -0.146340  -0.001400   0.013146   -0.016081   \n",
              "month              -0.047008       0.057825  -0.015169   0.031120   -0.015244   \n",
              "\n",
              "                 away_score  tournament      city   neutral  Status_home  \\\n",
              "rank               0.050651   -0.110761 -0.010263  0.005663    -0.067102   \n",
              "country            0.005147   -0.065159 -0.148775  0.009744    -0.034639   \n",
              "total_points       0.000867    0.003411  0.002567  0.173563     0.041311   \n",
              "previous_points   -0.025718    0.075480  0.043795  0.094439     0.041623   \n",
              "rank_change       -0.016741   -0.045567 -0.044181  0.026749     0.082938   \n",
              "confederation      0.049019    0.279455  0.052950 -0.032387    -0.016237   \n",
              "home_team         -0.042416   -0.059844 -0.095658 -0.077645    -0.000792   \n",
              "away_team          0.040347   -0.078841 -0.088915  0.063729    -0.022827   \n",
              "home_score        -0.089425   -0.057150 -0.005544 -0.012671     0.564747   \n",
              "away_score         1.000000   -0.031227 -0.013013  0.101619    -0.229972   \n",
              "tournament        -0.031227    1.000000  0.008658 -0.082174    -0.024853   \n",
              "city              -0.013013    0.008658  1.000000 -0.052531     0.022126   \n",
              "neutral            0.101619   -0.082174 -0.052531  1.000000    -0.030680   \n",
              "Status_home       -0.229972   -0.024853  0.022126 -0.030680     1.000000   \n",
              "tournament_type         NaN         NaN       NaN       NaN          NaN   \n",
              "year              -0.012582   -0.100596  0.055620  0.158177    -0.001460   \n",
              "month             -0.036170    0.101923  0.060612 -0.133563    -0.021354   \n",
              "\n",
              "                 tournament_type      year     month  \n",
              "rank                         NaN  0.172134 -0.044905  \n",
              "country                      NaN -0.027656 -0.039175  \n",
              "total_points                 NaN  0.523465 -0.006808  \n",
              "previous_points              NaN  0.373750  0.016487  \n",
              "rank_change                  NaN -0.057567 -0.047008  \n",
              "confederation                NaN -0.146340  0.057825  \n",
              "home_team                    NaN -0.001400 -0.015169  \n",
              "away_team                    NaN  0.013146  0.031120  \n",
              "home_score                   NaN -0.016081 -0.015244  \n",
              "away_score                   NaN -0.012582 -0.036170  \n",
              "tournament                   NaN -0.100596  0.101923  \n",
              "city                         NaN  0.055620  0.060612  \n",
              "neutral                      NaN  0.158177 -0.133563  \n",
              "Status_home                  NaN -0.001460 -0.021354  \n",
              "tournament_type              NaN       NaN       NaN  \n",
              "year                         NaN  1.000000 -0.081319  \n",
              "month                        NaN -0.081319  1.000000  "
            ],
            "text/html": [
              "\n",
              "  <div id=\"df-3063a6f1-d9c2-48d9-b58a-43e9aeef98be\">\n",
              "    <div class=\"colab-df-container\">\n",
              "      <div>\n",
              "<style scoped>\n",
              "    .dataframe tbody tr th:only-of-type {\n",
              "        vertical-align: middle;\n",
              "    }\n",
              "\n",
              "    .dataframe tbody tr th {\n",
              "        vertical-align: top;\n",
              "    }\n",
              "\n",
              "    .dataframe thead th {\n",
              "        text-align: right;\n",
              "    }\n",
              "</style>\n",
              "<table border=\"1\" class=\"dataframe\">\n",
              "  <thead>\n",
              "    <tr style=\"text-align: right;\">\n",
              "      <th></th>\n",
              "      <th>rank</th>\n",
              "      <th>country</th>\n",
              "      <th>total_points</th>\n",
              "      <th>previous_points</th>\n",
              "      <th>rank_change</th>\n",
              "      <th>confederation</th>\n",
              "      <th>home_team</th>\n",
              "      <th>away_team</th>\n",
              "      <th>home_score</th>\n",
              "      <th>away_score</th>\n",
              "      <th>tournament</th>\n",
              "      <th>city</th>\n",
              "      <th>neutral</th>\n",
              "      <th>Status_home</th>\n",
              "      <th>tournament_type</th>\n",
              "      <th>year</th>\n",
              "      <th>month</th>\n",
              "    </tr>\n",
              "  </thead>\n",
              "  <tbody>\n",
              "    <tr>\n",
              "      <th>rank</th>\n",
              "      <td>1.000000</td>\n",
              "      <td>0.032814</td>\n",
              "      <td>-0.059816</td>\n",
              "      <td>-0.644570</td>\n",
              "      <td>-0.061597</td>\n",
              "      <td>-0.414154</td>\n",
              "      <td>0.025156</td>\n",
              "      <td>-0.011722</td>\n",
              "      <td>-0.090258</td>\n",
              "      <td>0.050651</td>\n",
              "      <td>-0.110761</td>\n",
              "      <td>-0.010263</td>\n",
              "      <td>0.005663</td>\n",
              "      <td>-0.067102</td>\n",
              "      <td>NaN</td>\n",
              "      <td>0.172134</td>\n",
              "      <td>-0.044905</td>\n",
              "    </tr>\n",
              "    <tr>\n",
              "      <th>country</th>\n",
              "      <td>0.032814</td>\n",
              "      <td>1.000000</td>\n",
              "      <td>-0.034020</td>\n",
              "      <td>-0.037698</td>\n",
              "      <td>-0.009294</td>\n",
              "      <td>-0.178000</td>\n",
              "      <td>0.846244</td>\n",
              "      <td>0.022709</td>\n",
              "      <td>-0.031332</td>\n",
              "      <td>0.005147</td>\n",
              "      <td>-0.065159</td>\n",
              "      <td>-0.148775</td>\n",
              "      <td>0.009744</td>\n",
              "      <td>-0.034639</td>\n",
              "      <td>NaN</td>\n",
              "      <td>-0.027656</td>\n",
              "      <td>-0.039175</td>\n",
              "    </tr>\n",
              "    <tr>\n",
              "      <th>total_points</th>\n",
              "      <td>-0.059816</td>\n",
              "      <td>-0.034020</td>\n",
              "      <td>1.000000</td>\n",
              "      <td>0.186645</td>\n",
              "      <td>-0.033574</td>\n",
              "      <td>-0.033823</td>\n",
              "      <td>0.007732</td>\n",
              "      <td>0.042097</td>\n",
              "      <td>0.055061</td>\n",
              "      <td>0.000867</td>\n",
              "      <td>0.003411</td>\n",
              "      <td>0.002567</td>\n",
              "      <td>0.173563</td>\n",
              "      <td>0.041311</td>\n",
              "      <td>NaN</td>\n",
              "      <td>0.523465</td>\n",
              "      <td>-0.006808</td>\n",
              "    </tr>\n",
              "    <tr>\n",
              "      <th>previous_points</th>\n",
              "      <td>-0.644570</td>\n",
              "      <td>-0.037698</td>\n",
              "      <td>0.186645</td>\n",
              "      <td>1.000000</td>\n",
              "      <td>-0.032488</td>\n",
              "      <td>0.273950</td>\n",
              "      <td>-0.009514</td>\n",
              "      <td>-0.012800</td>\n",
              "      <td>0.025010</td>\n",
              "      <td>-0.025718</td>\n",
              "      <td>0.075480</td>\n",
              "      <td>0.043795</td>\n",
              "      <td>0.094439</td>\n",
              "      <td>0.041623</td>\n",
              "      <td>NaN</td>\n",
              "      <td>0.373750</td>\n",
              "      <td>0.016487</td>\n",
              "    </tr>\n",
              "    <tr>\n",
              "      <th>rank_change</th>\n",
              "      <td>-0.061597</td>\n",
              "      <td>-0.009294</td>\n",
              "      <td>-0.033574</td>\n",
              "      <td>-0.032488</td>\n",
              "      <td>1.000000</td>\n",
              "      <td>-0.036926</td>\n",
              "      <td>-0.039012</td>\n",
              "      <td>0.002030</td>\n",
              "      <td>0.068907</td>\n",
              "      <td>-0.016741</td>\n",
              "      <td>-0.045567</td>\n",
              "      <td>-0.044181</td>\n",
              "      <td>0.026749</td>\n",
              "      <td>0.082938</td>\n",
              "      <td>NaN</td>\n",
              "      <td>-0.057567</td>\n",
              "      <td>-0.047008</td>\n",
              "    </tr>\n",
              "    <tr>\n",
              "      <th>confederation</th>\n",
              "      <td>-0.414154</td>\n",
              "      <td>-0.178000</td>\n",
              "      <td>-0.033823</td>\n",
              "      <td>0.273950</td>\n",
              "      <td>-0.036926</td>\n",
              "      <td>1.000000</td>\n",
              "      <td>-0.133808</td>\n",
              "      <td>-0.075074</td>\n",
              "      <td>-0.034647</td>\n",
              "      <td>0.049019</td>\n",
              "      <td>0.279455</td>\n",
              "      <td>0.052950</td>\n",
              "      <td>-0.032387</td>\n",
              "      <td>-0.016237</td>\n",
              "      <td>NaN</td>\n",
              "      <td>-0.146340</td>\n",
              "      <td>0.057825</td>\n",
              "    </tr>\n",
              "    <tr>\n",
              "      <th>home_team</th>\n",
              "      <td>0.025156</td>\n",
              "      <td>0.846244</td>\n",
              "      <td>0.007732</td>\n",
              "      <td>-0.009514</td>\n",
              "      <td>-0.039012</td>\n",
              "      <td>-0.133808</td>\n",
              "      <td>1.000000</td>\n",
              "      <td>0.037783</td>\n",
              "      <td>-0.011457</td>\n",
              "      <td>-0.042416</td>\n",
              "      <td>-0.059844</td>\n",
              "      <td>-0.095658</td>\n",
              "      <td>-0.077645</td>\n",
              "      <td>-0.000792</td>\n",
              "      <td>NaN</td>\n",
              "      <td>-0.001400</td>\n",
              "      <td>-0.015169</td>\n",
              "    </tr>\n",
              "    <tr>\n",
              "      <th>away_team</th>\n",
              "      <td>-0.011722</td>\n",
              "      <td>0.022709</td>\n",
              "      <td>0.042097</td>\n",
              "      <td>-0.012800</td>\n",
              "      <td>0.002030</td>\n",
              "      <td>-0.075074</td>\n",
              "      <td>0.037783</td>\n",
              "      <td>1.000000</td>\n",
              "      <td>-0.037220</td>\n",
              "      <td>0.040347</td>\n",
              "      <td>-0.078841</td>\n",
              "      <td>-0.088915</td>\n",
              "      <td>0.063729</td>\n",
              "      <td>-0.022827</td>\n",
              "      <td>NaN</td>\n",
              "      <td>0.013146</td>\n",
              "      <td>0.031120</td>\n",
              "    </tr>\n",
              "    <tr>\n",
              "      <th>home_score</th>\n",
              "      <td>-0.090258</td>\n",
              "      <td>-0.031332</td>\n",
              "      <td>0.055061</td>\n",
              "      <td>0.025010</td>\n",
              "      <td>0.068907</td>\n",
              "      <td>-0.034647</td>\n",
              "      <td>-0.011457</td>\n",
              "      <td>-0.037220</td>\n",
              "      <td>1.000000</td>\n",
              "      <td>-0.089425</td>\n",
              "      <td>-0.057150</td>\n",
              "      <td>-0.005544</td>\n",
              "      <td>-0.012671</td>\n",
              "      <td>0.564747</td>\n",
              "      <td>NaN</td>\n",
              "      <td>-0.016081</td>\n",
              "      <td>-0.015244</td>\n",
              "    </tr>\n",
              "    <tr>\n",
              "      <th>away_score</th>\n",
              "      <td>0.050651</td>\n",
              "      <td>0.005147</td>\n",
              "      <td>0.000867</td>\n",
              "      <td>-0.025718</td>\n",
              "      <td>-0.016741</td>\n",
              "      <td>0.049019</td>\n",
              "      <td>-0.042416</td>\n",
              "      <td>0.040347</td>\n",
              "      <td>-0.089425</td>\n",
              "      <td>1.000000</td>\n",
              "      <td>-0.031227</td>\n",
              "      <td>-0.013013</td>\n",
              "      <td>0.101619</td>\n",
              "      <td>-0.229972</td>\n",
              "      <td>NaN</td>\n",
              "      <td>-0.012582</td>\n",
              "      <td>-0.036170</td>\n",
              "    </tr>\n",
              "    <tr>\n",
              "      <th>tournament</th>\n",
              "      <td>-0.110761</td>\n",
              "      <td>-0.065159</td>\n",
              "      <td>0.003411</td>\n",
              "      <td>0.075480</td>\n",
              "      <td>-0.045567</td>\n",
              "      <td>0.279455</td>\n",
              "      <td>-0.059844</td>\n",
              "      <td>-0.078841</td>\n",
              "      <td>-0.057150</td>\n",
              "      <td>-0.031227</td>\n",
              "      <td>1.000000</td>\n",
              "      <td>0.008658</td>\n",
              "      <td>-0.082174</td>\n",
              "      <td>-0.024853</td>\n",
              "      <td>NaN</td>\n",
              "      <td>-0.100596</td>\n",
              "      <td>0.101923</td>\n",
              "    </tr>\n",
              "    <tr>\n",
              "      <th>city</th>\n",
              "      <td>-0.010263</td>\n",
              "      <td>-0.148775</td>\n",
              "      <td>0.002567</td>\n",
              "      <td>0.043795</td>\n",
              "      <td>-0.044181</td>\n",
              "      <td>0.052950</td>\n",
              "      <td>-0.095658</td>\n",
              "      <td>-0.088915</td>\n",
              "      <td>-0.005544</td>\n",
              "      <td>-0.013013</td>\n",
              "      <td>0.008658</td>\n",
              "      <td>1.000000</td>\n",
              "      <td>-0.052531</td>\n",
              "      <td>0.022126</td>\n",
              "      <td>NaN</td>\n",
              "      <td>0.055620</td>\n",
              "      <td>0.060612</td>\n",
              "    </tr>\n",
              "    <tr>\n",
              "      <th>neutral</th>\n",
              "      <td>0.005663</td>\n",
              "      <td>0.009744</td>\n",
              "      <td>0.173563</td>\n",
              "      <td>0.094439</td>\n",
              "      <td>0.026749</td>\n",
              "      <td>-0.032387</td>\n",
              "      <td>-0.077645</td>\n",
              "      <td>0.063729</td>\n",
              "      <td>-0.012671</td>\n",
              "      <td>0.101619</td>\n",
              "      <td>-0.082174</td>\n",
              "      <td>-0.052531</td>\n",
              "      <td>1.000000</td>\n",
              "      <td>-0.030680</td>\n",
              "      <td>NaN</td>\n",
              "      <td>0.158177</td>\n",
              "      <td>-0.133563</td>\n",
              "    </tr>\n",
              "    <tr>\n",
              "      <th>Status_home</th>\n",
              "      <td>-0.067102</td>\n",
              "      <td>-0.034639</td>\n",
              "      <td>0.041311</td>\n",
              "      <td>0.041623</td>\n",
              "      <td>0.082938</td>\n",
              "      <td>-0.016237</td>\n",
              "      <td>-0.000792</td>\n",
              "      <td>-0.022827</td>\n",
              "      <td>0.564747</td>\n",
              "      <td>-0.229972</td>\n",
              "      <td>-0.024853</td>\n",
              "      <td>0.022126</td>\n",
              "      <td>-0.030680</td>\n",
              "      <td>1.000000</td>\n",
              "      <td>NaN</td>\n",
              "      <td>-0.001460</td>\n",
              "      <td>-0.021354</td>\n",
              "    </tr>\n",
              "    <tr>\n",
              "      <th>tournament_type</th>\n",
              "      <td>NaN</td>\n",
              "      <td>NaN</td>\n",
              "      <td>NaN</td>\n",
              "      <td>NaN</td>\n",
              "      <td>NaN</td>\n",
              "      <td>NaN</td>\n",
              "      <td>NaN</td>\n",
              "      <td>NaN</td>\n",
              "      <td>NaN</td>\n",
              "      <td>NaN</td>\n",
              "      <td>NaN</td>\n",
              "      <td>NaN</td>\n",
              "      <td>NaN</td>\n",
              "      <td>NaN</td>\n",
              "      <td>NaN</td>\n",
              "      <td>NaN</td>\n",
              "      <td>NaN</td>\n",
              "    </tr>\n",
              "    <tr>\n",
              "      <th>year</th>\n",
              "      <td>0.172134</td>\n",
              "      <td>-0.027656</td>\n",
              "      <td>0.523465</td>\n",
              "      <td>0.373750</td>\n",
              "      <td>-0.057567</td>\n",
              "      <td>-0.146340</td>\n",
              "      <td>-0.001400</td>\n",
              "      <td>0.013146</td>\n",
              "      <td>-0.016081</td>\n",
              "      <td>-0.012582</td>\n",
              "      <td>-0.100596</td>\n",
              "      <td>0.055620</td>\n",
              "      <td>0.158177</td>\n",
              "      <td>-0.001460</td>\n",
              "      <td>NaN</td>\n",
              "      <td>1.000000</td>\n",
              "      <td>-0.081319</td>\n",
              "    </tr>\n",
              "    <tr>\n",
              "      <th>month</th>\n",
              "      <td>-0.044905</td>\n",
              "      <td>-0.039175</td>\n",
              "      <td>-0.006808</td>\n",
              "      <td>0.016487</td>\n",
              "      <td>-0.047008</td>\n",
              "      <td>0.057825</td>\n",
              "      <td>-0.015169</td>\n",
              "      <td>0.031120</td>\n",
              "      <td>-0.015244</td>\n",
              "      <td>-0.036170</td>\n",
              "      <td>0.101923</td>\n",
              "      <td>0.060612</td>\n",
              "      <td>-0.133563</td>\n",
              "      <td>-0.021354</td>\n",
              "      <td>NaN</td>\n",
              "      <td>-0.081319</td>\n",
              "      <td>1.000000</td>\n",
              "    </tr>\n",
              "  </tbody>\n",
              "</table>\n",
              "</div>\n",
              "      <button class=\"colab-df-convert\" onclick=\"convertToInteractive('df-3063a6f1-d9c2-48d9-b58a-43e9aeef98be')\"\n",
              "              title=\"Convert this dataframe to an interactive table.\"\n",
              "              style=\"display:none;\">\n",
              "        \n",
              "  <svg xmlns=\"http://www.w3.org/2000/svg\" height=\"24px\"viewBox=\"0 0 24 24\"\n",
              "       width=\"24px\">\n",
              "    <path d=\"M0 0h24v24H0V0z\" fill=\"none\"/>\n",
              "    <path d=\"M18.56 5.44l.94 2.06.94-2.06 2.06-.94-2.06-.94-.94-2.06-.94 2.06-2.06.94zm-11 1L8.5 8.5l.94-2.06 2.06-.94-2.06-.94L8.5 2.5l-.94 2.06-2.06.94zm10 10l.94 2.06.94-2.06 2.06-.94-2.06-.94-.94-2.06-.94 2.06-2.06.94z\"/><path d=\"M17.41 7.96l-1.37-1.37c-.4-.4-.92-.59-1.43-.59-.52 0-1.04.2-1.43.59L10.3 9.45l-7.72 7.72c-.78.78-.78 2.05 0 2.83L4 21.41c.39.39.9.59 1.41.59.51 0 1.02-.2 1.41-.59l7.78-7.78 2.81-2.81c.8-.78.8-2.07 0-2.86zM5.41 20L4 18.59l7.72-7.72 1.47 1.35L5.41 20z\"/>\n",
              "  </svg>\n",
              "      </button>\n",
              "      \n",
              "  <style>\n",
              "    .colab-df-container {\n",
              "      display:flex;\n",
              "      flex-wrap:wrap;\n",
              "      gap: 12px;\n",
              "    }\n",
              "\n",
              "    .colab-df-convert {\n",
              "      background-color: #E8F0FE;\n",
              "      border: none;\n",
              "      border-radius: 50%;\n",
              "      cursor: pointer;\n",
              "      display: none;\n",
              "      fill: #1967D2;\n",
              "      height: 32px;\n",
              "      padding: 0 0 0 0;\n",
              "      width: 32px;\n",
              "    }\n",
              "\n",
              "    .colab-df-convert:hover {\n",
              "      background-color: #E2EBFA;\n",
              "      box-shadow: 0px 1px 2px rgba(60, 64, 67, 0.3), 0px 1px 3px 1px rgba(60, 64, 67, 0.15);\n",
              "      fill: #174EA6;\n",
              "    }\n",
              "\n",
              "    [theme=dark] .colab-df-convert {\n",
              "      background-color: #3B4455;\n",
              "      fill: #D2E3FC;\n",
              "    }\n",
              "\n",
              "    [theme=dark] .colab-df-convert:hover {\n",
              "      background-color: #434B5C;\n",
              "      box-shadow: 0px 1px 3px 1px rgba(0, 0, 0, 0.15);\n",
              "      filter: drop-shadow(0px 1px 2px rgba(0, 0, 0, 0.3));\n",
              "      fill: #FFFFFF;\n",
              "    }\n",
              "  </style>\n",
              "\n",
              "      <script>\n",
              "        const buttonEl =\n",
              "          document.querySelector('#df-3063a6f1-d9c2-48d9-b58a-43e9aeef98be button.colab-df-convert');\n",
              "        buttonEl.style.display =\n",
              "          google.colab.kernel.accessAllowed ? 'block' : 'none';\n",
              "\n",
              "        async function convertToInteractive(key) {\n",
              "          const element = document.querySelector('#df-3063a6f1-d9c2-48d9-b58a-43e9aeef98be');\n",
              "          const dataTable =\n",
              "            await google.colab.kernel.invokeFunction('convertToInteractive',\n",
              "                                                     [key], {});\n",
              "          if (!dataTable) return;\n",
              "\n",
              "          const docLinkHtml = 'Like what you see? Visit the ' +\n",
              "            '<a target=\"_blank\" href=https://colab.research.google.com/notebooks/data_table.ipynb>data table notebook</a>'\n",
              "            + ' to learn more about interactive tables.';\n",
              "          element.innerHTML = '';\n",
              "          dataTable['output_type'] = 'display_data';\n",
              "          await google.colab.output.renderOutput(dataTable, element);\n",
              "          const docLink = document.createElement('div');\n",
              "          docLink.innerHTML = docLinkHtml;\n",
              "          element.appendChild(docLink);\n",
              "        }\n",
              "      </script>\n",
              "    </div>\n",
              "  </div>\n",
              "  "
            ]
          },
          "metadata": {},
          "execution_count": 52
        }
      ]
    },
    {
      "cell_type": "markdown",
      "source": [
        "The correlation matrix indicates that most variables are moderately or weakly correlated.\n",
        "\n",
        "This is very beneficial when creating a model, as collinear variables reduce the power of the model to identify independent variables that are statistically significant.\n",
        "\n",
        "We aim to create a model with the most significant variables.\n",
        "\n",
        "We will use the correlation matrix to calculate the vif (Variance Inflation Factor).\n",
        "\n",
        "The VIF will help in determining the variables that are collinear or highly correlated with each other."
      ],
      "metadata": {
        "id": "uW4ePg82NCIV"
      }
    },
    {
      "cell_type": "code",
      "source": [
        "\n",
        "# checking for multicollinearity\n",
        "# Using the variance Inflation Factor (VIF)\n",
        "# \n",
        "# This is calculated using linear algebra inverse function\n",
        "\n",
        "pd.DataFrame(np.linalg.inv(correlation.values), index = correlation.index, columns = correlation.columns)\n",
        "\n",
        "# From the correlation matrix below there are no correlated independent variables as all have VIF below 5, which is the threshold"
      ],
      "metadata": {
        "colab": {
          "base_uri": "https://localhost:8080/",
          "height": 646
        },
        "id": "GtPlhE2zNHj_",
        "outputId": "13f1117d-74b3-4709-ca2d-175ea1cbdd76"
      },
      "execution_count": 53,
      "outputs": [
        {
          "output_type": "execute_result",
          "data": {
            "text/plain": [
              "                 rank  country  total_points  previous_points  rank_change  \\\n",
              "rank              NaN      NaN           NaN              NaN          NaN   \n",
              "country           NaN      NaN           NaN              NaN          NaN   \n",
              "total_points      NaN      NaN           NaN              NaN          NaN   \n",
              "previous_points   NaN      NaN           NaN              NaN          NaN   \n",
              "rank_change       NaN      NaN           NaN              NaN          NaN   \n",
              "confederation     NaN      NaN           NaN              NaN          NaN   \n",
              "home_team         NaN      NaN           NaN              NaN          NaN   \n",
              "away_team         NaN      NaN           NaN              NaN          NaN   \n",
              "home_score        NaN      NaN           NaN              NaN          NaN   \n",
              "away_score        NaN      NaN           NaN              NaN          NaN   \n",
              "tournament        NaN      NaN           NaN              NaN          NaN   \n",
              "city              NaN      NaN           NaN              NaN          NaN   \n",
              "neutral           NaN      NaN           NaN              NaN          NaN   \n",
              "Status_home       NaN      NaN           NaN              NaN          NaN   \n",
              "tournament_type   NaN      NaN           NaN              NaN          NaN   \n",
              "year              NaN      NaN           NaN              NaN          NaN   \n",
              "month             NaN      NaN           NaN              NaN          NaN   \n",
              "\n",
              "                 confederation  home_team  away_team  home_score  away_score  \\\n",
              "rank                       NaN        NaN        NaN         NaN         NaN   \n",
              "country                    NaN        NaN        NaN         NaN         NaN   \n",
              "total_points               NaN        NaN        NaN         NaN         NaN   \n",
              "previous_points            NaN        NaN        NaN         NaN         NaN   \n",
              "rank_change                NaN        NaN        NaN         NaN         NaN   \n",
              "confederation              NaN        NaN        NaN         NaN         NaN   \n",
              "home_team                  NaN        NaN        NaN         NaN         NaN   \n",
              "away_team                  NaN        NaN        NaN         NaN         NaN   \n",
              "home_score                 NaN        NaN        NaN         NaN         NaN   \n",
              "away_score                 NaN        NaN        NaN         NaN         NaN   \n",
              "tournament                 NaN        NaN        NaN         NaN         NaN   \n",
              "city                       NaN        NaN        NaN         NaN         NaN   \n",
              "neutral                    NaN        NaN        NaN         NaN         NaN   \n",
              "Status_home                NaN        NaN        NaN         NaN         NaN   \n",
              "tournament_type            NaN        NaN        NaN         NaN         NaN   \n",
              "year                       NaN        NaN        NaN         NaN         NaN   \n",
              "month                      NaN        NaN        NaN         NaN         NaN   \n",
              "\n",
              "                 tournament  city  neutral  Status_home  tournament_type  \\\n",
              "rank                    NaN   NaN      NaN          NaN              NaN   \n",
              "country                 NaN   NaN      NaN          NaN              NaN   \n",
              "total_points            NaN   NaN      NaN          NaN              NaN   \n",
              "previous_points         NaN   NaN      NaN          NaN              NaN   \n",
              "rank_change             NaN   NaN      NaN          NaN              NaN   \n",
              "confederation           NaN   NaN      NaN          NaN              NaN   \n",
              "home_team               NaN   NaN      NaN          NaN              NaN   \n",
              "away_team               NaN   NaN      NaN          NaN              NaN   \n",
              "home_score              NaN   NaN      NaN          NaN              NaN   \n",
              "away_score              NaN   NaN      NaN          NaN              NaN   \n",
              "tournament              NaN   NaN      NaN          NaN              NaN   \n",
              "city                    NaN   NaN      NaN          NaN              NaN   \n",
              "neutral                 NaN   NaN      NaN          NaN              NaN   \n",
              "Status_home             NaN   NaN      NaN          NaN              NaN   \n",
              "tournament_type         NaN   NaN      NaN          NaN              NaN   \n",
              "year                    NaN   NaN      NaN          NaN              NaN   \n",
              "month                   NaN   NaN      NaN          NaN              NaN   \n",
              "\n",
              "                 year  month  \n",
              "rank              NaN    NaN  \n",
              "country           NaN    NaN  \n",
              "total_points      NaN    NaN  \n",
              "previous_points   NaN    NaN  \n",
              "rank_change       NaN    NaN  \n",
              "confederation     NaN    NaN  \n",
              "home_team         NaN    NaN  \n",
              "away_team         NaN    NaN  \n",
              "home_score        NaN    NaN  \n",
              "away_score        NaN    NaN  \n",
              "tournament        NaN    NaN  \n",
              "city              NaN    NaN  \n",
              "neutral           NaN    NaN  \n",
              "Status_home       NaN    NaN  \n",
              "tournament_type   NaN    NaN  \n",
              "year              NaN    NaN  \n",
              "month             NaN    NaN  "
            ],
            "text/html": [
              "\n",
              "  <div id=\"df-1e3c388a-1d0d-4606-ac88-6faa19de11e5\">\n",
              "    <div class=\"colab-df-container\">\n",
              "      <div>\n",
              "<style scoped>\n",
              "    .dataframe tbody tr th:only-of-type {\n",
              "        vertical-align: middle;\n",
              "    }\n",
              "\n",
              "    .dataframe tbody tr th {\n",
              "        vertical-align: top;\n",
              "    }\n",
              "\n",
              "    .dataframe thead th {\n",
              "        text-align: right;\n",
              "    }\n",
              "</style>\n",
              "<table border=\"1\" class=\"dataframe\">\n",
              "  <thead>\n",
              "    <tr style=\"text-align: right;\">\n",
              "      <th></th>\n",
              "      <th>rank</th>\n",
              "      <th>country</th>\n",
              "      <th>total_points</th>\n",
              "      <th>previous_points</th>\n",
              "      <th>rank_change</th>\n",
              "      <th>confederation</th>\n",
              "      <th>home_team</th>\n",
              "      <th>away_team</th>\n",
              "      <th>home_score</th>\n",
              "      <th>away_score</th>\n",
              "      <th>tournament</th>\n",
              "      <th>city</th>\n",
              "      <th>neutral</th>\n",
              "      <th>Status_home</th>\n",
              "      <th>tournament_type</th>\n",
              "      <th>year</th>\n",
              "      <th>month</th>\n",
              "    </tr>\n",
              "  </thead>\n",
              "  <tbody>\n",
              "    <tr>\n",
              "      <th>rank</th>\n",
              "      <td>NaN</td>\n",
              "      <td>NaN</td>\n",
              "      <td>NaN</td>\n",
              "      <td>NaN</td>\n",
              "      <td>NaN</td>\n",
              "      <td>NaN</td>\n",
              "      <td>NaN</td>\n",
              "      <td>NaN</td>\n",
              "      <td>NaN</td>\n",
              "      <td>NaN</td>\n",
              "      <td>NaN</td>\n",
              "      <td>NaN</td>\n",
              "      <td>NaN</td>\n",
              "      <td>NaN</td>\n",
              "      <td>NaN</td>\n",
              "      <td>NaN</td>\n",
              "      <td>NaN</td>\n",
              "    </tr>\n",
              "    <tr>\n",
              "      <th>country</th>\n",
              "      <td>NaN</td>\n",
              "      <td>NaN</td>\n",
              "      <td>NaN</td>\n",
              "      <td>NaN</td>\n",
              "      <td>NaN</td>\n",
              "      <td>NaN</td>\n",
              "      <td>NaN</td>\n",
              "      <td>NaN</td>\n",
              "      <td>NaN</td>\n",
              "      <td>NaN</td>\n",
              "      <td>NaN</td>\n",
              "      <td>NaN</td>\n",
              "      <td>NaN</td>\n",
              "      <td>NaN</td>\n",
              "      <td>NaN</td>\n",
              "      <td>NaN</td>\n",
              "      <td>NaN</td>\n",
              "    </tr>\n",
              "    <tr>\n",
              "      <th>total_points</th>\n",
              "      <td>NaN</td>\n",
              "      <td>NaN</td>\n",
              "      <td>NaN</td>\n",
              "      <td>NaN</td>\n",
              "      <td>NaN</td>\n",
              "      <td>NaN</td>\n",
              "      <td>NaN</td>\n",
              "      <td>NaN</td>\n",
              "      <td>NaN</td>\n",
              "      <td>NaN</td>\n",
              "      <td>NaN</td>\n",
              "      <td>NaN</td>\n",
              "      <td>NaN</td>\n",
              "      <td>NaN</td>\n",
              "      <td>NaN</td>\n",
              "      <td>NaN</td>\n",
              "      <td>NaN</td>\n",
              "    </tr>\n",
              "    <tr>\n",
              "      <th>previous_points</th>\n",
              "      <td>NaN</td>\n",
              "      <td>NaN</td>\n",
              "      <td>NaN</td>\n",
              "      <td>NaN</td>\n",
              "      <td>NaN</td>\n",
              "      <td>NaN</td>\n",
              "      <td>NaN</td>\n",
              "      <td>NaN</td>\n",
              "      <td>NaN</td>\n",
              "      <td>NaN</td>\n",
              "      <td>NaN</td>\n",
              "      <td>NaN</td>\n",
              "      <td>NaN</td>\n",
              "      <td>NaN</td>\n",
              "      <td>NaN</td>\n",
              "      <td>NaN</td>\n",
              "      <td>NaN</td>\n",
              "    </tr>\n",
              "    <tr>\n",
              "      <th>rank_change</th>\n",
              "      <td>NaN</td>\n",
              "      <td>NaN</td>\n",
              "      <td>NaN</td>\n",
              "      <td>NaN</td>\n",
              "      <td>NaN</td>\n",
              "      <td>NaN</td>\n",
              "      <td>NaN</td>\n",
              "      <td>NaN</td>\n",
              "      <td>NaN</td>\n",
              "      <td>NaN</td>\n",
              "      <td>NaN</td>\n",
              "      <td>NaN</td>\n",
              "      <td>NaN</td>\n",
              "      <td>NaN</td>\n",
              "      <td>NaN</td>\n",
              "      <td>NaN</td>\n",
              "      <td>NaN</td>\n",
              "    </tr>\n",
              "    <tr>\n",
              "      <th>confederation</th>\n",
              "      <td>NaN</td>\n",
              "      <td>NaN</td>\n",
              "      <td>NaN</td>\n",
              "      <td>NaN</td>\n",
              "      <td>NaN</td>\n",
              "      <td>NaN</td>\n",
              "      <td>NaN</td>\n",
              "      <td>NaN</td>\n",
              "      <td>NaN</td>\n",
              "      <td>NaN</td>\n",
              "      <td>NaN</td>\n",
              "      <td>NaN</td>\n",
              "      <td>NaN</td>\n",
              "      <td>NaN</td>\n",
              "      <td>NaN</td>\n",
              "      <td>NaN</td>\n",
              "      <td>NaN</td>\n",
              "    </tr>\n",
              "    <tr>\n",
              "      <th>home_team</th>\n",
              "      <td>NaN</td>\n",
              "      <td>NaN</td>\n",
              "      <td>NaN</td>\n",
              "      <td>NaN</td>\n",
              "      <td>NaN</td>\n",
              "      <td>NaN</td>\n",
              "      <td>NaN</td>\n",
              "      <td>NaN</td>\n",
              "      <td>NaN</td>\n",
              "      <td>NaN</td>\n",
              "      <td>NaN</td>\n",
              "      <td>NaN</td>\n",
              "      <td>NaN</td>\n",
              "      <td>NaN</td>\n",
              "      <td>NaN</td>\n",
              "      <td>NaN</td>\n",
              "      <td>NaN</td>\n",
              "    </tr>\n",
              "    <tr>\n",
              "      <th>away_team</th>\n",
              "      <td>NaN</td>\n",
              "      <td>NaN</td>\n",
              "      <td>NaN</td>\n",
              "      <td>NaN</td>\n",
              "      <td>NaN</td>\n",
              "      <td>NaN</td>\n",
              "      <td>NaN</td>\n",
              "      <td>NaN</td>\n",
              "      <td>NaN</td>\n",
              "      <td>NaN</td>\n",
              "      <td>NaN</td>\n",
              "      <td>NaN</td>\n",
              "      <td>NaN</td>\n",
              "      <td>NaN</td>\n",
              "      <td>NaN</td>\n",
              "      <td>NaN</td>\n",
              "      <td>NaN</td>\n",
              "    </tr>\n",
              "    <tr>\n",
              "      <th>home_score</th>\n",
              "      <td>NaN</td>\n",
              "      <td>NaN</td>\n",
              "      <td>NaN</td>\n",
              "      <td>NaN</td>\n",
              "      <td>NaN</td>\n",
              "      <td>NaN</td>\n",
              "      <td>NaN</td>\n",
              "      <td>NaN</td>\n",
              "      <td>NaN</td>\n",
              "      <td>NaN</td>\n",
              "      <td>NaN</td>\n",
              "      <td>NaN</td>\n",
              "      <td>NaN</td>\n",
              "      <td>NaN</td>\n",
              "      <td>NaN</td>\n",
              "      <td>NaN</td>\n",
              "      <td>NaN</td>\n",
              "    </tr>\n",
              "    <tr>\n",
              "      <th>away_score</th>\n",
              "      <td>NaN</td>\n",
              "      <td>NaN</td>\n",
              "      <td>NaN</td>\n",
              "      <td>NaN</td>\n",
              "      <td>NaN</td>\n",
              "      <td>NaN</td>\n",
              "      <td>NaN</td>\n",
              "      <td>NaN</td>\n",
              "      <td>NaN</td>\n",
              "      <td>NaN</td>\n",
              "      <td>NaN</td>\n",
              "      <td>NaN</td>\n",
              "      <td>NaN</td>\n",
              "      <td>NaN</td>\n",
              "      <td>NaN</td>\n",
              "      <td>NaN</td>\n",
              "      <td>NaN</td>\n",
              "    </tr>\n",
              "    <tr>\n",
              "      <th>tournament</th>\n",
              "      <td>NaN</td>\n",
              "      <td>NaN</td>\n",
              "      <td>NaN</td>\n",
              "      <td>NaN</td>\n",
              "      <td>NaN</td>\n",
              "      <td>NaN</td>\n",
              "      <td>NaN</td>\n",
              "      <td>NaN</td>\n",
              "      <td>NaN</td>\n",
              "      <td>NaN</td>\n",
              "      <td>NaN</td>\n",
              "      <td>NaN</td>\n",
              "      <td>NaN</td>\n",
              "      <td>NaN</td>\n",
              "      <td>NaN</td>\n",
              "      <td>NaN</td>\n",
              "      <td>NaN</td>\n",
              "    </tr>\n",
              "    <tr>\n",
              "      <th>city</th>\n",
              "      <td>NaN</td>\n",
              "      <td>NaN</td>\n",
              "      <td>NaN</td>\n",
              "      <td>NaN</td>\n",
              "      <td>NaN</td>\n",
              "      <td>NaN</td>\n",
              "      <td>NaN</td>\n",
              "      <td>NaN</td>\n",
              "      <td>NaN</td>\n",
              "      <td>NaN</td>\n",
              "      <td>NaN</td>\n",
              "      <td>NaN</td>\n",
              "      <td>NaN</td>\n",
              "      <td>NaN</td>\n",
              "      <td>NaN</td>\n",
              "      <td>NaN</td>\n",
              "      <td>NaN</td>\n",
              "    </tr>\n",
              "    <tr>\n",
              "      <th>neutral</th>\n",
              "      <td>NaN</td>\n",
              "      <td>NaN</td>\n",
              "      <td>NaN</td>\n",
              "      <td>NaN</td>\n",
              "      <td>NaN</td>\n",
              "      <td>NaN</td>\n",
              "      <td>NaN</td>\n",
              "      <td>NaN</td>\n",
              "      <td>NaN</td>\n",
              "      <td>NaN</td>\n",
              "      <td>NaN</td>\n",
              "      <td>NaN</td>\n",
              "      <td>NaN</td>\n",
              "      <td>NaN</td>\n",
              "      <td>NaN</td>\n",
              "      <td>NaN</td>\n",
              "      <td>NaN</td>\n",
              "    </tr>\n",
              "    <tr>\n",
              "      <th>Status_home</th>\n",
              "      <td>NaN</td>\n",
              "      <td>NaN</td>\n",
              "      <td>NaN</td>\n",
              "      <td>NaN</td>\n",
              "      <td>NaN</td>\n",
              "      <td>NaN</td>\n",
              "      <td>NaN</td>\n",
              "      <td>NaN</td>\n",
              "      <td>NaN</td>\n",
              "      <td>NaN</td>\n",
              "      <td>NaN</td>\n",
              "      <td>NaN</td>\n",
              "      <td>NaN</td>\n",
              "      <td>NaN</td>\n",
              "      <td>NaN</td>\n",
              "      <td>NaN</td>\n",
              "      <td>NaN</td>\n",
              "    </tr>\n",
              "    <tr>\n",
              "      <th>tournament_type</th>\n",
              "      <td>NaN</td>\n",
              "      <td>NaN</td>\n",
              "      <td>NaN</td>\n",
              "      <td>NaN</td>\n",
              "      <td>NaN</td>\n",
              "      <td>NaN</td>\n",
              "      <td>NaN</td>\n",
              "      <td>NaN</td>\n",
              "      <td>NaN</td>\n",
              "      <td>NaN</td>\n",
              "      <td>NaN</td>\n",
              "      <td>NaN</td>\n",
              "      <td>NaN</td>\n",
              "      <td>NaN</td>\n",
              "      <td>NaN</td>\n",
              "      <td>NaN</td>\n",
              "      <td>NaN</td>\n",
              "    </tr>\n",
              "    <tr>\n",
              "      <th>year</th>\n",
              "      <td>NaN</td>\n",
              "      <td>NaN</td>\n",
              "      <td>NaN</td>\n",
              "      <td>NaN</td>\n",
              "      <td>NaN</td>\n",
              "      <td>NaN</td>\n",
              "      <td>NaN</td>\n",
              "      <td>NaN</td>\n",
              "      <td>NaN</td>\n",
              "      <td>NaN</td>\n",
              "      <td>NaN</td>\n",
              "      <td>NaN</td>\n",
              "      <td>NaN</td>\n",
              "      <td>NaN</td>\n",
              "      <td>NaN</td>\n",
              "      <td>NaN</td>\n",
              "      <td>NaN</td>\n",
              "    </tr>\n",
              "    <tr>\n",
              "      <th>month</th>\n",
              "      <td>NaN</td>\n",
              "      <td>NaN</td>\n",
              "      <td>NaN</td>\n",
              "      <td>NaN</td>\n",
              "      <td>NaN</td>\n",
              "      <td>NaN</td>\n",
              "      <td>NaN</td>\n",
              "      <td>NaN</td>\n",
              "      <td>NaN</td>\n",
              "      <td>NaN</td>\n",
              "      <td>NaN</td>\n",
              "      <td>NaN</td>\n",
              "      <td>NaN</td>\n",
              "      <td>NaN</td>\n",
              "      <td>NaN</td>\n",
              "      <td>NaN</td>\n",
              "      <td>NaN</td>\n",
              "    </tr>\n",
              "  </tbody>\n",
              "</table>\n",
              "</div>\n",
              "      <button class=\"colab-df-convert\" onclick=\"convertToInteractive('df-1e3c388a-1d0d-4606-ac88-6faa19de11e5')\"\n",
              "              title=\"Convert this dataframe to an interactive table.\"\n",
              "              style=\"display:none;\">\n",
              "        \n",
              "  <svg xmlns=\"http://www.w3.org/2000/svg\" height=\"24px\"viewBox=\"0 0 24 24\"\n",
              "       width=\"24px\">\n",
              "    <path d=\"M0 0h24v24H0V0z\" fill=\"none\"/>\n",
              "    <path d=\"M18.56 5.44l.94 2.06.94-2.06 2.06-.94-2.06-.94-.94-2.06-.94 2.06-2.06.94zm-11 1L8.5 8.5l.94-2.06 2.06-.94-2.06-.94L8.5 2.5l-.94 2.06-2.06.94zm10 10l.94 2.06.94-2.06 2.06-.94-2.06-.94-.94-2.06-.94 2.06-2.06.94z\"/><path d=\"M17.41 7.96l-1.37-1.37c-.4-.4-.92-.59-1.43-.59-.52 0-1.04.2-1.43.59L10.3 9.45l-7.72 7.72c-.78.78-.78 2.05 0 2.83L4 21.41c.39.39.9.59 1.41.59.51 0 1.02-.2 1.41-.59l7.78-7.78 2.81-2.81c.8-.78.8-2.07 0-2.86zM5.41 20L4 18.59l7.72-7.72 1.47 1.35L5.41 20z\"/>\n",
              "  </svg>\n",
              "      </button>\n",
              "      \n",
              "  <style>\n",
              "    .colab-df-container {\n",
              "      display:flex;\n",
              "      flex-wrap:wrap;\n",
              "      gap: 12px;\n",
              "    }\n",
              "\n",
              "    .colab-df-convert {\n",
              "      background-color: #E8F0FE;\n",
              "      border: none;\n",
              "      border-radius: 50%;\n",
              "      cursor: pointer;\n",
              "      display: none;\n",
              "      fill: #1967D2;\n",
              "      height: 32px;\n",
              "      padding: 0 0 0 0;\n",
              "      width: 32px;\n",
              "    }\n",
              "\n",
              "    .colab-df-convert:hover {\n",
              "      background-color: #E2EBFA;\n",
              "      box-shadow: 0px 1px 2px rgba(60, 64, 67, 0.3), 0px 1px 3px 1px rgba(60, 64, 67, 0.15);\n",
              "      fill: #174EA6;\n",
              "    }\n",
              "\n",
              "    [theme=dark] .colab-df-convert {\n",
              "      background-color: #3B4455;\n",
              "      fill: #D2E3FC;\n",
              "    }\n",
              "\n",
              "    [theme=dark] .colab-df-convert:hover {\n",
              "      background-color: #434B5C;\n",
              "      box-shadow: 0px 1px 3px 1px rgba(0, 0, 0, 0.15);\n",
              "      filter: drop-shadow(0px 1px 2px rgba(0, 0, 0, 0.3));\n",
              "      fill: #FFFFFF;\n",
              "    }\n",
              "  </style>\n",
              "\n",
              "      <script>\n",
              "        const buttonEl =\n",
              "          document.querySelector('#df-1e3c388a-1d0d-4606-ac88-6faa19de11e5 button.colab-df-convert');\n",
              "        buttonEl.style.display =\n",
              "          google.colab.kernel.accessAllowed ? 'block' : 'none';\n",
              "\n",
              "        async function convertToInteractive(key) {\n",
              "          const element = document.querySelector('#df-1e3c388a-1d0d-4606-ac88-6faa19de11e5');\n",
              "          const dataTable =\n",
              "            await google.colab.kernel.invokeFunction('convertToInteractive',\n",
              "                                                     [key], {});\n",
              "          if (!dataTable) return;\n",
              "\n",
              "          const docLinkHtml = 'Like what you see? Visit the ' +\n",
              "            '<a target=\"_blank\" href=https://colab.research.google.com/notebooks/data_table.ipynb>data table notebook</a>'\n",
              "            + ' to learn more about interactive tables.';\n",
              "          element.innerHTML = '';\n",
              "          dataTable['output_type'] = 'display_data';\n",
              "          await google.colab.output.renderOutput(dataTable, element);\n",
              "          const docLink = document.createElement('div');\n",
              "          docLink.innerHTML = docLinkHtml;\n",
              "          element.appendChild(docLink);\n",
              "        }\n",
              "      </script>\n",
              "    </div>\n",
              "  </div>\n",
              "  "
            ]
          },
          "metadata": {},
          "execution_count": 53
        }
      ]
    },
    {
      "cell_type": "code",
      "source": [
        "# Plotting a heat map to show the vif visually.\n",
        "# Using the seaborn library for visualization\n",
        "# Labeling the title\n",
        "# Displaying the chart\n",
        "\n",
        "vif = np.linalg.inv(correlation.values)\n",
        "sns.heatmap(vif, annot = True, xticklabels=['home_score' ,'away_score' ,'neutral', 'Status_home' , 'Status_Away' , 'tournament_type' , 'year', 'month' , 'home_rank' ,'away_rank'], yticklabels=['home_score' ,'away_score' ,'neutral', 'Status_home' , 'Status_Away' , 'tournament_type' , 'year', 'month' , 'home_rank' ,'away_rank'])\n",
        "plt.title('A heatmap showing vif of each variable along the diagonal', color = 'teal' )\n",
        "plt.show()\n"
      ],
      "metadata": {
        "colab": {
          "base_uri": "https://localhost:8080/",
          "height": 426
        },
        "id": "N3VxoIUlNaqs",
        "outputId": "70a57016-7aab-4031-a4bb-4c624b17de9d"
      },
      "execution_count": 54,
      "outputs": [
        {
          "output_type": "stream",
          "name": "stderr",
          "text": [
            "/usr/local/lib/python3.8/dist-packages/seaborn/matrix.py:198: RuntimeWarning: All-NaN slice encountered\n",
            "  vmin = np.nanmin(calc_data)\n",
            "/usr/local/lib/python3.8/dist-packages/seaborn/matrix.py:203: RuntimeWarning: All-NaN slice encountered\n",
            "  vmax = np.nanmax(calc_data)\n"
          ]
        },
        {
          "output_type": "display_data",
          "data": {
            "text/plain": [
              "<Figure size 432x288 with 2 Axes>"
            ],
            "image/png": "[encoded data removed]"
          },
          "metadata": {
            "needs_background": "light"
          }
        }
      ]
    },
    {
      "cell_type": "markdown",
      "source": [
        "\n",
        "VIFs Values greater than 5 indicate that the presence of multicollinearity.\n",
        "\n",
        "If present we remove the variable with the greatest VIF value.\n",
        "\n",
        "There are no correlated independent variables as all have VIF values are below 5, which is the threshold."
      ],
      "metadata": {
        "id": "g8dwrnxwNpgh"
      }
    },
    {
      "cell_type": "markdown",
      "source": [
        "#Building a Model\n",
        "\n",
        "##1. Polynomial Regression Model"
      ],
      "metadata": {
        "id": "iQAY9FC4OA7v"
      }
    },
    {
      "cell_type": "code",
      "source": [
        "# Approach 1: Polynomial approach\n",
        "\n",
        "# What to train given:\n",
        "\n",
        "# Rank of home team\n",
        "# Rank of away team\n",
        "# Tournament type\n",
        "\n",
        "# Model 1: Predict how many goals the home team scores\n",
        "\n",
        "# Model 2: Predict how many goals the away team scores\n",
        "     "
      ],
      "metadata": {
        "id": "SWSW78pmNotZ"
      },
      "execution_count": 55,
      "outputs": []
    },
    {
      "cell_type": "code",
      "source": [
        "df_encoded.head()"
      ],
      "metadata": {
        "colab": {
          "base_uri": "https://localhost:8080/",
          "height": 270
        },
        "id": "CDPaJ1N3LVIx",
        "outputId": "016ec63a-4c87-44e1-9485-c91b23b5aac8"
      },
      "execution_count": 62,
      "outputs": [
        {
          "output_type": "execute_result",
          "data": {
            "text/plain": [
              "   rank  country  total_points  previous_points  rank_change  confederation  \\\n",
              "0     7       20             0               45           11              3   \n",
              "1    34       36             0               14           35              3   \n",
              "2    49      153             0               17           20              1   \n",
              "3    58       17             0                7           34              3   \n",
              "4    64       54             0               14           14              1   \n",
              "\n",
              "   home_team  away_team  home_score  away_score  tournament  city  neutral  \\\n",
              "0         23        100           1           1          18   195        0   \n",
              "1         46        177           5           0          17   285        0   \n",
              "2        180         53           2           0          18   124        0   \n",
              "3         20        175           3           1          17   170        0   \n",
              "4         67        144           1           0          18    77        0   \n",
              "\n",
              "   Status_home  tournament_type  year  month  \n",
              "0            0                0     0      7  \n",
              "1            2                0     0      7  \n",
              "2            2                0     0      7  \n",
              "3            2                0     0      7  \n",
              "4            2                0     0      7  "
            ],
            "text/html": [
              "\n",
              "  <div id=\"df-2ac1bdfb-ff20-4026-9439-d024a9d89aa2\">\n",
              "    <div class=\"colab-df-container\">\n",
              "      <div>\n",
              "<style scoped>\n",
              "    .dataframe tbody tr th:only-of-type {\n",
              "        vertical-align: middle;\n",
              "    }\n",
              "\n",
              "    .dataframe tbody tr th {\n",
              "        vertical-align: top;\n",
              "    }\n",
              "\n",
              "    .dataframe thead th {\n",
              "        text-align: right;\n",
              "    }\n",
              "</style>\n",
              "<table border=\"1\" class=\"dataframe\">\n",
              "  <thead>\n",
              "    <tr style=\"text-align: right;\">\n",
              "      <th></th>\n",
              "      <th>rank</th>\n",
              "      <th>country</th>\n",
              "      <th>total_points</th>\n",
              "      <th>previous_points</th>\n",
              "      <th>rank_change</th>\n",
              "      <th>confederation</th>\n",
              "      <th>home_team</th>\n",
              "      <th>away_team</th>\n",
              "      <th>home_score</th>\n",
              "      <th>away_score</th>\n",
              "      <th>tournament</th>\n",
              "      <th>city</th>\n",
              "      <th>neutral</th>\n",
              "      <th>Status_home</th>\n",
              "      <th>tournament_type</th>\n",
              "      <th>year</th>\n",
              "      <th>month</th>\n",
              "    </tr>\n",
              "  </thead>\n",
              "  <tbody>\n",
              "    <tr>\n",
              "      <th>0</th>\n",
              "      <td>7</td>\n",
              "      <td>20</td>\n",
              "      <td>0</td>\n",
              "      <td>45</td>\n",
              "      <td>11</td>\n",
              "      <td>3</td>\n",
              "      <td>23</td>\n",
              "      <td>100</td>\n",
              "      <td>1</td>\n",
              "      <td>1</td>\n",
              "      <td>18</td>\n",
              "      <td>195</td>\n",
              "      <td>0</td>\n",
              "      <td>0</td>\n",
              "      <td>0</td>\n",
              "      <td>0</td>\n",
              "      <td>7</td>\n",
              "    </tr>\n",
              "    <tr>\n",
              "      <th>1</th>\n",
              "      <td>34</td>\n",
              "      <td>36</td>\n",
              "      <td>0</td>\n",
              "      <td>14</td>\n",
              "      <td>35</td>\n",
              "      <td>3</td>\n",
              "      <td>46</td>\n",
              "      <td>177</td>\n",
              "      <td>5</td>\n",
              "      <td>0</td>\n",
              "      <td>17</td>\n",
              "      <td>285</td>\n",
              "      <td>0</td>\n",
              "      <td>2</td>\n",
              "      <td>0</td>\n",
              "      <td>0</td>\n",
              "      <td>7</td>\n",
              "    </tr>\n",
              "    <tr>\n",
              "      <th>2</th>\n",
              "      <td>49</td>\n",
              "      <td>153</td>\n",
              "      <td>0</td>\n",
              "      <td>17</td>\n",
              "      <td>20</td>\n",
              "      <td>1</td>\n",
              "      <td>180</td>\n",
              "      <td>53</td>\n",
              "      <td>2</td>\n",
              "      <td>0</td>\n",
              "      <td>18</td>\n",
              "      <td>124</td>\n",
              "      <td>0</td>\n",
              "      <td>2</td>\n",
              "      <td>0</td>\n",
              "      <td>0</td>\n",
              "      <td>7</td>\n",
              "    </tr>\n",
              "    <tr>\n",
              "      <th>3</th>\n",
              "      <td>58</td>\n",
              "      <td>17</td>\n",
              "      <td>0</td>\n",
              "      <td>7</td>\n",
              "      <td>34</td>\n",
              "      <td>3</td>\n",
              "      <td>20</td>\n",
              "      <td>175</td>\n",
              "      <td>3</td>\n",
              "      <td>1</td>\n",
              "      <td>17</td>\n",
              "      <td>170</td>\n",
              "      <td>0</td>\n",
              "      <td>2</td>\n",
              "      <td>0</td>\n",
              "      <td>0</td>\n",
              "      <td>7</td>\n",
              "    </tr>\n",
              "    <tr>\n",
              "      <th>4</th>\n",
              "      <td>64</td>\n",
              "      <td>54</td>\n",
              "      <td>0</td>\n",
              "      <td>14</td>\n",
              "      <td>14</td>\n",
              "      <td>1</td>\n",
              "      <td>67</td>\n",
              "      <td>144</td>\n",
              "      <td>1</td>\n",
              "      <td>0</td>\n",
              "      <td>18</td>\n",
              "      <td>77</td>\n",
              "      <td>0</td>\n",
              "      <td>2</td>\n",
              "      <td>0</td>\n",
              "      <td>0</td>\n",
              "      <td>7</td>\n",
              "    </tr>\n",
              "  </tbody>\n",
              "</table>\n",
              "</div>\n",
              "      <button class=\"colab-df-convert\" onclick=\"convertToInteractive('df-2ac1bdfb-ff20-4026-9439-d024a9d89aa2')\"\n",
              "              title=\"Convert this dataframe to an interactive table.\"\n",
              "              style=\"display:none;\">\n",
              "        \n",
              "  <svg xmlns=\"http://www.w3.org/2000/svg\" height=\"24px\"viewBox=\"0 0 24 24\"\n",
              "       width=\"24px\">\n",
              "    <path d=\"M0 0h24v24H0V0z\" fill=\"none\"/>\n",
              "    <path d=\"M18.56 5.44l.94 2.06.94-2.06 2.06-.94-2.06-.94-.94-2.06-.94 2.06-2.06.94zm-11 1L8.5 8.5l.94-2.06 2.06-.94-2.06-.94L8.5 2.5l-.94 2.06-2.06.94zm10 10l.94 2.06.94-2.06 2.06-.94-2.06-.94-.94-2.06-.94 2.06-2.06.94z\"/><path d=\"M17.41 7.96l-1.37-1.37c-.4-.4-.92-.59-1.43-.59-.52 0-1.04.2-1.43.59L10.3 9.45l-7.72 7.72c-.78.78-.78 2.05 0 2.83L4 21.41c.39.39.9.59 1.41.59.51 0 1.02-.2 1.41-.59l7.78-7.78 2.81-2.81c.8-.78.8-2.07 0-2.86zM5.41 20L4 18.59l7.72-7.72 1.47 1.35L5.41 20z\"/>\n",
              "  </svg>\n",
              "      </button>\n",
              "      \n",
              "  <style>\n",
              "    .colab-df-container {\n",
              "      display:flex;\n",
              "      flex-wrap:wrap;\n",
              "      gap: 12px;\n",
              "    }\n",
              "\n",
              "    .colab-df-convert {\n",
              "      background-color: #E8F0FE;\n",
              "      border: none;\n",
              "      border-radius: 50%;\n",
              "      cursor: pointer;\n",
              "      display: none;\n",
              "      fill: #1967D2;\n",
              "      height: 32px;\n",
              "      padding: 0 0 0 0;\n",
              "      width: 32px;\n",
              "    }\n",
              "\n",
              "    .colab-df-convert:hover {\n",
              "      background-color: #E2EBFA;\n",
              "      box-shadow: 0px 1px 2px rgba(60, 64, 67, 0.3), 0px 1px 3px 1px rgba(60, 64, 67, 0.15);\n",
              "      fill: #174EA6;\n",
              "    }\n",
              "\n",
              "    [theme=dark] .colab-df-convert {\n",
              "      background-color: #3B4455;\n",
              "      fill: #D2E3FC;\n",
              "    }\n",
              "\n",
              "    [theme=dark] .colab-df-convert:hover {\n",
              "      background-color: #434B5C;\n",
              "      box-shadow: 0px 1px 3px 1px rgba(0, 0, 0, 0.15);\n",
              "      filter: drop-shadow(0px 1px 2px rgba(0, 0, 0, 0.3));\n",
              "      fill: #FFFFFF;\n",
              "    }\n",
              "  </style>\n",
              "\n",
              "      <script>\n",
              "        const buttonEl =\n",
              "          document.querySelector('#df-2ac1bdfb-ff20-4026-9439-d024a9d89aa2 button.colab-df-convert');\n",
              "        buttonEl.style.display =\n",
              "          google.colab.kernel.accessAllowed ? 'block' : 'none';\n",
              "\n",
              "        async function convertToInteractive(key) {\n",
              "          const element = document.querySelector('#df-2ac1bdfb-ff20-4026-9439-d024a9d89aa2');\n",
              "          const dataTable =\n",
              "            await google.colab.kernel.invokeFunction('convertToInteractive',\n",
              "                                                     [key], {});\n",
              "          if (!dataTable) return;\n",
              "\n",
              "          const docLinkHtml = 'Like what you see? Visit the ' +\n",
              "            '<a target=\"_blank\" href=https://colab.research.google.com/notebooks/data_table.ipynb>data table notebook</a>'\n",
              "            + ' to learn more about interactive tables.';\n",
              "          element.innerHTML = '';\n",
              "          dataTable['output_type'] = 'display_data';\n",
              "          await google.colab.output.renderOutput(dataTable, element);\n",
              "          const docLink = document.createElement('div');\n",
              "          docLink.innerHTML = docLinkHtml;\n",
              "          element.appendChild(docLink);\n",
              "        }\n",
              "      </script>\n",
              "    </div>\n",
              "  </div>\n",
              "  "
            ]
          },
          "metadata": {},
          "execution_count": 62
        }
      ]
    },
    {
      "cell_type": "code",
      "source": [
        "\n",
        "# Model 1\n",
        "# Predict how many goals the home team scores given home rank\n",
        "# Splitting the dataset into the features and target variable\n",
        "\n",
        "\n",
        "X = df_encoded['rank'].values.reshape(-1, 1)\n",
        "\n",
        "y = df_encoded['home_score'].values.reshape(-1, 1)\n",
        "     "
      ],
      "metadata": {
        "id": "QN0dWif6OU7K"
      },
      "execution_count": 68,
      "outputs": []
    },
    {
      "cell_type": "code",
      "source": [
        "# Visualizing the dependent vs independent variable by plotting a scatter plot\n",
        "# Using seaborn to plot\n",
        "# labeling the title\n",
        "# Labeling the x, and y axis.\n",
        "# displaying the chart\n",
        "\n",
        "sns.set(style = 'darkgrid')\n",
        "plt.scatter(X,y, marker = '*' , color = 'blue') \n",
        "plt.title('Home Performance', color = 'black')\n",
        "plt.xlabel('Home_rank')\n",
        "plt.ylabel('Home_scores')\n",
        "plt.show()\n"
      ],
      "metadata": {
        "colab": {
          "base_uri": "https://localhost:8080/",
          "height": 301
        },
        "id": "4a24Yjh7On4w",
        "outputId": "2cc2fc90-91a0-49bd-b23d-a9d050be3d65"
      },
      "execution_count": 69,
      "outputs": [
        {
          "output_type": "display_data",
          "data": {
            "text/plain": [
              "<Figure size 432x288 with 1 Axes>"
            ],
            "image/png": "[encoded data removed]"
          },
          "metadata": {}
        }
      ]
    },
    {
      "cell_type": "markdown",
      "source": [
        "The chart above shows that there is no particular observable trend but,\n",
        "\n",
        "There are more points on the lower side of the scatter plot.\n",
        "\n",
        "Indicating in most cases the home team scores between 0 and 5 goals."
      ],
      "metadata": {
        "id": "-qsosuBQO1WA"
      }
    },
    {
      "cell_type": "code",
      "execution_count": 70,
      "metadata": {
        "id": "59jXq48nrwXy"
      },
      "outputs": [],
      "source": [
        "from sklearn.model_selection import train_test_split\n",
        "from sklearn.impute import SimpleImputer\n",
        "import matplotlib.pyplot as plt \n",
        "\n",
        "from sklearn.preprocessing import StandardScaler\n",
        "from sklearn.metrics import accuracy_score, confusion_matrix, f1_score, recall_score, precision_score \n",
        "from sklearn.metrics import mean_squared_error,  r2_score \n",
        "from sklearn import metrics\n",
        "\n",
        "\n",
        "from sklearn.model_selection import KFold, LeaveOneOut\n",
        "from sklearn.model_selection import GridSearchCV\n",
        "from sklearn.linear_model import LinearRegression\n",
        "from sklearn.preprocessing import PolynomialFeatures"
      ]
    },
    {
      "cell_type": "code",
      "source": [
        "# Split the dataset into train and test sets\n",
        "\n",
        "X_train, X_test, y_train, y_test = train_test_split(X,y, test_size = 0.2, random_state=0)"
      ],
      "metadata": {
        "id": "kKSGgbEVO_kp"
      },
      "execution_count": 66,
      "outputs": []
    },
    {
      "cell_type": "code",
      "source": [
        "\n",
        "# Fit Linear Regression model to the dataset\n",
        "# This is for comparing the linear regression model to the polynomial regression model)\n",
        "\n",
        "reg_line = LinearRegression()\n",
        "reg_line.fit(X, y)\n",
        "     "
      ],
      "metadata": {
        "colab": {
          "base_uri": "https://localhost:8080/"
        },
        "id": "arYva3zRPDPL",
        "outputId": "db7c5234-0e88-4d44-db83-2c62bef69f4e"
      },
      "execution_count": 71,
      "outputs": [
        {
          "output_type": "execute_result",
          "data": {
            "text/plain": [
              "LinearRegression()"
            ]
          },
          "metadata": {},
          "execution_count": 71
        }
      ]
    },
    {
      "cell_type": "code",
      "source": [
        "\n",
        "# Visualize the Linear Regression results\n",
        "# Using seaborn to plot\n",
        "# labeling the title\n",
        "# Labeling the x, and y axis.\n",
        "# displaying the chart\n",
        "\n",
        "plt.scatter(X, y, color='blue')\n",
        "plt.plot(X, reg_line.predict(X), color='red')\n",
        "plt.title('Home Scores Prediction(Linear Regression)', color = 'black')\n",
        "plt.xlabel('Home_rank')\n",
        "plt.ylabel('Home_scores')\n",
        "plt.show()"
      ],
      "metadata": {
        "colab": {
          "base_uri": "https://localhost:8080/",
          "height": 301
        },
        "id": "5YEo9rCePMSQ",
        "outputId": "b421d4d5-6342-4ff8-b82f-4364a1952401"
      },
      "execution_count": 72,
      "outputs": [
        {
          "output_type": "display_data",
          "data": {
            "text/plain": [
              "<Figure size 432x288 with 1 Axes>"
            ],
            "image/png": "[encoded data removed]"
          },
          "metadata": {}
        }
      ]
    },
    {
      "cell_type": "markdown",
      "source": [
        "The line of best fit does not pass through a majority of the points.\n",
        "\n",
        "hence  underfitting is detected .\n",
        "\n",
        "Therefore, the Linear regression model is not a good fit for this prediction.\n",
        "\n",
        "We will fit a polynomial regression and evaluate the results."
      ],
      "metadata": {
        "id": "SHQb7NFBPlwS"
      }
    },
    {
      "cell_type": "code",
      "source": [
        "# Fitting the polynomial features to the X the independent variable\n",
        "# We will start  with a polynomial regression of degree 2\n",
        "\n",
        "poly_reg = PolynomialFeatures(degree = 2)\n",
        "X_poly = poly_reg.fit_transform(X)"
      ],
      "metadata": {
        "id": "FJVCaA9EP0zE"
      },
      "execution_count": 73,
      "outputs": []
    },
    {
      "cell_type": "code",
      "source": [
        "\n",
        "# Fitting a polynomial Regression to the dataset.\n",
        "\n",
        "pol_reg = LinearRegression()\n",
        "pol_reg.fit(X_poly, y)\n",
        "     "
      ],
      "metadata": {
        "colab": {
          "base_uri": "https://localhost:8080/"
        },
        "id": "ONE-LP00P4MB",
        "outputId": "76a5891c-3672-423b-81cd-32c1d36c1031"
      },
      "execution_count": 74,
      "outputs": [
        {
          "output_type": "execute_result",
          "data": {
            "text/plain": [
              "LinearRegression()"
            ]
          },
          "metadata": {},
          "execution_count": 74
        }
      ]
    },
    {
      "cell_type": "code",
      "source": [
        "\n",
        "# Visualizing the polynomial Regression results\n",
        "# Specifying the chart size\n",
        "# Using seaborn to plot\n",
        "# labeling the title\n",
        "# Labeling the x, and y axis.\n",
        "# displaying the chart\n",
        "\n",
        "plt.figure(figsize = (10,7))\n",
        "plt.scatter(X, y, color='red')\n",
        "plt.plot(X, pol_reg.predict(X_poly), color='black')\n",
        "plt.title('Home_Scores Prediction (Polynomial Regression)')\n",
        "plt.xlabel('Home_rank')\n",
        "plt.ylabel('Home_scores')\n",
        "plt.show()\n",
        "     "
      ],
      "metadata": {
        "colab": {
          "base_uri": "https://localhost:8080/",
          "height": 464
        },
        "id": "ueZx4hbYP8SK",
        "outputId": "dd1d9f4a-c60b-470a-e547-c876c2ef173d"
      },
      "execution_count": 75,
      "outputs": [
        {
          "output_type": "display_data",
          "data": {
            "text/plain": [
              "<Figure size 720x504 with 1 Axes>"
            ],
            "image/png": "[encoded data removed]"
          },
          "metadata": {}
        }
      ]
    },
    {
      "cell_type": "markdown",
      "source": [
        "The curve is not passing through as many points as expected  hence we can say that this graph is not fully optimized."
      ],
      "metadata": {
        "id": "lnUKkuQzQMJZ"
      }
    },
    {
      "cell_type": "code",
      "source": [
        "\n",
        "# Making predictions using our model\n",
        "\n",
        "y_pred_poly = pol_reg.predict(X_poly)"
      ],
      "metadata": {
        "id": "uYXX6sJGQUJo"
      },
      "execution_count": 76,
      "outputs": []
    },
    {
      "cell_type": "code",
      "source": [
        "\n",
        "# Evaluation our model\n",
        "\n",
        "print('RMSE: ' , np.sqrt(mean_squared_error(y, y_pred_poly)))\n",
        "print('r2_score: ' , r2_score(y, y_pred_poly))"
      ],
      "metadata": {
        "colab": {
          "base_uri": "https://localhost:8080/"
        },
        "id": "SxaQLgB_QWuQ",
        "outputId": "8c138fd9-578a-436b-9390-dca323105102"
      },
      "execution_count": 77,
      "outputs": [
        {
          "output_type": "stream",
          "name": "stdout",
          "text": [
            "RMSE:  1.252954231979586\n",
            "r2_score:  0.008761498070154472\n"
          ]
        }
      ]
    },
    {
      "cell_type": "code",
      "source": [
        "\n",
        "# Mean of the actual scores\n",
        "\n",
        "np.mean(y) \n",
        "     "
      ],
      "metadata": {
        "colab": {
          "base_uri": "https://localhost:8080/"
        },
        "id": "MZ4NB_XbRF8p",
        "outputId": "671b6ef5-b827-4809-f11a-3c1078c20c4f"
      },
      "execution_count": 78,
      "outputs": [
        {
          "output_type": "execute_result",
          "data": {
            "text/plain": [
              "1.4501642935377874"
            ]
          },
          "metadata": {},
          "execution_count": 78
        }
      ]
    },
    {
      "cell_type": "code",
      "source": [
        "# Ten percent of the mean\n",
        "\n",
        "1.6026635099141757 * 0.1"
      ],
      "metadata": {
        "colab": {
          "base_uri": "https://localhost:8080/"
        },
        "id": "1PgqVa5fRI6N",
        "outputId": "fac49562-f04e-46d5-ec67-16ba95ea49f5"
      },
      "execution_count": 79,
      "outputs": [
        {
          "output_type": "execute_result",
          "data": {
            "text/plain": [
              "0.1602663509914176"
            ]
          },
          "metadata": {},
          "execution_count": 79
        }
      ]
    },
    {
      "cell_type": "markdown",
      "source": [
        "Comparing the RMSE score = 1.25 with the 10% of actual scores mean = 0.16, it is above the actual scores mean.\n",
        "\n",
        "This means that the model is not efficient to use for predicting the home team scores.\n",
        "\n",
        "Hence we should try a model with more degrees to improve its efficiency."
      ],
      "metadata": {
        "id": "roWKKimwRbMe"
      }
    },
    {
      "cell_type": "code",
      "source": [
        "\n",
        "# Model 2: Predict how many goals the away team scores given the away team rank\n",
        "\n",
        "#\n",
        "X = df_encoded['rank'].values.reshape(-1, 1)\n",
        "\n",
        "y = df_encoded['away_score'].values.reshape(-1, 1)"
      ],
      "metadata": {
        "id": "zIee5_nERakg"
      },
      "execution_count": 81,
      "outputs": []
    },
    {
      "cell_type": "code",
      "source": [
        "## Split the dataset into train and test sets\n",
        "\n",
        "X_train, X_test, y_train, y_test = train_test_split(X,y, test_size = 0.2, random_state=0)"
      ],
      "metadata": {
        "id": "0pp0-pmiRq-M"
      },
      "execution_count": 82,
      "outputs": []
    },
    {
      "cell_type": "code",
      "source": [
        "\n",
        "# Fitting the polynomial features to the X\n",
        "\n",
        "poly_reg = PolynomialFeatures(degree = 3)\n",
        "X_poly = poly_reg.fit_transform(X)"
      ],
      "metadata": {
        "id": "kHwqAB13Rua7"
      },
      "execution_count": 83,
      "outputs": []
    },
    {
      "cell_type": "code",
      "source": [
        "\n",
        "# Fitting a polynomial Regression to the dataset\n",
        "\n",
        "pol_reg = LinearRegression()\n",
        "pol_reg.fit(X_poly, y)"
      ],
      "metadata": {
        "colab": {
          "base_uri": "https://localhost:8080/"
        },
        "id": "ipCB6cSeRxDM",
        "outputId": "3551609f-da36-45c8-c4a7-b5454077264d"
      },
      "execution_count": 84,
      "outputs": [
        {
          "output_type": "execute_result",
          "data": {
            "text/plain": [
              "LinearRegression()"
            ]
          },
          "metadata": {},
          "execution_count": 84
        }
      ]
    },
    {
      "cell_type": "code",
      "source": [
        " # Visualizing the polynomial Regression results using a scatter plot\n",
        "# Using seaborn to plot\n",
        "# labeling the title\n",
        "# Labeling the x, and y axis.\n",
        "# displaying the chart\n",
        "plt.figure(figsize = (10,7))\n",
        "plt.scatter(X, y, color='red')\n",
        "plt.plot(X, pol_reg.predict(X_poly), color='blue')\n",
        "plt.title('Away_Scores Prediction (Polynomial Regression)')\n",
        "plt.xlabel('Away_rank')\n",
        "plt.ylabel('Away_scores')\n",
        "plt.show()\n",
        "     "
      ],
      "metadata": {
        "colab": {
          "base_uri": "https://localhost:8080/",
          "height": 464
        },
        "id": "QB7Axu2QR2Za",
        "outputId": "7588da01-a850-4874-eb78-fb1ae481f87c"
      },
      "execution_count": 85,
      "outputs": [
        {
          "output_type": "display_data",
          "data": {
            "text/plain": [
              "<Figure size 720x504 with 1 Axes>"
            ],
            "image/png": "[encoded data removed]"
          },
          "metadata": {}
        }
      ]
    },
    {
      "cell_type": "markdown",
      "source": [
        "The curve is not passing through as many points as we'd want hence we can say that this graph is not fully optimized.\n",
        "Underfitting detected."
      ],
      "metadata": {
        "id": "YnoOk0IHSX1E"
      }
    },
    {
      "cell_type": "code",
      "source": [
        "\n",
        "# Making predictions using our model\n",
        "\n",
        "y_pred_poly = pol_reg.predict(X_poly)"
      ],
      "metadata": {
        "id": "idBoEwBDShRL"
      },
      "execution_count": 86,
      "outputs": []
    },
    {
      "cell_type": "code",
      "source": [
        "\n",
        "# Evaluating our model\n",
        "\n",
        "print('RMSE: ' , np.sqrt(mean_squared_error(y, y_pred_poly)))\n",
        "print('r2_score: ' , r2_score(y, y_pred_poly))\n"
      ],
      "metadata": {
        "colab": {
          "base_uri": "https://localhost:8080/"
        },
        "id": "jHTX39zOSj0q",
        "outputId": "87531298-3f57-4c58-bf85-e2075dac6b80"
      },
      "execution_count": 87,
      "outputs": [
        {
          "output_type": "stream",
          "name": "stdout",
          "text": [
            "RMSE:  1.0550594172769379\n",
            "r2_score:  0.0026424103590538817\n"
          ]
        }
      ]
    },
    {
      "cell_type": "code",
      "source": [
        "# Calculating the Mean of the actual scores \n",
        "# We will compare 10% of this mean with the RMSE\n",
        "\n",
        "np.mean(y)\n",
        "     "
      ],
      "metadata": {
        "colab": {
          "base_uri": "https://localhost:8080/"
        },
        "id": "LTgFhKCOSnAr",
        "outputId": "11ea82a2-6d25-4906-9a1c-10cff762e3b7"
      },
      "execution_count": null,
      "outputs": [
        {
          "output_type": "execute_result",
          "data": {
            "text/plain": [
              "1.0687185557857355"
            ]
          },
          "metadata": {},
          "execution_count": 95
        }
      ]
    },
    {
      "cell_type": "markdown",
      "source": [
        "Comparing the RMSE = 1.0 with 10% of the actual mean = 0.1\n",
        "\n",
        "The RMSE is very high\n",
        "\n",
        "Therefore this is not a good model to use for predicting the away score"
      ],
      "metadata": {
        "id": "YkW37I0XSqOD"
      }
    },
    {
      "cell_type": "markdown",
      "source": [
        "##2.Logistic Regression Model"
      ],
      "metadata": {
        "id": "U3I8V4XmSyIs"
      }
    },
    {
      "cell_type": "code",
      "source": [
        "# Viewing the first two observations before splittig our dataset\n",
        "\n",
        "df_encoded.head(2)\n",
        "     "
      ],
      "metadata": {
        "colab": {
          "base_uri": "https://localhost:8080/",
          "height": 176
        },
        "id": "ElFJVHaQSrKe",
        "outputId": "70e68ace-a3fa-42c0-efe1-9f6f29c28598"
      },
      "execution_count": 88,
      "outputs": [
        {
          "output_type": "execute_result",
          "data": {
            "text/plain": [
              "   rank  country  total_points  previous_points  rank_change  confederation  \\\n",
              "0     7       20             0               45           11              3   \n",
              "1    34       36             0               14           35              3   \n",
              "\n",
              "   home_team  away_team  home_score  away_score  tournament  city  neutral  \\\n",
              "0         23        100           1           1          18   195        0   \n",
              "1         46        177           5           0          17   285        0   \n",
              "\n",
              "   Status_home  tournament_type  year  month  \n",
              "0            0                0     0      7  \n",
              "1            2                0     0      7  "
            ],
            "text/html": [
              "\n",
              "  <div id=\"df-0d65628e-0ce2-4aba-adf1-ccb5e1095742\">\n",
              "    <div class=\"colab-df-container\">\n",
              "      <div>\n",
              "<style scoped>\n",
              "    .dataframe tbody tr th:only-of-type {\n",
              "        vertical-align: middle;\n",
              "    }\n",
              "\n",
              "    .dataframe tbody tr th {\n",
              "        vertical-align: top;\n",
              "    }\n",
              "\n",
              "    .dataframe thead th {\n",
              "        text-align: right;\n",
              "    }\n",
              "</style>\n",
              "<table border=\"1\" class=\"dataframe\">\n",
              "  <thead>\n",
              "    <tr style=\"text-align: right;\">\n",
              "      <th></th>\n",
              "      <th>rank</th>\n",
              "      <th>country</th>\n",
              "      <th>total_points</th>\n",
              "      <th>previous_points</th>\n",
              "      <th>rank_change</th>\n",
              "      <th>confederation</th>\n",
              "      <th>home_team</th>\n",
              "      <th>away_team</th>\n",
              "      <th>home_score</th>\n",
              "      <th>away_score</th>\n",
              "      <th>tournament</th>\n",
              "      <th>city</th>\n",
              "      <th>neutral</th>\n",
              "      <th>Status_home</th>\n",
              "      <th>tournament_type</th>\n",
              "      <th>year</th>\n",
              "      <th>month</th>\n",
              "    </tr>\n",
              "  </thead>\n",
              "  <tbody>\n",
              "    <tr>\n",
              "      <th>0</th>\n",
              "      <td>7</td>\n",
              "      <td>20</td>\n",
              "      <td>0</td>\n",
              "      <td>45</td>\n",
              "      <td>11</td>\n",
              "      <td>3</td>\n",
              "      <td>23</td>\n",
              "      <td>100</td>\n",
              "      <td>1</td>\n",
              "      <td>1</td>\n",
              "      <td>18</td>\n",
              "      <td>195</td>\n",
              "      <td>0</td>\n",
              "      <td>0</td>\n",
              "      <td>0</td>\n",
              "      <td>0</td>\n",
              "      <td>7</td>\n",
              "    </tr>\n",
              "    <tr>\n",
              "      <th>1</th>\n",
              "      <td>34</td>\n",
              "      <td>36</td>\n",
              "      <td>0</td>\n",
              "      <td>14</td>\n",
              "      <td>35</td>\n",
              "      <td>3</td>\n",
              "      <td>46</td>\n",
              "      <td>177</td>\n",
              "      <td>5</td>\n",
              "      <td>0</td>\n",
              "      <td>17</td>\n",
              "      <td>285</td>\n",
              "      <td>0</td>\n",
              "      <td>2</td>\n",
              "      <td>0</td>\n",
              "      <td>0</td>\n",
              "      <td>7</td>\n",
              "    </tr>\n",
              "  </tbody>\n",
              "</table>\n",
              "</div>\n",
              "      <button class=\"colab-df-convert\" onclick=\"convertToInteractive('df-0d65628e-0ce2-4aba-adf1-ccb5e1095742')\"\n",
              "              title=\"Convert this dataframe to an interactive table.\"\n",
              "              style=\"display:none;\">\n",
              "        \n",
              "  <svg xmlns=\"http://www.w3.org/2000/svg\" height=\"24px\"viewBox=\"0 0 24 24\"\n",
              "       width=\"24px\">\n",
              "    <path d=\"M0 0h24v24H0V0z\" fill=\"none\"/>\n",
              "    <path d=\"M18.56 5.44l.94 2.06.94-2.06 2.06-.94-2.06-.94-.94-2.06-.94 2.06-2.06.94zm-11 1L8.5 8.5l.94-2.06 2.06-.94-2.06-.94L8.5 2.5l-.94 2.06-2.06.94zm10 10l.94 2.06.94-2.06 2.06-.94-2.06-.94-.94-2.06-.94 2.06-2.06.94z\"/><path d=\"M17.41 7.96l-1.37-1.37c-.4-.4-.92-.59-1.43-.59-.52 0-1.04.2-1.43.59L10.3 9.45l-7.72 7.72c-.78.78-.78 2.05 0 2.83L4 21.41c.39.39.9.59 1.41.59.51 0 1.02-.2 1.41-.59l7.78-7.78 2.81-2.81c.8-.78.8-2.07 0-2.86zM5.41 20L4 18.59l7.72-7.72 1.47 1.35L5.41 20z\"/>\n",
              "  </svg>\n",
              "      </button>\n",
              "      \n",
              "  <style>\n",
              "    .colab-df-container {\n",
              "      display:flex;\n",
              "      flex-wrap:wrap;\n",
              "      gap: 12px;\n",
              "    }\n",
              "\n",
              "    .colab-df-convert {\n",
              "      background-color: #E8F0FE;\n",
              "      border: none;\n",
              "      border-radius: 50%;\n",
              "      cursor: pointer;\n",
              "      display: none;\n",
              "      fill: #1967D2;\n",
              "      height: 32px;\n",
              "      padding: 0 0 0 0;\n",
              "      width: 32px;\n",
              "    }\n",
              "\n",
              "    .colab-df-convert:hover {\n",
              "      background-color: #E2EBFA;\n",
              "      box-shadow: 0px 1px 2px rgba(60, 64, 67, 0.3), 0px 1px 3px 1px rgba(60, 64, 67, 0.15);\n",
              "      fill: #174EA6;\n",
              "    }\n",
              "\n",
              "    [theme=dark] .colab-df-convert {\n",
              "      background-color: #3B4455;\n",
              "      fill: #D2E3FC;\n",
              "    }\n",
              "\n",
              "    [theme=dark] .colab-df-convert:hover {\n",
              "      background-color: #434B5C;\n",
              "      box-shadow: 0px 1px 3px 1px rgba(0, 0, 0, 0.15);\n",
              "      filter: drop-shadow(0px 1px 2px rgba(0, 0, 0, 0.3));\n",
              "      fill: #FFFFFF;\n",
              "    }\n",
              "  </style>\n",
              "\n",
              "      <script>\n",
              "        const buttonEl =\n",
              "          document.querySelector('#df-0d65628e-0ce2-4aba-adf1-ccb5e1095742 button.colab-df-convert');\n",
              "        buttonEl.style.display =\n",
              "          google.colab.kernel.accessAllowed ? 'block' : 'none';\n",
              "\n",
              "        async function convertToInteractive(key) {\n",
              "          const element = document.querySelector('#df-0d65628e-0ce2-4aba-adf1-ccb5e1095742');\n",
              "          const dataTable =\n",
              "            await google.colab.kernel.invokeFunction('convertToInteractive',\n",
              "                                                     [key], {});\n",
              "          if (!dataTable) return;\n",
              "\n",
              "          const docLinkHtml = 'Like what you see? Visit the ' +\n",
              "            '<a target=\"_blank\" href=https://colab.research.google.com/notebooks/data_table.ipynb>data table notebook</a>'\n",
              "            + ' to learn more about interactive tables.';\n",
              "          element.innerHTML = '';\n",
              "          dataTable['output_type'] = 'display_data';\n",
              "          await google.colab.output.renderOutput(dataTable, element);\n",
              "          const docLink = document.createElement('div');\n",
              "          docLink.innerHTML = docLinkHtml;\n",
              "          element.appendChild(docLink);\n",
              "        }\n",
              "      </script>\n",
              "    </div>\n",
              "  </div>\n",
              "  "
            ]
          },
          "metadata": {},
          "execution_count": 88
        }
      ]
    },
    {
      "cell_type": "code",
      "source": [
        "\n",
        "# Splitting our dataset\n",
        "# X: independent variables\n",
        "# y: dependent variable\n",
        "\n",
        "# Splitting the data into train and test sets\n",
        "\n",
        "X = df_encoded.drop([ 'Status_home', 'home_score', 'away_score'], axis = 1)\n",
        "y = df_encoded.Status_home\n",
        "\n",
        "\n",
        "X_train, X_test, y_train, y_test = train_test_split(X, y, test_size = .2, random_state=0)"
      ],
      "metadata": {
        "id": "ujsBDlXHTD2-"
      },
      "execution_count": 89,
      "outputs": []
    },
    {
      "cell_type": "code",
      "source": [
        "from sklearn.linear_model import LinearRegression, LogisticRegression\n",
        "\n",
        "# Fitting our model to our train sets\n",
        "# Logistic Regression model in this case\n",
        "# \n",
        "\n",
        "LogReg = LogisticRegression()\n",
        "LogReg.fit(X_train, y_train)"
      ],
      "metadata": {
        "colab": {
          "base_uri": "https://localhost:8080/"
        },
        "id": "VdLR9j2qTQ2d",
        "outputId": "9af3c471-bb77-4130-84ce-3bee8b982897"
      },
      "execution_count": 90,
      "outputs": [
        {
          "output_type": "stream",
          "name": "stderr",
          "text": [
            "/usr/local/lib/python3.8/dist-packages/sklearn/linear_model/_logistic.py:814: ConvergenceWarning: lbfgs failed to converge (status=1):\n",
            "STOP: TOTAL NO. of ITERATIONS REACHED LIMIT.\n",
            "\n",
            "Increase the number of iterations (max_iter) or scale the data as shown in:\n",
            "    https://scikit-learn.org/stable/modules/preprocessing.html\n",
            "Please also refer to the documentation for alternative solver options:\n",
            "    https://scikit-learn.org/stable/modules/linear_model.html#logistic-regression\n",
            "  n_iter_i = _check_optimize_result(\n"
          ]
        },
        {
          "output_type": "execute_result",
          "data": {
            "text/plain": [
              "LogisticRegression()"
            ]
          },
          "metadata": {},
          "execution_count": 90
        }
      ]
    },
    {
      "cell_type": "code",
      "source": [
        "\n",
        "# Using our model to make a prediction\n",
        "\n",
        "y_pred = LogReg.predict(X_test)"
      ],
      "metadata": {
        "id": "_szZRsQaTgQt"
      },
      "execution_count": 91,
      "outputs": []
    },
    {
      "cell_type": "code",
      "source": [
        "\n",
        "# Evalauting the model\n",
        "\n",
        "# Getting the accuracy score of our model\n",
        "\n",
        "print(accuracy_score(y_test, y_pred))"
      ],
      "metadata": {
        "colab": {
          "base_uri": "https://localhost:8080/"
        },
        "id": "BV4zzQzwTmki",
        "outputId": "0d133c5f-d03f-4a89-bcdb-55a31c7098ee"
      },
      "execution_count": 92,
      "outputs": [
        {
          "output_type": "stream",
          "name": "stdout",
          "text": [
            "0.5300546448087432\n"
          ]
        }
      ]
    },
    {
      "cell_type": "markdown",
      "source": [
        "The model can correctly predict if home team will (won, lost or drew) in a match with an accuracy of 53%\n",
        "\n"
      ],
      "metadata": {
        "id": "BRcoeg0lUdfF"
      }
    },
    {
      "cell_type": "markdown",
      "source": [
        "##  Cross-Validation (Logistic Regression Model)"
      ],
      "metadata": {
        "id": "o3HVSapKUutD"
      }
    },
    {
      "cell_type": "code",
      "source": [
        "# Using KFolds\n",
        "import warnings\n",
        "warnings.filterwarnings('ignore')\n",
        "# Splitting our dataset\n",
        "# independet variables as X\n",
        "# dependent variable as y\n",
        "\n",
        "X = df_encoded.drop([ 'Status_home', 'home_score', 'away_score'], axis = 1).values\n",
        "y = df_encoded.Status_home.values\n",
        "\n",
        "# specifying the number of folds\n",
        "\n",
        "folds = KFold(n_splits = 5)\n",
        "\n",
        "\n",
        "# We now create and assess 10 models based on the folds we created.\n",
        "\n",
        "RMSES = [] # An array of RMSEs to keep track of the RSME of each model\n",
        "count = 1   # starting point # helps to keep track of the model number in training\n",
        "\n",
        "for train_index, test_index in folds.split(X):\n",
        "  print('\\nTraining model ' + str(count))\n",
        "  \n",
        "  # Setting up the train and test based on the split determined by KFold\n",
        "  # With 10 folds we split our data into training and test sets\n",
        "  \n",
        "  X_train, X_test = X[train_index], X[test_index]\n",
        "  y_train, y_test = y[train_index], y[test_index]\n",
        "  \n",
        "  # fitting a Logistic regression model\n",
        "  LogReg = LogisticRegression()  \n",
        "  LogReg.fit(X_train, y_train)\n",
        "  \n",
        "  # Assess the accuracy of the model\n",
        "  y_pred = LogReg.predict(X_test)\n",
        "  \n",
        "  # Calculating the RMSES of each model\n",
        "  # Appending each RMSE into the list earlier created\n",
        "  rmse_value =  np.sqrt(metrics.mean_squared_error(y_test, y_pred))\n",
        "  RMSES.append(rmse_value)\n",
        "  \n",
        "  \n",
        "  # printing each model RMSE\n",
        "  print('Model ' + str(count) + ' Root Mean Squared Error:',rmse_value)\n",
        "  count = count + 1\n",
        "  "
      ],
      "metadata": {
        "id": "iSa5N02RU6bq",
        "colab": {
          "base_uri": "https://localhost:8080/"
        },
        "outputId": "74b0cd49-1950-46f9-d8b6-5f03169cb77e"
      },
      "execution_count": 94,
      "outputs": [
        {
          "output_type": "stream",
          "name": "stdout",
          "text": [
            "\n",
            "Training model 1\n",
            "Model 1 Root Mean Squared Error: 1.1210845646484016\n",
            "\n",
            "Training model 2\n",
            "Model 2 Root Mean Squared Error: 1.178124841464818\n",
            "\n",
            "Training model 3\n",
            "Model 3 Root Mean Squared Error: 1.0661200785361484\n",
            "\n",
            "Training model 4\n",
            "Model 4 Root Mean Squared Error: 1.0690449676496976\n",
            "\n",
            "Training model 5\n",
            "Model 5 Root Mean Squared Error: 1.1531133203941102\n"
          ]
        }
      ]
    },
    {
      "cell_type": "code",
      "source": [
        "\n",
        "# Printing the mean and the standard deviation of the RMSES in all the 10 models\n",
        "\n",
        "print(np.mean(RMSES))\n",
        "print(np.std(RMSES))\n",
        " "
      ],
      "metadata": {
        "colab": {
          "base_uri": "https://localhost:8080/"
        },
        "id": "P676soBTXJJl",
        "outputId": "7d5d58fd-bb54-478b-f4f2-9d7b2b0b5f1d"
      },
      "execution_count": 95,
      "outputs": [
        {
          "output_type": "stream",
          "name": "stdout",
          "text": [
            "1.1174975545386352\n",
            "0.04459667152522805\n"
          ]
        }
      ]
    },
    {
      "cell_type": "markdown",
      "source": [
        "##Heteroskedasticity"
      ],
      "metadata": {
        "id": "GB6IGlTwX2gR"
      }
    },
    {
      "cell_type": "code",
      "source": [
        "# First: splitting our dataset \n",
        "# Into the feature set and the target variable\n",
        "\n",
        "X = df_encoded.drop([ 'Status_home', 'home_score', 'away_score'], axis = 1)\n",
        "y = df_encoded.Status_home\n",
        "\n",
        "# Split the dataset into train and test sets\n",
        "\n",
        "X_train, X_test, y_train, y_test = train_test_split(X,y, test_size = 0.2, random_state=0)\n",
        "\n",
        "# Fitting a Logistic model\n",
        "\n",
        "LogReg = LogisticRegression()\n",
        "LogReg.fit(X_train, y_train)\n",
        "\n",
        "# Using our model to make a prediction\n",
        "\n",
        "y_pred = LogReg.predict(X_test)\n",
        "\n",
        "# We now create the residual by subtracting the test value from the predicted \n",
        "# value for each row in our dataset\n",
        "\n",
        "residuals = np.subtract(y_pred, y_test)\n",
        "\n",
        "# Creating a summary description of the residuals:\n",
        "\n",
        "pd.DataFrame(residuals).describe()\n",
        "\n",
        "residuals.mean()"
      ],
      "metadata": {
        "colab": {
          "base_uri": "https://localhost:8080/"
        },
        "id": "Lx4w9jzQX3_1",
        "outputId": "827f594b-3444-40bb-e82c-35a063e8f27a"
      },
      "execution_count": 97,
      "outputs": [
        {
          "output_type": "execute_result",
          "data": {
            "text/plain": [
              "0.6612021857923497"
            ]
          },
          "metadata": {},
          "execution_count": 97
        }
      ]
    },
    {
      "cell_type": "markdown",
      "source": [
        "The mean is 0.66 indicating that we tend to be fairly accurate."
      ],
      "metadata": {
        "id": "noMVqA4PYJvT"
      }
    },
    {
      "cell_type": "markdown",
      "source": [
        "##Residual Plots"
      ],
      "metadata": {
        "id": "kqCBRwDcYV8b"
      }
    },
    {
      "cell_type": "code",
      "source": [
        "\n",
        "# Visualizing the residuals using a scatter plot \n",
        "# Using seaborn to plot\n",
        "# labeling the title\n",
        "# Labeling the x, and y axis.\n",
        "# displaying the chart\n",
        "\n",
        "plt.scatter(y_pred, residuals, color='black')\n",
        "plt.ylabel('residual')\n",
        "plt.xlabel('fitted values')\n",
        "plt.axhline(y= residuals.mean(), color='red', linewidth=1)\n",
        "plt.show()\n",
        "     "
      ],
      "metadata": {
        "colab": {
          "base_uri": "https://localhost:8080/",
          "height": 285
        },
        "id": "8n53xEOmYY77",
        "outputId": "7d481573-e480-4332-dc47-9e806be7184d"
      },
      "execution_count": 98,
      "outputs": [
        {
          "output_type": "display_data",
          "data": {
            "text/plain": [
              "<Figure size 432x288 with 1 Axes>"
            ],
            "image/png": "[encoded data removed]"
          },
          "metadata": {}
        }
      ]
    },
    {
      "cell_type": "markdown",
      "source": [
        "From the plot we can see that there is a constant variance.\n",
        "\n",
        "Hence the homoscedasticity assumption is not violated."
      ],
      "metadata": {
        "id": "qXmI5XaJYjej"
      }
    },
    {
      "cell_type": "markdown",
      "source": [
        "###Barlett's test"
      ],
      "metadata": {
        "id": "Uzvwfz99Yr9F"
      }
    },
    {
      "cell_type": "code",
      "source": [
        "import scipy as sp\n",
        "\n",
        "# Carrying out Barlett's test \n",
        "# It is a more thorough heteroskedasticity test.\n",
        "\n",
        "test_result, p_value = sp.stats.bartlett(y_pred, residuals)\n",
        "\n",
        "# To interpret the results we must also compute a critical value of the chi squared distribution\n",
        "degree_of_freedom = len(y_pred)-1\n",
        "probability = 1 - p_value\n",
        "\n",
        "\n",
        "critical_value = sp.stats.chi2.ppf(probability, degree_of_freedom)\n",
        "print(p_value)\n",
        "\n",
        "# If the test_result is greater than the critical value, then we reject our null\n",
        "# hypothesis. This would mean that there are patterns to the variance of the data\n",
        "\n",
        "# Otherwise, we can identify no patterns, and we accept the null hypothesis that \n",
        "# the variance is homogeneous across our data\n",
        "\n",
        "if (test_result > critical_value):\n",
        "  print('the variances are unequal, and the model should be reassessed')\n",
        "else:\n",
        "  print('The variances are Homogeneous!')"
      ],
      "metadata": {
        "colab": {
          "base_uri": "https://localhost:8080/"
        },
        "id": "qEB2GnrmYrHj",
        "outputId": "04c0b322-2df5-4247-c0b8-07fda1744309"
      },
      "execution_count": 99,
      "outputs": [
        {
          "output_type": "stream",
          "name": "stdout",
          "text": [
            "4.07319558812148e-23\n",
            "The variances are Homogeneous!\n"
          ]
        }
      ]
    },
    {
      "cell_type": "markdown",
      "source": [
        "#Challenging the solution"
      ],
      "metadata": {
        "id": "ZJikl2-FZzKd"
      }
    },
    {
      "cell_type": "code",
      "source": [
        "from sklearn.model_selection import GridSearchCV# Using Hyperparameter Tuning\n",
        "\n",
        "# Splitting the dataset into independent variables and target variable\n",
        "\n",
        "X = df_encoded.drop([ 'Status_home', 'home_score', 'away_score'], axis = 1)\n",
        "y = df_encoded.Status_home\n",
        "# Creating the logistic Regression\n",
        "\n",
        "logistic = LogisticRegression()\n",
        "# Creating regularization penalty space    \n",
        "#  penalty term is a constraint region or a budget \n",
        "# Regulization helps to select the preferred model complexity \n",
        "# so that the model is better at predicting\n",
        "\n",
        "# L1: uses absolute values in the penalty function\n",
        "# L2: minimizes the sum of errors\n",
        "\n",
        "penalty = ['l1', 'l2']\n",
        "\n",
        "# Creating regularization hyperparameter space\n",
        "\n",
        "C = np.logspace(0, 4, 10)\n",
        "\n",
        "# Creating hyperparameters options\n",
        "\n",
        "hyperparameters = dict(C=C, penalty = penalty)\n",
        "\n",
        "# Creating grid search using 10-fold cross validation\n",
        "\n",
        "clf = GridSearchCV(logistic, hyperparameters, cv=10, verbose=0)\n",
        "\n",
        "# Fitting grid search\n",
        "best_model = clf.fit(X, y)\n",
        "\n",
        "# Finding out the best hyperparameters available to tune the Logistic Regression model\n",
        "best_model"
      ],
      "metadata": {
        "colab": {
          "base_uri": "https://localhost:8080/"
        },
        "id": "jR831WBPZyKl",
        "outputId": "502f9555-32ba-47fb-8d77-c44df9a7d3f0"
      },
      "execution_count": 100,
      "outputs": [
        {
          "output_type": "execute_result",
          "data": {
            "text/plain": [
              "GridSearchCV(cv=10, estimator=LogisticRegression(),\n",
              "             param_grid={'C': array([1.00000000e+00, 2.78255940e+00, 7.74263683e+00, 2.15443469e+01,\n",
              "       5.99484250e+01, 1.66810054e+02, 4.64158883e+02, 1.29154967e+03,\n",
              "       3.59381366e+03, 1.00000000e+04]),\n",
              "                         'penalty': ['l1', 'l2']})"
            ]
          },
          "metadata": {},
          "execution_count": 100
        }
      ]
    },
    {
      "cell_type": "code",
      "source": [
        "\n",
        "# Viewing best hyperparameters\n",
        "\n",
        "print('Best Penalty:', best_model.best_estimator_.get_params()['penalty'])\n",
        "print('Best C:', best_model.best_estimator_.get_params()['C'])\n",
        "best_model.best_score_\n",
        "     "
      ],
      "metadata": {
        "colab": {
          "base_uri": "https://localhost:8080/"
        },
        "id": "LiuShFJ9bHRV",
        "outputId": "864f5e4f-d1e5-4e34-f226-c809feea8d0a"
      },
      "execution_count": null,
      "outputs": [
        {
          "output_type": "stream",
          "name": "stdout",
          "text": [
            "Best Penalty: l2\n",
            "Best C: 1291.5496650148827\n"
          ]
        },
        {
          "output_type": "execute_result",
          "data": {
            "text/plain": [
              "0.5783351375590752"
            ]
          },
          "metadata": {},
          "execution_count": 124
        }
      ]
    },
    {
      "cell_type": "code",
      "source": [
        "# Predicting target vector\n",
        "\n",
        "best_model.predict(X)\n",
        "     "
      ],
      "metadata": {
        "colab": {
          "base_uri": "https://localhost:8080/"
        },
        "id": "APdC2znXbNfs",
        "outputId": "063a8a22-2197-4a74-d551-7c9b9cec8c74"
      },
      "execution_count": 101,
      "outputs": [
        {
          "output_type": "execute_result",
          "data": {
            "text/plain": [
              "array([2, 2, 2, 2, 2, 2, 2, 2, 2, 2, 2, 2, 2, 2, 2, 2, 2, 2, 1, 2, 2, 2,\n",
              "       2, 2, 2, 2, 2, 2, 2, 2, 2, 2, 2, 2, 2, 2, 2, 2, 1, 2, 2, 2, 2, 2,\n",
              "       1, 2, 2, 2, 2, 2, 2, 2, 2, 2, 2, 2, 2, 1, 1, 2, 2, 2, 2, 2, 0, 2,\n",
              "       2, 2, 2, 2, 2, 2, 2, 2, 2, 2, 2, 2, 2, 1, 2, 2, 2, 0, 2, 2, 2, 2,\n",
              "       2, 2, 2, 2, 2, 2, 2, 2, 2, 2, 2, 2, 2, 2, 2, 2, 0, 2, 2, 2, 2, 2,\n",
              "       2, 2, 2, 2, 2, 2, 2, 2, 2, 2, 2, 0, 2, 2, 2, 2, 2, 2, 2, 2, 2, 2,\n",
              "       2, 2, 2, 2, 2, 0, 2, 2, 2, 2, 2, 2, 2, 2, 2, 2, 1, 2, 2, 2, 2, 2,\n",
              "       2, 2, 2, 2, 2, 2, 2, 2, 2, 2, 2, 2, 2, 2, 2, 2, 2, 2, 2, 2, 2, 2,\n",
              "       2, 2, 2, 2, 2, 2, 2, 2, 2, 2, 2, 2, 2, 1, 2, 2, 1, 1, 1, 2, 2, 2,\n",
              "       2, 2, 2, 2, 2, 2, 2, 2, 2, 2, 2, 2, 2, 2, 2, 2, 2, 2, 1, 2, 2, 2,\n",
              "       2, 2, 2, 2, 2, 2, 2, 2, 2, 2, 2, 2, 2, 2, 2, 2, 2, 2, 2, 2, 2, 2,\n",
              "       1, 2, 2, 2, 1, 2, 2, 2, 2, 2, 2, 1, 2, 2, 1, 2, 2, 2, 2, 2, 1, 2,\n",
              "       1, 2, 2, 2, 2, 2, 2, 2, 2, 2, 2, 2, 2, 2, 2, 2, 2, 2, 2, 2, 2, 2,\n",
              "       2, 2, 2, 2, 2, 2, 2, 2, 2, 2, 2, 2, 2, 2, 2, 2, 2, 2, 2, 2, 2, 2,\n",
              "       2, 2, 1, 1, 2, 2, 2, 1, 2, 2, 2, 2, 2, 2, 2, 2, 2, 2, 2, 2, 2, 2,\n",
              "       2, 2, 2, 2, 2, 2, 2, 2, 2, 2, 2, 2, 2, 2, 2, 2, 2, 2, 2, 2, 2, 2,\n",
              "       2, 2, 2, 2, 2, 2, 2, 2, 2, 2, 2, 2, 2, 2, 2, 2, 2, 2, 2, 2, 2, 2,\n",
              "       2, 2, 2, 0, 1, 0, 2, 2, 2, 2, 2, 2, 2, 2, 2, 2, 2, 2, 2, 2, 2, 2,\n",
              "       2, 2, 2, 2, 2, 2, 2, 2, 2, 2, 2, 2, 2, 2, 2, 2, 2, 2, 2, 2, 2, 1,\n",
              "       1, 2, 2, 2, 2, 2, 2, 2, 2, 2, 1, 2, 2, 2, 2, 2, 2, 2, 2, 2, 2, 2,\n",
              "       2, 2, 2, 2, 2, 2, 2, 2, 2, 2, 2, 2, 2, 2, 2, 2, 2, 2, 2, 2, 2, 2,\n",
              "       2, 2, 2, 2, 2, 2, 2, 2, 2, 2, 2, 2, 2, 2, 2, 2, 2, 2, 2, 2, 2, 2,\n",
              "       2, 2, 2, 2, 2, 1, 2, 1, 2, 2, 2, 2, 2, 2, 2, 2, 2, 2, 2, 2, 2, 2,\n",
              "       2, 2, 2, 2, 2, 2, 2, 2, 2, 2, 2, 2, 2, 2, 2, 2, 2, 2, 2, 2, 1, 2,\n",
              "       2, 2, 1, 2, 2, 1, 2, 1, 2, 1, 2, 1, 2, 2, 2, 2, 2, 1, 2, 2, 2, 2,\n",
              "       2, 2, 2, 2, 2, 2, 2, 2, 2, 2, 2, 2, 2, 2, 2, 2, 2, 2, 2, 2, 2, 2,\n",
              "       2, 2, 2, 0, 2, 2, 2, 2, 2, 0, 2, 2, 2, 2, 2, 2, 2, 1, 0, 2, 2, 2,\n",
              "       2, 2, 2, 1, 1, 2, 2, 2, 2, 2, 0, 2, 1, 2, 2, 2, 2, 2, 2, 2, 2, 2,\n",
              "       1, 2, 2, 2, 2, 2, 2, 2, 2, 2, 2, 2, 2, 2, 1, 2, 2, 2, 2, 2, 2, 2,\n",
              "       0, 2, 2, 2, 2, 2, 2, 2, 2, 2, 2, 2, 2, 2, 2, 1, 2, 2, 2, 2, 2, 1,\n",
              "       1, 2, 2, 1, 2, 2, 0, 1, 2, 2, 2, 2, 2, 2, 2, 2, 2, 2, 2, 2, 2, 2,\n",
              "       2, 1, 2, 2, 2, 2, 2, 2, 2, 2, 2, 2, 2, 2, 2, 2, 2, 2, 2, 2, 2, 2,\n",
              "       2, 2, 2, 2, 2, 1, 1, 2, 2, 2, 2, 2, 2, 2, 2, 2, 2, 2, 2, 2, 2, 2,\n",
              "       2, 2, 2, 2, 2, 2, 2, 2, 2, 2, 2, 2, 2, 2, 2, 2, 2, 2, 2, 2, 2, 2,\n",
              "       2, 2, 2, 2, 2, 2, 2, 2, 2, 2, 2, 2, 2, 2, 2, 2, 2, 2, 2, 2, 2, 0,\n",
              "       2, 2, 2, 2, 2, 2, 2, 2, 2, 2, 2, 2, 2, 2, 2, 2, 2, 2, 2, 2, 2, 2,\n",
              "       2, 2, 2, 2, 2, 2, 2, 2, 2, 2, 2, 2, 2, 0, 0, 0, 0, 0, 2, 2, 2, 2,\n",
              "       2, 0, 1, 2, 2, 2, 2, 2, 2, 2, 2, 2, 2, 1, 2, 2, 2, 2, 2, 2, 2, 2,\n",
              "       0, 2, 2, 2, 2, 0, 2, 2, 2, 2, 2, 2, 2, 2, 2, 2, 2, 2, 2, 2, 2, 2,\n",
              "       2, 2, 2, 2, 2, 2, 2, 2, 2, 2, 2, 2, 2, 2, 2, 2, 2, 2, 2, 2, 2, 2,\n",
              "       2, 2, 2, 2, 0, 2, 1, 2, 2, 2, 1, 2, 2, 2, 2, 2, 2, 2, 2, 2, 2, 2,\n",
              "       2, 2, 2, 2, 2, 2, 2, 2, 2, 2, 2])"
            ]
          },
          "metadata": {},
          "execution_count": 101
        }
      ]
    },
    {
      "cell_type": "code",
      "source": [
        "\n",
        "# Using XGBOOST \n",
        "\n",
        "# Tuning the parameters\n",
        "\n",
        "import xgboost as xgb\n",
        "\n",
        "gbm = xgb.XGBClassifier(max_depth=3, n_estimators=300, learning_rate=0.05).fit(X, y)\n",
        "\n",
        "predictions = gbm.predict(X_test)\n",
        "\n",
        "print(accuracy_score(y_test, predictions))\n"
      ],
      "metadata": {
        "colab": {
          "base_uri": "https://localhost:8080/"
        },
        "id": "0Q-wEdAqbQ2O",
        "outputId": "4552979c-209f-400a-edb5-0f9c00c4d503"
      },
      "execution_count": 102,
      "outputs": [
        {
          "output_type": "stream",
          "name": "stdout",
          "text": [
            "0.7595628415300546\n"
          ]
        }
      ]
    },
    {
      "cell_type": "markdown",
      "source": [
        "##Conclusion\n",
        ". 1.Predicting whether home team wins, loses or draws in a match\n",
        "\n",
        "The best accuracy score using two hyperparameters is 57%\n",
        "Using XGboost algorithm the accuracy score was 75%\n",
        "Therefore, another algorithm can be considered to improve the accuracy score or more hyperparameters should be tuned\n",
        "*****\n",
        "2. Predicting the rank of a team\n",
        "\n",
        "None of the  regularized regression models is a good fit to predict the rank; they all have RMSE scores greater than the mean of the actual.\n",
        "Since this is also more of a classification problem, using regressions is not the best approach though this project was restrictive."
      ],
      "metadata": {
        "id": "8MAJhXZ8brGO"
      }
    }
  ],
  "metadata": {
    "colab": {
      "provenance": [],
      "include_colab_link": true
    },
    "kernelspec": {
      "display_name": "Python 3",
      "name": "python3"
    },
    "language_info": {
      "name": "python"
    }
  },
  "nbformat": 4,
  "nbformat_minor": 0
}